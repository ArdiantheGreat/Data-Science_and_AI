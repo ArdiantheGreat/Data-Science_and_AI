{
 "cells": [
  {
   "cell_type": "markdown",
   "id": "62480ff6-d08f-4fbf-b4b7-a4d272c75fcb",
   "metadata": {},
   "source": [
    "Import Libraries"
   ]
  },
  {
   "cell_type": "code",
   "execution_count": 10,
   "id": "ee5b7119-68ca-4c52-aef2-7e55ae1e7b0c",
   "metadata": {},
   "outputs": [],
   "source": [
    "import sqlite3\n",
    "import requests\n",
    "from tqdm import tqdm\n",
    "\n",
    "from flask import Flask, request\n",
    "import json \n",
    "import numpy as np\n",
    "import pandas as pd"
   ]
  },
  {
   "cell_type": "markdown",
   "id": "86774391-698b-41d4-a2fa-c9943a8e1ded",
   "metadata": {},
   "source": [
    "# Introduction\n",
    "In most cases when we are running a business, there are a lot of data stakeholder outside our company. The problem is that we need to provide the access in a way that they will not break our security rules or concerns. One way to solve that is by creating an API for the database. In this project, we will introduce you on how python is used for data transaction management using Flask API. \n",
    "\n",
    "**Usecase**: Bikeshare App\\\n",
    "Have you ever rent a bike for faster mobility in town? In the past few years, this business once become a phenomenom. In Indonesia, there are lots of similar services, for example, the Jakarta government's \"GOWES\" bike sharing service that launcehd in July 2020. \n",
    "\n",
    "For the user perspective, the general journey is denoted as follows:\n",
    "- User scan the bike located at some bike station, sending the data to database as the intent of \"start riding\"\n",
    "- Once user has reached its destination station, he/she put back the bike, sending the data again to the database as the intent of \"finished riding\"\n",
    "\n",
    "For each activity, there are data transactions between user and database. And how do you think each user's phone communicate with the server for storing and receiving the data? Using API ofcourse! \n",
    "\n",
    "We will later create a simplified version of the API service which handles data transactions and analysis. \n",
    "\n",
    "\n",
    "**Goals**: Make an API service to connect 3rd party user with data using HTTP request\n",
    "\n",
    "**End Product**: A Flask API which capable of doing: \n",
    "- Input new data to database\n",
    "- Read specific data from database\n",
    "- Get specific insight from data analysis process (ie: best performing stations)\n",
    "\n",
    "**Scoring Metrics**: \n",
    "\n",
    "1. 1 point - Created Flask App\n",
    "\n",
    "-  create app.py file to make flask app\n",
    "-  create Flask app to execute all of the endpoint you have made\n",
    "\n",
    "2. 2 points - Created functionality to read or get specific data from the database\n",
    "\n",
    "- create query to read data from database\n",
    "- create function to execute read specific information into table from database\n",
    "\n",
    "3. 4 points - Created functionality to input new data into each table for the databases\n",
    "\n",
    "- create query to insert new data into stations and trips table\n",
    "- create function to execute input data into stations and trips table\n",
    "\n",
    "4. 3 points - Created static endpoints which return analytical result (must be different from point 2,3)\n",
    "\n",
    "- create query to make analytical resultfrom the data\n",
    "- create static endpoint to analyze the data from database, for example average trip durations\n",
    "    \n",
    "5. 3 points - Created dynamic endpoints which return analytical result (must be different from point 2,3,4)\n",
    "\n",
    "- create query to make analytical resultfrom the data\n",
    "- create dinamic endpoint to analyze the data from database, for example average trip durations for each bike_id\n",
    "\n",
    "6. 3 points - Created POST endpoint which receive input data, then utilize it to get analytical result (must be different from point 2,3,4,5)\n",
    "\n",
    "- create input data for refering into query for post endpoint\n",
    "- make query and aggregation function to implement the input\n",
    "\n",
    "**Tools**: \n",
    "- **Python** with **Jupyter Notebook**, installed with **required libraries**\n",
    "- **Visual Studio Code (VSCode)**: Recommended for writing application scripts\n",
    "- **TablePlus**: Recommended for easy database access and exploration\n",
    "- Postman: Optional for easy API testing\n"
   ]
  },
  {
   "cell_type": "markdown",
   "id": "7f0d31b3-764f-4d0a-941d-443c5a502e1f",
   "metadata": {},
   "source": [
    "# About the Data"
   ]
  },
  {
   "cell_type": "markdown",
   "id": "89ec6608-cf50-4f15-993c-99f186ece82c",
   "metadata": {},
   "source": [
    "The data that we will be using in this project is **[Austin Bike Share]()** dataset which contains information on bike trip start location, stop location, duration, type of bike share user in the city of Austin, Texas. Bike station location data is also provided. \n",
    "\n",
    "All the information is stored in a database called **austin_bikeshare.db**. However, we also provides the non existing data in csv files. These data then will be imported into the database using the API"
   ]
  },
  {
   "cell_type": "markdown",
   "id": "3c4833d3-015d-4f4a-b00d-21e00af777fc",
   "metadata": {},
   "source": [
    "Lists of files:\n",
    "- **austin_bikeshare.db**: The database, contains `trips` and `stations` table\n",
    "- **data/austin_bikeshare_stations.csv**: contains all the stations information which is not yet available in the database table\n",
    "- **data/austin_bikeshare_trips_2021.csv**: contains all 2021 data which is not yet available in the database table"
   ]
  },
  {
   "cell_type": "code",
   "execution_count": 2,
   "id": "52e3d146-1a21-4b1a-9ffc-817f4f084375",
   "metadata": {},
   "outputs": [],
   "source": [
    "# Reading the csv data\n",
    "trips = pd.read_csv('data/austin_bikeshare_trips_2021.csv')\n",
    "stations = pd.read_csv('data/austin_bikeshare_stations.csv')"
   ]
  },
  {
   "cell_type": "markdown",
   "id": "60bb1c45-5b3d-4987-beb7-7aafaa6b4609",
   "metadata": {},
   "source": [
    "## Taking a look for trips data\n",
    "`trips` table in database, or `austin_bikeshare_trips.csv` in original files. It roughly consisted of 1.3 million rows"
   ]
  },
  {
   "cell_type": "code",
   "execution_count": 3,
   "id": "69039e08-e759-4950-9253-3ad44c59cddf",
   "metadata": {},
   "outputs": [
    {
     "data": {
      "text/html": [
       "<div>\n",
       "<style scoped>\n",
       "    .dataframe tbody tr th:only-of-type {\n",
       "        vertical-align: middle;\n",
       "    }\n",
       "\n",
       "    .dataframe tbody tr th {\n",
       "        vertical-align: top;\n",
       "    }\n",
       "\n",
       "    .dataframe thead th {\n",
       "        text-align: right;\n",
       "    }\n",
       "</style>\n",
       "<table border=\"1\" class=\"dataframe\">\n",
       "  <thead>\n",
       "    <tr style=\"text-align: right;\">\n",
       "      <th></th>\n",
       "      <th>trip_id</th>\n",
       "      <th>subscriber_type</th>\n",
       "      <th>bikeid</th>\n",
       "      <th>start_time</th>\n",
       "      <th>start_station_id</th>\n",
       "      <th>start_station_name</th>\n",
       "      <th>end_station_id</th>\n",
       "      <th>end_station_name</th>\n",
       "      <th>duration_minutes</th>\n",
       "    </tr>\n",
       "  </thead>\n",
       "  <tbody>\n",
       "    <tr>\n",
       "      <th>0</th>\n",
       "      <td>23455589</td>\n",
       "      <td>Local365</td>\n",
       "      <td>174</td>\n",
       "      <td>2021-01-26 17:47:42 UTC</td>\n",
       "      <td>4059.0</td>\n",
       "      <td>Nash Hernandez/East @ RBJ South</td>\n",
       "      <td>3660.0</td>\n",
       "      <td>East 6th/Medina</td>\n",
       "      <td>7</td>\n",
       "    </tr>\n",
       "    <tr>\n",
       "      <th>1</th>\n",
       "      <td>23459960</td>\n",
       "      <td>Local365</td>\n",
       "      <td>19265</td>\n",
       "      <td>2021-01-28 08:03:52 UTC</td>\n",
       "      <td>4054.0</td>\n",
       "      <td>Rosewood/Chicon</td>\n",
       "      <td>4055.0</td>\n",
       "      <td>11th/Salina</td>\n",
       "      <td>16</td>\n",
       "    </tr>\n",
       "  </tbody>\n",
       "</table>\n",
       "</div>"
      ],
      "text/plain": [
       "    trip_id subscriber_type bikeid               start_time  start_station_id   \n",
       "0  23455589        Local365    174  2021-01-26 17:47:42 UTC            4059.0  \\\n",
       "1  23459960        Local365  19265  2021-01-28 08:03:52 UTC            4054.0   \n",
       "\n",
       "                start_station_name  end_station_id end_station_name   \n",
       "0  Nash Hernandez/East @ RBJ South          3660.0  East 6th/Medina  \\\n",
       "1                  Rosewood/Chicon          4055.0     11th/Salina    \n",
       "\n",
       "   duration_minutes  \n",
       "0                 7  \n",
       "1                16  "
      ]
     },
     "execution_count": 3,
     "metadata": {},
     "output_type": "execute_result"
    }
   ],
   "source": [
    "trips.head(2)"
   ]
  },
  {
   "cell_type": "markdown",
   "id": "01ee13e1-1110-45fe-8831-1bf7604d6f87",
   "metadata": {},
   "source": [
    "**Data Descriptions**:\n",
    "- `bikeid`: integer id of bike\n",
    "- `checkout_time`: HH:MM:SS, see start time for date stamp\n",
    "- `duration_minutes`: int minutes of trip duration\n",
    "- `endstationid`: integer id of end station\n",
    "- `endstationname`: string of end station name\n",
    "- `month`: month, integer\n",
    "- `startstationid`: integer id of start station\n",
    "- `startstationname`: string of start station name\n",
    "- `start_time`: YYYY-MM-DD HH:MM:SS\n",
    "- `subscriber_type`: membership typ e.g. walk up, annual, other bike share, etc\n",
    "- `trip_id`: unique trip id int\n",
    "- `year`: year of trip, int"
   ]
  },
  {
   "cell_type": "markdown",
   "id": "44fd2bdd-a1e9-4734-b7a7-8ddc8f3ee0e2",
   "metadata": {},
   "source": [
    "## Taking a look for stations data\n",
    "`stations` table in database, or `austin_bikeshare_stations.csv` in original files "
   ]
  },
  {
   "cell_type": "code",
   "execution_count": 4,
   "id": "de5298bf-64a9-4565-a83d-ce1f4d1f4403",
   "metadata": {},
   "outputs": [
    {
     "data": {
      "text/html": [
       "<div>\n",
       "<style scoped>\n",
       "    .dataframe tbody tr th:only-of-type {\n",
       "        vertical-align: middle;\n",
       "    }\n",
       "\n",
       "    .dataframe tbody tr th {\n",
       "        vertical-align: top;\n",
       "    }\n",
       "\n",
       "    .dataframe thead th {\n",
       "        text-align: right;\n",
       "    }\n",
       "</style>\n",
       "<table border=\"1\" class=\"dataframe\">\n",
       "  <thead>\n",
       "    <tr style=\"text-align: right;\">\n",
       "      <th></th>\n",
       "      <th>station_id</th>\n",
       "      <th>name</th>\n",
       "      <th>status</th>\n",
       "      <th>address</th>\n",
       "      <th>alternate_name</th>\n",
       "      <th>city_asset_number</th>\n",
       "      <th>property_type</th>\n",
       "      <th>number_of_docks</th>\n",
       "      <th>power_type</th>\n",
       "      <th>footprint_length</th>\n",
       "      <th>footprint_width</th>\n",
       "      <th>notes</th>\n",
       "      <th>council_district</th>\n",
       "      <th>modified_date</th>\n",
       "    </tr>\n",
       "  </thead>\n",
       "  <tbody>\n",
       "    <tr>\n",
       "      <th>96</th>\n",
       "      <td>3795</td>\n",
       "      <td>Dean Keeton &amp; Whitis</td>\n",
       "      <td>active</td>\n",
       "      <td>300 W. Dean Keeton St.</td>\n",
       "      <td>NaN</td>\n",
       "      <td>32671.0</td>\n",
       "      <td>undetermined_parking</td>\n",
       "      <td>19.0</td>\n",
       "      <td>solar</td>\n",
       "      <td>55.0</td>\n",
       "      <td>5.0</td>\n",
       "      <td>NaN</td>\n",
       "      <td>9</td>\n",
       "      <td>2021-01-04T12:00:00Z</td>\n",
       "    </tr>\n",
       "    <tr>\n",
       "      <th>97</th>\n",
       "      <td>3797</td>\n",
       "      <td>21st &amp; University</td>\n",
       "      <td>active</td>\n",
       "      <td>2007 University Ave.</td>\n",
       "      <td>NaN</td>\n",
       "      <td>32674.0</td>\n",
       "      <td>undetermined_parking</td>\n",
       "      <td>19.0</td>\n",
       "      <td>solar</td>\n",
       "      <td>55.0</td>\n",
       "      <td>5.0</td>\n",
       "      <td>ROW might belong to UT</td>\n",
       "      <td>9</td>\n",
       "      <td>2021-01-04T12:00:00Z</td>\n",
       "    </tr>\n",
       "  </tbody>\n",
       "</table>\n",
       "</div>"
      ],
      "text/plain": [
       "    station_id                  name  status                 address   \n",
       "96        3795  Dean Keeton & Whitis  active  300 W. Dean Keeton St.  \\\n",
       "97        3797     21st & University  active    2007 University Ave.   \n",
       "\n",
       "   alternate_name  city_asset_number         property_type  number_of_docks   \n",
       "96            NaN            32671.0  undetermined_parking             19.0  \\\n",
       "97            NaN            32674.0  undetermined_parking             19.0   \n",
       "\n",
       "   power_type  footprint_length  footprint_width                   notes   \n",
       "96      solar              55.0              5.0                     NaN  \\\n",
       "97      solar              55.0              5.0  ROW might belong to UT   \n",
       "\n",
       "    council_district         modified_date  \n",
       "96                 9  2021-01-04T12:00:00Z  \n",
       "97                 9  2021-01-04T12:00:00Z  "
      ]
     },
     "execution_count": 4,
     "metadata": {},
     "output_type": "execute_result"
    }
   ],
   "source": [
    "stations.tail(2)"
   ]
  },
  {
   "cell_type": "markdown",
   "id": "fb167853-53c1-4bd5-aea4-3bcf0d0cba5e",
   "metadata": {},
   "source": [
    "**stations table (or austin_bikeshare_trips.csv)**:\n",
    "- `station_id`: integer id of station\n",
    "- `name`: string of station name\n",
    "- `status`: string of station status (active, closed, moved, ACL-only)\n",
    "- `address`: string of station address\n",
    "- `alternate_name`: string of station alternative name\n",
    "- `city_asset_number`: integer of station's asset number\n",
    "- `property_type`: string of station's property type\n",
    "- `number_of_docks`: integer of number of available bike docks\n",
    "- `power_type`: string of station's power source type\n",
    "- `footprint_length`: float of station' blueprint length (size of the station). Probably in meters\n",
    "- `footprint_width`: float of station' blueprint width (size of the station). Probably in meters\n",
    "- `notes`: string of additional notes\n",
    "- `council_district`: integer of stations's council district\n",
    "- `modified_date`: date of last modified information regarding the station"
   ]
  },
  {
   "cell_type": "markdown",
   "id": "c424d7fc-0fe4-4010-959f-d030c825abc5",
   "metadata": {},
   "source": [
    "# Database"
   ]
  },
  {
   "cell_type": "markdown",
   "id": "c8ab9b50-dc5c-431a-a01e-b32bf0a10709",
   "metadata": {},
   "source": [
    "The first important task is to make sure we can securely make connections to the database. In this scenario, we will connect to sqlite database, `austin_bikeshare.db` via python. In this part, we will re-visit on how to work with databases, started with making a connection, get some data, and insert data into it. \n",
    "\n",
    "You can directly connect and view the database using TablePlus, or run the following code to create the connection"
   ]
  },
  {
   "cell_type": "code",
   "execution_count": 11,
   "id": "bbaec86f-2ce8-48d2-b37c-d949e53d18ce",
   "metadata": {},
   "outputs": [],
   "source": [
    "# Define a function to create connection for reusability purpose\n",
    "def make_connection():\n",
    "    connection = sqlite3.connect('austin_bikeshare.db')\n",
    "    return connection\n",
    "\n",
    "# Make a connection\n",
    "conn = make_connection()"
   ]
  },
  {
   "cell_type": "code",
   "execution_count": 6,
   "id": "a4bd3e78",
   "metadata": {},
   "outputs": [
    {
     "data": {
      "text/plain": [
       "(2500,\n",
       " 'Republic Square',\n",
       " 'closed',\n",
       " '425 W 4th Street',\n",
       " '',\n",
       " '',\n",
       " '',\n",
       " '',\n",
       " '',\n",
       " '',\n",
       " '',\n",
       " '',\n",
       " 9,\n",
       " '2021-01-04T12:00:00Z')"
      ]
     },
     "execution_count": 6,
     "metadata": {},
     "output_type": "execute_result"
    }
   ],
   "source": [
    "data = tuple(stations.iloc[1].fillna('').values)\n",
    "\n",
    "data"
   ]
  },
  {
   "cell_type": "markdown",
   "id": "63da1e43-7bea-473c-9b7e-f9b86e13a8ec",
   "metadata": {},
   "source": [
    "## POST: Insert data into database\n",
    "\n",
    "Generally, POST method will utilize the data sent by user for specific purporse, for example: \n",
    "\n",
    "- Insert new data into the database. \n",
    "- Operate the data into some function"
   ]
  },
  {
   "cell_type": "markdown",
   "id": "27d0a87a-a3cf-4a38-85bb-3036718f2e62",
   "metadata": {},
   "source": [
    "We will learn how to insert data into a specific table in our database. Please refer to the following code to create and run the query for the given task"
   ]
  },
  {
   "cell_type": "code",
   "execution_count": 7,
   "id": "1d200cd0-8a48-4b45-800c-c39c25bafcb4",
   "metadata": {},
   "outputs": [],
   "source": [
    "# Get the data values\n",
    "data = tuple(stations.iloc[1].fillna('').values)\n",
    "\n",
    "# Make the query\n",
    "query = f\"\"\"\n",
    "INSERT INTO stations\n",
    "VALUES {data}\n",
    "\"\"\""
   ]
  },
  {
   "cell_type": "code",
   "execution_count": 8,
   "id": "1bf0754c-9cea-4d62-b870-1323bb2f7c1b",
   "metadata": {},
   "outputs": [
    {
     "name": "stdout",
     "output_type": "stream",
     "text": [
      "\n",
      "INSERT INTO stations\n",
      "VALUES (2500, 'Republic Square', 'closed', '425 W 4th Street', '', '', '', '', '', '', '', '', 9, '2021-01-04T12:00:00Z')\n",
      "\n"
     ]
    }
   ],
   "source": [
    "# See the actual query looks like\n",
    "print(query)"
   ]
  },
  {
   "cell_type": "code",
   "execution_count": 9,
   "id": "7c5c2d27-93ee-48a2-8228-d54c26b6f3da",
   "metadata": {},
   "outputs": [
    {
     "ename": "IntegrityError",
     "evalue": "UNIQUE constraint failed: stations.station_id",
     "output_type": "error",
     "traceback": [
      "\u001b[0;31m---------------------------------------------------------------------------\u001b[0m",
      "\u001b[0;31mIntegrityError\u001b[0m                            Traceback (most recent call last)",
      "Cell \u001b[0;32mIn[9], line 2\u001b[0m\n\u001b[1;32m      1\u001b[0m \u001b[39m# Execute the query \u001b[39;00m\n\u001b[0;32m----> 2\u001b[0m conn\u001b[39m.\u001b[39;49mexecute(query)\n",
      "\u001b[0;31mIntegrityError\u001b[0m: UNIQUE constraint failed: stations.station_id"
     ]
    }
   ],
   "source": [
    "# Execute the query \n",
    "conn.execute(query)"
   ]
  },
  {
   "cell_type": "code",
   "execution_count": null,
   "id": "3b35411a-c2bd-4a20-9663-50356ce74f7c",
   "metadata": {},
   "outputs": [],
   "source": [
    "# Commit changes to database\n",
    "conn.commit()"
   ]
  },
  {
   "cell_type": "markdown",
   "id": "433e02eb-4244-4bf9-8cd6-2f65da183431",
   "metadata": {},
   "source": [
    "Once the code above succesful, it's recomended to wrap it into a function so that we can reuse it in the future. Complete the following codes to make the function:"
   ]
  },
  {
   "cell_type": "code",
   "execution_count": null,
   "id": "604b25b8-66f9-4707-a092-a945023133cc",
   "metadata": {},
   "outputs": [],
   "source": [
    "def insert_into_stations(data, conn):\n",
    "    query = f\"\"\"INSERT INTO stations values {data}\"\"\"\n",
    "    try:\n",
    "        conn.execute(query)\n",
    "    except:\n",
    "        return 'Error'\n",
    "    conn.commit()\n",
    "    return 'OK'"
   ]
  },
  {
   "cell_type": "code",
   "execution_count": null,
   "id": "97b6ec11-9394-4b27-8203-4892c79cfbc5",
   "metadata": {},
   "outputs": [],
   "source": [
    "# Example use of the function \n",
    "conn = make_connection()\n",
    "data = tuple(stations.iloc[6].fillna('').values) # Randomly select a data\n",
    "result = insert_into_stations(data, conn)"
   ]
  },
  {
   "cell_type": "code",
   "execution_count": null,
   "id": "513c8720",
   "metadata": {},
   "outputs": [
    {
     "data": {
      "text/plain": [
       "'Error'"
      ]
     },
     "execution_count": 105,
     "metadata": {},
     "output_type": "execute_result"
    }
   ],
   "source": [
    "result"
   ]
  },
  {
   "cell_type": "markdown",
   "id": "d9beafb2-ee93-4532-a0f9-b10ac56a6835",
   "metadata": {},
   "source": [
    "**TASK: Create a Function to insert data for `trips` table**"
   ]
  },
  {
   "cell_type": "code",
   "execution_count": null,
   "id": "aac0820e-2594-49c5-a98f-e72e8917da48",
   "metadata": {},
   "outputs": [],
   "source": [
    "# Your code here\n",
    "def insert_into_trips(data, conn):\n",
    "    # Make the query\n",
    "    query = f\"\"\"\n",
    "    INSERT INTO trips\n",
    "    VALUES {data}\n",
    "    \"\"\"\n",
    "\n",
    "    try:\n",
    "        conn.execute(query)\n",
    "    except:\n",
    "        return \"Error\"\n",
    "    \n",
    "    conn.commit()\n",
    "    return \"Ok\"\n"
   ]
  },
  {
   "cell_type": "code",
   "execution_count": null,
   "id": "3dd2a827",
   "metadata": {},
   "outputs": [
    {
     "data": {
      "text/plain": [
       "'Error'"
      ]
     },
     "execution_count": 110,
     "metadata": {},
     "output_type": "execute_result"
    }
   ],
   "source": [
    "conn = make_connection()\n",
    "data = tuple(trips.iloc[2].fillna('').values)\n",
    "\n",
    "insert_into_trips(data, conn)"
   ]
  },
  {
   "cell_type": "markdown",
   "id": "72c93934-9c7e-495e-8613-9a5e73833577",
   "metadata": {},
   "source": [
    "## GET: Read specific data"
   ]
  },
  {
   "cell_type": "markdown",
   "id": "f2486c61-a982-4d9f-831f-1fa77a21a417",
   "metadata": {},
   "source": [
    "Generally, GET method will ask for specific the data in the database, alongside with additional information we might send. For example: \n",
    "- Get number of unique user\n",
    "- Get full trips information for specific user id\n",
    "- Get average trips duration and length for specific user id\n",
    "\n",
    "In this example, we will implement the most basic GET method, that is to get Station information in the table based on specific Station ID"
   ]
  },
  {
   "cell_type": "code",
   "execution_count": null,
   "id": "09b1e8f2-fc04-4c06-a23e-d31a93f65ccd",
   "metadata": {},
   "outputs": [],
   "source": [
    "# Get Specific Station ID  Query\n",
    "station_id = 2500\n",
    "query_station_id = f\"\"\"\n",
    "SELECT * FROM stations\n",
    "WHERE station_id = {station_id}\n",
    "\"\"\"\n",
    "\n",
    "# Get all station ID Query\n",
    "query_station_all = \"SELECT * FROM stations\""
   ]
  },
  {
   "cell_type": "code",
   "execution_count": null,
   "id": "c4e317b7",
   "metadata": {},
   "outputs": [
    {
     "name": "stdout",
     "output_type": "stream",
     "text": [
      "\n",
      "SELECT * FROM stations\n",
      "WHERE station_id = 2500\n",
      "\n"
     ]
    }
   ],
   "source": [
    "print(query_station_id)"
   ]
  },
  {
   "cell_type": "code",
   "execution_count": null,
   "id": "2b014e89-f857-4e18-9607-2b7d6139a1de",
   "metadata": {},
   "outputs": [],
   "source": [
    "# Run the query and get the result\n",
    "result = pd.read_sql_query(query_station_all, conn)"
   ]
  },
  {
   "cell_type": "code",
   "execution_count": null,
   "id": "5c7a54ab-e979-4c1c-b27c-60e501cb3733",
   "metadata": {},
   "outputs": [
    {
     "data": {
      "text/html": [
       "<div>\n",
       "<style scoped>\n",
       "    .dataframe tbody tr th:only-of-type {\n",
       "        vertical-align: middle;\n",
       "    }\n",
       "\n",
       "    .dataframe tbody tr th {\n",
       "        vertical-align: top;\n",
       "    }\n",
       "\n",
       "    .dataframe thead th {\n",
       "        text-align: right;\n",
       "    }\n",
       "</style>\n",
       "<table border=\"1\" class=\"dataframe\">\n",
       "  <thead>\n",
       "    <tr style=\"text-align: right;\">\n",
       "      <th></th>\n",
       "      <th>station_id</th>\n",
       "      <th>name</th>\n",
       "      <th>status</th>\n",
       "      <th>address</th>\n",
       "      <th>alternate_name</th>\n",
       "      <th>city_asset_number</th>\n",
       "      <th>property_type</th>\n",
       "      <th>number_of_docks</th>\n",
       "      <th>power_type</th>\n",
       "      <th>footprint_length</th>\n",
       "      <th>footprint_width</th>\n",
       "      <th>notes</th>\n",
       "      <th>council_district</th>\n",
       "      <th>modified_date</th>\n",
       "    </tr>\n",
       "  </thead>\n",
       "  <tbody>\n",
       "    <tr>\n",
       "      <th>0</th>\n",
       "      <td>2500</td>\n",
       "      <td>Republic Square</td>\n",
       "      <td>closed</td>\n",
       "      <td>425 W 4th Street</td>\n",
       "      <td></td>\n",
       "      <td></td>\n",
       "      <td></td>\n",
       "      <td></td>\n",
       "      <td></td>\n",
       "      <td></td>\n",
       "      <td></td>\n",
       "      <td></td>\n",
       "      <td>9</td>\n",
       "      <td>2021-01-04T12:00:00Z</td>\n",
       "    </tr>\n",
       "    <tr>\n",
       "      <th>1</th>\n",
       "      <td>2546</td>\n",
       "      <td>ACC - West &amp; 12th Street</td>\n",
       "      <td>closed</td>\n",
       "      <td>1231 West Ave.</td>\n",
       "      <td></td>\n",
       "      <td></td>\n",
       "      <td></td>\n",
       "      <td></td>\n",
       "      <td></td>\n",
       "      <td></td>\n",
       "      <td></td>\n",
       "      <td></td>\n",
       "      <td>9</td>\n",
       "      <td>2021-01-04T12:00:00Z</td>\n",
       "    </tr>\n",
       "  </tbody>\n",
       "</table>\n",
       "</div>"
      ],
      "text/plain": [
       "   station_id                      name  status           address   \n",
       "0        2500           Republic Square  closed  425 W 4th Street  \\\n",
       "1        2546  ACC - West & 12th Street  closed    1231 West Ave.   \n",
       "\n",
       "  alternate_name city_asset_number property_type number_of_docks power_type   \n",
       "0                                                                            \\\n",
       "1                                                                             \n",
       "\n",
       "  footprint_length footprint_width notes  council_district   \n",
       "0                                                        9  \\\n",
       "1                                                        9   \n",
       "\n",
       "          modified_date  \n",
       "0  2021-01-04T12:00:00Z  \n",
       "1  2021-01-04T12:00:00Z  "
      ]
     },
     "execution_count": 22,
     "metadata": {},
     "output_type": "execute_result"
    }
   ],
   "source": [
    "result"
   ]
  },
  {
   "cell_type": "markdown",
   "id": "4e589298-cbb0-4720-8275-7f09c18a9cca",
   "metadata": {},
   "source": [
    "Just like the previous section, create a function to read specific station"
   ]
  },
  {
   "cell_type": "code",
   "execution_count": null,
   "id": "697114ad-0305-4d98-8cad-fa384be07e6b",
   "metadata": {},
   "outputs": [],
   "source": [
    "def get_station_id(station_id, conn):\n",
    "    query = f\"\"\"SELECT * FROM stations WHERE station_id = {station_id}\"\"\"\n",
    "    result = pd.read_sql_query(query, conn)\n",
    "    return result \n",
    "\n",
    "def get_all_stations(conn):\n",
    "    query = f\"\"\"SELECT * FROM stations\"\"\"\n",
    "    result = pd.read_sql_query(query, conn)\n",
    "    return result"
   ]
  },
  {
   "cell_type": "markdown",
   "id": "d4d9eae2-06d8-4fed-a14b-adb32a3fbe1d",
   "metadata": {},
   "source": [
    "**TASK: Create a Function to read data from `trips` table**"
   ]
  },
  {
   "cell_type": "code",
   "execution_count": null,
   "id": "543a6298-aace-41f2-bc0f-9ae0277f5428",
   "metadata": {},
   "outputs": [],
   "source": [
    "# Your code here\n",
    "def get_trip_id(trip_id, conn):\n",
    "    query = f\"\"\"\n",
    "            SELECT *\n",
    "            FROM \n",
    "                trips\n",
    "            WHERE\n",
    "                trip_id = {trip_id}\n",
    "            \"\"\"\n",
    "    return pd.read_sql_query(query, conn)\n",
    "    \n",
    "def get_all_trips(conn):\n",
    "    query = f\"\"\"\n",
    "            SELECT *\n",
    "            FROM \n",
    "                trips\n",
    "            \"\"\"\n",
    "    return pd.read_sql_query(query, conn)\n"
   ]
  },
  {
   "cell_type": "markdown",
   "id": "b024e79d-c7db-43ca-a226-45e934c5cdc0",
   "metadata": {},
   "source": [
    "# Flask App"
   ]
  },
  {
   "cell_type": "markdown",
   "id": "d167587d-7e47-443c-b237-07f4201a6848",
   "metadata": {},
   "source": [
    "Flask is a micro-framework for python. Generally we can build any application out of it. To start with, let's make our first empy flask app. \n",
    "Creata a new file `app.py`, then copy-paste the following codes into it and save it. \n",
    "\n",
    "*Notes: it's recomended to use vscode as editor since it support vast linting supports, including python which we find really helpful in coding*"
   ]
  },
  {
   "cell_type": "markdown",
   "id": "fae662bf-4667-4b4c-a5a8-e8118d45e151",
   "metadata": {},
   "source": [
    "```python\n",
    "from flask import Flask, request\n",
    "app = Flask(__name__) \n",
    "\n",
    "if __name__ == '__main__':\n",
    "    app.run(debug=True, port=5000)\n",
    "```"
   ]
  },
  {
   "cell_type": "markdown",
   "id": "20a3e191-2d1d-42f2-b620-ab8d4535fe5f",
   "metadata": {},
   "source": [
    "To run the app, you can open your terminal, go to the specific folder and run `python app.py` using your designated virtual environment"
   ]
  },
  {
   "cell_type": "markdown",
   "id": "b7bd4362-55ad-48e7-9ed5-a9efb269d191",
   "metadata": {},
   "source": [
    "## Routes and Endpoints"
   ]
  },
  {
   "cell_type": "markdown",
   "id": "87f78576-5db9-40cc-9ccf-5f865caf0689",
   "metadata": {},
   "source": [
    "### Implement endpoints"
   ]
  },
  {
   "cell_type": "markdown",
   "id": "e52ff12b-2613-4a15-ad98-5cf8881eb5ed",
   "metadata": {},
   "source": [
    "If you succesfully run the previous app and access the localhost:5000 , you might get an 404 not found error. This is because we **have not** define yet what will happen if people accessing our root path of the app (localhost:5000/)\n",
    "\n",
    "Add the following example of route or endpoint into your `app.py` just before the `if __name__ === '__main__':` line, and reload the page to see if it works"
   ]
  },
  {
   "cell_type": "markdown",
   "id": "6870c3db-a88d-4ae6-a791-04f9e212f3f8",
   "metadata": {},
   "source": [
    "```python \n",
    "@app.route('/')\n",
    "def home():\n",
    "    return 'Hello World'\n",
    "```"
   ]
  },
  {
   "cell_type": "markdown",
   "id": "f23f1514-2ea7-4699-9b3c-b8ba2ee608eb",
   "metadata": {},
   "source": [
    "Above endpoints will runs the `home` function anytime user access the `/` page.\n",
    "\n",
    "Since we are going to handle all the requests through this app, the very next step is to implement our functionalites. Let's start with implementing the functionality to read all station data\n",
    "\n",
    "we will add the `get_all_stations()` functions into our app, create a `@app.route('/stations/')` endpoint and call the function in it. The code should looks like:\n",
    "\n",
    "```python \n",
    "@app.route('/stations/')\n",
    "def route_all_stations():\n",
    "    conn = make_connection()\n",
    "    stations = get_all_stations(conn)\n",
    "    return stations.to_json()\n",
    "    \n",
    "def get_all_stations(conn):\n",
    "    query = f\"\"\"SELECT * FROM stations\"\"\"\n",
    "    result = pd.read_sql_query(query, conn)\n",
    "    return result\n",
    "```"
   ]
  },
  {
   "cell_type": "markdown",
   "id": "11a81990-4add-4a66-8771-4832866f938b",
   "metadata": {},
   "source": [
    "However, adding just above codes is not enough. If you see, there is a dependency inside the function, which is `make_connection()` function. Other than that, we will be using all the required libraries. \n",
    "\n",
    "Hence, we can complete the code by : \n",
    "- import the required libraries at the top of the `app.py` file\n",
    "- write the `make_connection()` function before any routes declarations"
   ]
  },
  {
   "cell_type": "markdown",
   "id": "536b16f2-1cc4-4605-88ae-feee9cc6eec7",
   "metadata": {},
   "source": [
    "Once it's completed, you should see no errors in the vscode screen, and your endpoint should work just fine and returns all the stations. It's now your task to impelement the `get_all_trips` into the app "
   ]
  },
  {
   "cell_type": "markdown",
   "id": "c8eec277-fdd5-4367-83e5-f6916794b186",
   "metadata": {},
   "source": [
    "**TASK: Implement `get_all_trips()` method into the app** \\\n",
    "Place it under `@app.route('/trips/')` endpoint"
   ]
  },
  {
   "cell_type": "code",
   "execution_count": 12,
   "id": "5ee8aed5",
   "metadata": {},
   "outputs": [],
   "source": [
    "# your code\n",
    "# @app.route('/trips/')\n",
    "def route_all_trips():\n",
    "    return get_all_trips().to_json()\n",
    "\n",
    "def get_all_trips():\n",
    "    conn = make_connection()\n",
    "    query = f\"\"\"SELECT * FROM trips\"\"\"\n",
    "    return pd.read_sql_query(query, conn)\n"
   ]
  },
  {
   "cell_type": "markdown",
   "id": "bc45734a-5d15-4e4c-837f-64ab1cafdde6",
   "metadata": {},
   "source": [
    "### Access Endpoints"
   ]
  },
  {
   "cell_type": "markdown",
   "id": "43143d5d-a361-4141-8f35-2b47f112075a",
   "metadata": {},
   "source": [
    "To access our endpoints using python, simply use `requests` library followed by the request method (post, get, put, delete, etc) the passed in the url or data "
   ]
  },
  {
   "cell_type": "code",
   "execution_count": 16,
   "id": "f1a3ebbe-591d-4b38-b858-6ef1ea787d74",
   "metadata": {},
   "outputs": [],
   "source": [
    "url = 'http://127.0.0.1:5000/stations/'\n",
    "res = requests.get(url)"
   ]
  },
  {
   "cell_type": "code",
   "execution_count": 17,
   "id": "64a3ec96",
   "metadata": {},
   "outputs": [
    {
     "data": {
      "text/plain": [
       "<Response [200]>"
      ]
     },
     "execution_count": 17,
     "metadata": {},
     "output_type": "execute_result"
    }
   ],
   "source": [
    "res"
   ]
  },
  {
   "cell_type": "code",
   "execution_count": 18,
   "id": "6832c2a1",
   "metadata": {},
   "outputs": [
    {
     "data": {
      "text/plain": [
       "'{\"station_id\":{\"0\":2500,\"1\":2546,\"2\":2502,\"3\":3687,\"4\":3684,\"5\":3464,\"6\":2576,\"7\":2712,\"8\":3381,\"9\":1001,\"10\":1002,\"11\":1003,\"12\":1004,\"13\":1005,\"14\":1006,\"15\":1007,\"16\":1008,\"17\":2707,\"18\":4699,\"19\":2570,\"20\":2496,\"21\":3294,\"22\":2497,\"23\":4047,\"24\":2503,\"25\":2711,\"26\":2565,\"27\":3619,\"28\":3798,\"29\":3799,\"30\":3291,\"31\":2539,\"32\":2571,\"33\":2542,\"34\":2549,\"35\":2561,\"36\":3455,\"37\":3513,\"38\":3790,\"39\":4060,\"40\":2567,\"41\":2498,\"42\":2566,\"43\":2499,\"44\":3621,\"45\":3390,\"46\":2540,\"47\":2547,\"48\":2562,\"49\":2552,\"50\":4879,\"51\":3635,\"52\":3685,\"53\":3793,\"54\":4050,\"55\":4051,\"56\":4057,\"57\":2548,\"58\":2494,\"59\":2495,\"60\":2501,\"61\":2563,\"62\":3293,\"63\":4052,\"64\":4054,\"65\":4055,\"66\":4058,\"67\":4059,\"68\":4061,\"69\":4062,\"70\":3292,\"71\":2544,\"72\":2568,\"73\":2569,\"74\":3660,\"75\":2822,\"76\":2823,\"77\":2504,\"78\":2537,\"79\":3686,\"80\":3791,\"81\":3792,\"82\":3838,\"83\":3841,\"84\":4048,\"85\":3377,\"86\":3794,\"87\":3795,\"88\":3797},\"name\":{\"0\":\"Republic Square\",\"1\":\"ACC - West & 12th Street\",\"2\":\"Barton Springs & Riverside\",\"3\":\"Boardwalk West\",\"4\":\"Congress & Cesar Chavez\",\"5\":\"Pease Park\",\"6\":\"Rainey @ River St\",\"7\":\"Toomey Rd @ South Lamar\",\"8\":\"East 7th & Pleasant Valley\",\"9\":\"OFFICE\\\\/Main\\\\/Shop\\\\/Repair\",\"10\":\"6th & Navasota St.\",\"11\":\"8th & Guadalupe\",\"12\":\"Red River & LBJ Library\",\"13\":\"State Parking Garage @ Brazos & 18th\",\"14\":\"Zilker Park West\",\"15\":\"Lavaca & 6th\",\"16\":\"Nueces @ 3rd\",\"17\":\"Rainey St @ Cummings\",\"18\":\"East 5th\\\\/Shady @ Eastside Bus Plaza\",\"19\":\"South Congress & Academy\",\"20\":\"8th & Congress\",\"21\":\"Lavaca & 6th\",\"22\":\"Capitol Station \\\\/ Congress & 11th\",\"23\":\"8th & Lavaca\",\"24\":\"South Congress & James\",\"25\":\"Barton Springs @ Kinney Ave\",\"26\":\"Trinity & 6th Street\",\"27\":\"6th & Congress\",\"28\":\"21st & Speedway @PCL\",\"29\":\"23rd & San Jacinto @ DKR Stadium\",\"30\":\"11th & San Jacinto\",\"31\":\"Convention Center \\\\/ 3rd & Trinity\",\"32\":\"Red River & 8th Street\",\"33\":\"Plaza Saltillo\",\"34\":\"Long Center @ South 1st & Riverside\",\"35\":\"State Capitol Visitors Garage @ San Jacinto & 12th\",\"36\":\"Republic Square @ 5th & Guadalupe\",\"37\":\"South Congress & Barton Springs at the Austin American-Statesman\",\"38\":\"Lake Austin Blvd @ Deep Eddy\",\"39\":\"Red River\\\\/Cesar Chavez @ The Fairmont\",\"40\":\"Palmer Auditorium\",\"41\":\"Convention Center \\\\/ 4th St. @ MetroRail\",\"42\":\"Pfluger Bridge @ W 2nd Street\",\"43\":\"City Hall \\\\/ Lavaca & 2nd\",\"44\":\"Nueces & 3rd\",\"45\":\"Brazos & 6th\",\"46\":\"17th & Guadalupe\",\"47\":\"Guadalupe & 21st\",\"48\":\"San Jacinto & 8th Street\",\"49\":\"3rd & West\",\"50\":\"16th\\\\/San Antonio\",\"51\":\"13th & San Antonio\",\"52\":\"Henderson & 9th\",\"53\":\"Rio Grande & 28th\",\"54\":\"5th & Campbell\",\"55\":\"10th & Red River\",\"56\":\"6th & Chalmers\",\"57\":\"UT West Mall @ Guadalupe\",\"58\":\"2nd & Congress\",\"59\":\"4th & Congress\",\"60\":\"5th & Bowie\",\"61\":\"Davis at Rainey Street\",\"62\":\"East 2nd & Pedernales\",\"63\":\"Rosewood & Angelina\",\"64\":\"Rosewood & Chicon\",\"65\":\"11th & Salina\",\"66\":\"Hollow Creek & Barton Hills\",\"67\":\"Nash Hernandez @ RBJ South\",\"68\":\"Lakeshore @ Austin Hostel\",\"69\":\"Lakeshore & Pleasant Valley\",\"70\":\"East 4th & Chicon\",\"71\":\"East 6th & Pedernales St.\",\"72\":\"East 11th St. at Victory Grill\",\"73\":\"East 11th St. & San Marcos\",\"74\":\"Medina & East 6th\",\"75\":\"East 6th at Robert Martinez\",\"76\":\"Capital Metro HQ - East 5th at Broadway\",\"77\":\"South Congress & Elizabeth\",\"78\":\"West & 6th St.\",\"79\":\"Sterzing at Barton Springs\",\"80\":\"Lake Austin & Enfield\",\"81\":\"22nd & Pearl\",\"82\":\"Nueces & 26th\",\"83\":\"23rd & Rio Grande\",\"84\":\"South Congress @ Bouldin Creek\",\"85\":\"MoPac Pedestrian Bridge @ Veterans Drive\",\"86\":\"Dean Keeton & Speedway\",\"87\":\"Dean Keeton & Whitis\",\"88\":\"21st & University\"},\"status\":{\"0\":\"closed\",\"1\":\"closed\",\"2\":\"closed\",\"3\":\"active\",\"4\":\"active\",\"5\":\"closed\",\"6\":\"closed\",\"7\":\"closed\",\"8\":\"closed\",\"9\":\"active\",\"10\":\"closed\",\"11\":\"closed\",\"12\":\"closed\",\"13\":\"closed\",\"14\":\"closed\",\"15\":\"closed\",\"16\":\"closed\",\"17\":\"active\",\"18\":\"active\",\"19\":\"active\",\"20\":\"active\",\"21\":\"active\",\"22\":\"active\",\"23\":\"active\",\"24\":\"active\",\"25\":\"active\",\"26\":\"active\",\"27\":\"active\",\"28\":\"active\",\"29\":\"active\",\"30\":\"active\",\"31\":\"active\",\"32\":\"active\",\"33\":\"active\",\"34\":\"active\",\"35\":\"active\",\"36\":\"active\",\"37\":\"active\",\"38\":\"active\",\"39\":\"active\",\"40\":\"active\",\"41\":\"active\",\"42\":\"active\",\"43\":\"active\",\"44\":\"active\",\"45\":\"active\",\"46\":\"closed\",\"47\":\"active\",\"48\":\"active\",\"49\":\"active\",\"50\":\"active\",\"51\":\"closed\",\"52\":\"active\",\"53\":\"active\",\"54\":\"active\",\"55\":\"active\",\"56\":\"active\",\"57\":\"active\",\"58\":\"active\",\"59\":\"active\",\"60\":\"active\",\"61\":\"active\",\"62\":\"active\",\"63\":\"active\",\"64\":\"active\",\"65\":\"active\",\"66\":\"active\",\"67\":\"active\",\"68\":\"active\",\"69\":\"active\",\"70\":\"active\",\"71\":\"active\",\"72\":\"active\",\"73\":\"active\",\"74\":\"active\",\"75\":\"active\",\"76\":\"active\",\"77\":\"active\",\"78\":\"active\",\"79\":\"active\",\"80\":\"active\",\"81\":\"active\",\"82\":\"active\",\"83\":\"active\",\"84\":\"active\",\"85\":\"active\",\"86\":\"active\",\"87\":\"active\",\"88\":\"active\"},\"address\":{\"0\":\"425 W 4th Street\",\"1\":\"1231 West Ave.\",\"2\":\"400 Barton Springs Rd.\",\"3\":\"300 E. Riverside Dr.\",\"4\":\"124 W Cesar Chavez St\",\"5\":\"1155 Kingsbury St\",\"6\":\"64 Rainey St\",\"7\":\"1301 Toomey Road\",\"8\":\"2772 E 7th\",\"9\":\"1000 Brazos\",\"10\":\"1308 W. 6th St.\",\"11\":\"800 Guadalupe St.\",\"12\":\"2322 Red River Street\",\"13\":\"1789 Brazos St.\",\"14\":\"Barton Springs Rd\",\"15\":\"601 Lavaca St.\",\"16\":\"311 Nueces\",\"17\":\"1 Rainey St\",\"18\":\"5104 East 5th. Street\",\"19\":\"1199 S. Congress Ave.\",\"20\":\"111 E. 8th St.\",\"21\":\"619 Guadalupe St.\",\"22\":\"1090 Congress Ave.\",\"23\":\"750 Lavaca Street\",\"24\":\"Presented by The Austin Chronicle\",\"25\":\"1530 Barton Springs Road\",\"26\":\"606 Trinity Street\",\"27\":\"600 Congress Ave.\",\"28\":\"E. 21st St.\",\"29\":\"E. 23rd St.\",\"30\":\"310 E. 11th St.\",\"31\":\"212 Trinity\",\"32\":\"761 Red River St.\",\"33\":\"1501 E. 5th St.\",\"34\":\"Presented by Austin Energy\",\"35\":\"1201 San Jacinto Blvd.\",\"36\":\"Federal Courthouse Plaza\",\"37\":\"305 S. Congress Ave.\",\"38\":\"2401 Lake Austin Blvd\",\"39\":\"101 Red River St.\",\"40\":\"900 Barton Springs Rd.\",\"41\":\"499 E. 4th St\",\"42\":\"Presented by Austin Parks Foundation\",\"43\":\"Presented by Graves Dougherty Hearon & Moody\",\"44\":\"311 Nueces St.\",\"45\":\"585 Brazos St.\",\"46\":\"411 W. 17th St.\",\"47\":\"2100 Guadalupe St.\",\"48\":\"782 San Jacinto Blvd.\",\"49\":\"652 W. 3rd St\",\"50\":\"1601 San Antonio Street\",\"51\":\"1285 San Antonio St.\",\"52\":\"672 Henderson Street\",\"53\":\"2717 Rio Grande St.\",\"54\":\"1611 W 5th St\",\"55\":\"699 East 10th Street\",\"56\":\"639 Chalmers Avenue\",\"57\":\"2242 Guadalupe St.\",\"58\":\"151 E. 2nd St\",\"59\":\"120 W. 4th St.\",\"60\":\"Presented by Whole Foods Market\",\"61\":\"698 Davis St.\",\"62\":\"2414 E 2nd St\",\"63\":\"1153 Angelina Street\",\"64\":\"1909 Rosewood Avenue\",\"65\":\"1705 E 11th St\",\"66\":\"1106 Hollow Creek Dr\",\"67\":\"1316 Festival Beach Rd\",\"68\":\"2200 S Lakeshore Blvd\",\"69\":\"2525 South Lakeshore Boulevard\",\"70\":\"1819 East 4th St.\",\"71\":\"2498 E. 6th St.\",\"72\":\"1106 E. 11th St.\",\"73\":\"1001 E. 11th St.\",\"74\":\"590 Medina St.\",\"75\":\"2120 East 6th St\",\"76\":\"2910 E 5th St\",\"77\":\"101 Elizabeth St. W\",\"78\":\"603 West Ave.\",\"79\":\"1825 Barton Springs Rd\",\"80\":\"3825 Lake Austin Blvd\",\"81\":\"900 W. 22nd\",\"82\":\"600 W. 26th St.\",\"83\":\"2308 Rio Grande St.\",\"84\":\"799 South Congress Avenue\",\"85\":\"2105 Veterans Dr.\",\"86\":\"180 E. Dean Keeton St.\",\"87\":\"300 W. Dean Keeton St.\",\"88\":\"2007 University Ave.\"},\"alternate_name\":{\"0\":\"\",\"1\":\"\",\"2\":\"\",\"3\":\"\",\"4\":\"\",\"5\":\"\",\"6\":\"\",\"7\":\"\",\"8\":\"\",\"9\":\"\",\"10\":\"\",\"11\":\"\",\"12\":\"\",\"13\":\"\",\"14\":\"\",\"15\":\"\",\"16\":\"\",\"17\":\"\",\"18\":\"\",\"19\":\"\",\"20\":\"\",\"21\":\"\",\"22\":\"\",\"23\":\"\",\"24\":\"\",\"25\":\"\",\"26\":\"\",\"27\":\"Congress & 6th Street\",\"28\":\"\",\"29\":\"\",\"30\":\"\",\"31\":\"\",\"32\":\"\",\"33\":\"\",\"34\":\"\",\"35\":\"\",\"36\":\"\",\"37\":\"\",\"38\":\"\",\"39\":\"\",\"40\":\"\",\"41\":\"\",\"42\":\"\",\"43\":\"\",\"44\":\"\",\"45\":\"\",\"46\":\"\",\"47\":\"\",\"48\":\"\",\"49\":\"\",\"50\":\"\",\"51\":\"\",\"52\":\"\",\"53\":\"\",\"54\":\"\",\"55\":\"\",\"56\":\"\",\"57\":\"\",\"58\":\"\",\"59\":\"\",\"60\":\"\",\"61\":\"\",\"62\":\"\",\"63\":\"\",\"64\":\"\",\"65\":\"\",\"66\":\"\",\"67\":\"\",\"68\":\"\",\"69\":\"\",\"70\":\"\",\"71\":\"\",\"72\":\"\",\"73\":\"\",\"74\":\"\",\"75\":\"\",\"76\":\"\",\"77\":\"\",\"78\":\"\",\"79\":\"\",\"80\":\"\",\"81\":\"\",\"82\":\"\",\"83\":\"\",\"84\":\"\",\"85\":\"\",\"86\":\"\",\"87\":\"\",\"88\":\"\"},\"city_asset_number\":{\"0\":\"\",\"1\":\"\",\"2\":\"\",\"3\":16683,\"4\":32594,\"5\":\"\",\"6\":\"\",\"7\":\"\",\"8\":\"\",\"9\":\"\",\"10\":\"\",\"11\":\"\",\"12\":\"\",\"13\":\"\",\"14\":\"\",\"15\":\"\",\"16\":\"\",\"17\":16597,\"18\":32522,\"19\":16752,\"20\":16725,\"21\":32515,\"22\":16735,\"23\":32710,\"24\":16730,\"25\":16599,\"26\":16763,\"27\":16743,\"28\":32675,\"29\":32676,\"30\":32503,\"31\":16747,\"32\":16760,\"33\":16746,\"34\":16750,\"35\":16764,\"36\":16741,\"37\":16745,\"38\":32673,\"39\":32691,\"40\":16753,\"41\":16734,\"42\":16762,\"43\":16732,\"44\":16742,\"45\":16754,\"46\":16739,\"47\":16749,\"48\":16755,\"49\":16727,\"50\":16739,\"51\":32522,\"52\":32593,\"53\":32668,\"54\":32745,\"55\":32686,\"56\":32690,\"57\":16748,\"58\":16733,\"59\":16726,\"60\":16728,\"61\":16751,\"62\":16729,\"63\":32687,\"64\":32688,\"65\":32689,\"66\":32685,\"67\":32693,\"68\":32692,\"69\":32711,\"70\":32516,\"71\":16738,\"72\":16757,\"73\":16756,\"74\":16761,\"75\":16674,\"76\":16684,\"77\":16731,\"78\":16737,\"79\":32592,\"80\":32672,\"81\":32669,\"82\":16744,\"83\":16740,\"84\":32746,\"85\":16598,\"86\":32670,\"87\":32671,\"88\":32674},\"property_type\":{\"0\":\"\",\"1\":\"\",\"2\":\" \",\"3\":\"parkland\",\"4\":\"parkland\",\"5\":\"\",\"6\":\"\",\"7\":\"\",\"8\":\"\",\"9\":\"\",\"10\":\"\",\"11\":\"\",\"12\":\"\",\"13\":\"\",\"14\":\"\",\"15\":\"\",\"16\":\"\",\"17\":\"parkland\",\"18\":\"sidewalk\",\"19\":\"sidewalk\",\"20\":\"sidewalk\",\"21\":\"sidewalk\",\"22\":\"sidewalk\",\"23\":\"sidewalk\",\"24\":\"sidewalk\",\"25\":\"sidewalk\",\"26\":\"sidewalk\",\"27\":\"sidewalk\",\"28\":\"sidewalk\",\"29\":\"sidewalk\",\"30\":\"sidewalk\",\"31\":\"sidewalk\",\"32\":\"sidewalk\",\"33\":\"sidewalk\",\"34\":\"sidewalk\",\"35\":\"sidewalk\",\"36\":\"sidewalk\",\"37\":\"sidewalk\",\"38\":\"sidewalk\",\"39\":\"sidewalk\",\"40\":\"sidewalk\",\"41\":\"sidewalk\",\"42\":\"sidewalk\",\"43\":\"sidewalk\",\"44\":\"paid_parking\",\"45\":\"paid_parking\",\"46\":\"paid_parking\",\"47\":\"paid_parking\",\"48\":\"paid_parking\",\"49\":\"paid_parking\",\"50\":\"paid_parking\",\"51\":\"paid_parking\",\"52\":\"paid_parking\",\"53\":\"paid_parking\",\"54\":\"paid_parking\",\"55\":\"paid_parking\",\"56\":\"paid_parking\",\"57\":\"paid_parking\",\"58\":\"paid_parking\",\"59\":\"paid_parking\",\"60\":\"paid_parking\",\"61\":\"paid_parking\",\"62\":\"nonmetered_parking\",\"63\":\"nonmetered_parking\",\"64\":\"nonmetered_parking\",\"65\":\"nonmetered_parking\",\"66\":\"nonmetered_parking\",\"67\":\"nonmetered_parking\",\"68\":\"nonmetered_parking\",\"69\":\"nonmetered_parking\",\"70\":\"undetermined_parking\",\"71\":\"undetermined_parking\",\"72\":\"undetermined_parking\",\"73\":\"undetermined_parking\",\"74\":\"undetermined_parking\",\"75\":\"undetermined_parking\",\"76\":\"undetermined_parking\",\"77\":\"undetermined_parking\",\"78\":\"undetermined_parking\",\"79\":\"undetermined_parking\",\"80\":\"undetermined_parking\",\"81\":\"undetermined_parking\",\"82\":\"undetermined_parking\",\"83\":\"undetermined_parking\",\"84\":\"undetermined_parking\",\"85\":\"undetermined_parking\",\"86\":\"undetermined_parking\",\"87\":\"undetermined_parking\",\"88\":\"undetermined_parking\"},\"number_of_docks\":{\"0\":\"\",\"1\":\"\",\"2\":\"\",\"3\":9,\"4\":11,\"5\":\"\",\"6\":\"\",\"7\":\"\",\"8\":\"\",\"9\":\"\",\"10\":\"\",\"11\":\"\",\"12\":\"\",\"13\":\"\",\"14\":\"\",\"15\":\"\",\"16\":\"\",\"17\":17,\"18\":10,\"19\":10,\"20\":14,\"21\":12,\"22\":18,\"23\":9,\"24\":9,\"25\":16,\"26\":11,\"27\":11,\"28\":22,\"29\":22,\"30\":11,\"31\":12,\"32\":13,\"33\":12,\"34\":13,\"35\":13,\"36\":13,\"37\":13,\"38\":13,\"39\":13,\"40\":15,\"41\":17,\"42\":19,\"43\":19,\"44\":11,\"45\":13,\"46\":12,\"47\":13,\"48\":13,\"49\":13,\"50\":12,\"51\":13,\"52\":13,\"53\":13,\"54\":13,\"55\":13,\"56\":13,\"57\":15,\"58\":15,\"59\":15,\"60\":15,\"61\":19,\"62\":10,\"63\":13,\"64\":13,\"65\":13,\"66\":13,\"67\":13,\"68\":15,\"69\":18,\"70\":9,\"71\":11,\"72\":11,\"73\":11,\"74\":11,\"75\":13,\"76\":13,\"77\":13,\"78\":13,\"79\":13,\"80\":13,\"81\":13,\"82\":13,\"83\":13,\"84\":13,\"85\":19,\"86\":19,\"87\":19,\"88\":19},\"power_type\":{\"0\":\"\",\"1\":\"\",\"2\":\" \",\"3\":\"solar\",\"4\":\"solar\",\"5\":\"\",\"6\":\"\",\"7\":\"\",\"8\":\"\",\"9\":\"\",\"10\":\"\",\"11\":\"\",\"12\":\"\",\"13\":\"\",\"14\":\"\",\"15\":\"\",\"16\":\"\",\"17\":\"solar\",\"18\":\"solar\",\"19\":\"solar\",\"20\":\"solar\",\"21\":\"solar\",\"22\":\"solar\",\"23\":\"solar\",\"24\":\"solar\",\"25\":\"solar\",\"26\":\"solar\",\"27\":\"solar\",\"28\":\"solar\",\"29\":\"solar\",\"30\":\"solar\",\"31\":\"solar\",\"32\":\"solar\",\"33\":\"solar\",\"34\":\"solar\",\"35\":\"solar\",\"36\":\"non-metered\",\"37\":\"solar\",\"38\":\"solar\",\"39\":\"solar\",\"40\":\"solar\",\"41\":\"non-metered\",\"42\":\"solar\",\"43\":\"solar\",\"44\":\"solar\",\"45\":\"solar\",\"46\":\"solar\",\"47\":\"solar\",\"48\":\"solar\",\"49\":\"solar\",\"50\":\"solar\",\"51\":\"solar\",\"52\":\"solar\",\"53\":\"solar\",\"54\":\"solar\",\"55\":\"solar\",\"56\":\"solar\",\"57\":\"solar\",\"58\":\"solar\",\"59\":\"solar\",\"60\":\"solar\",\"61\":\"solar\",\"62\":\"solar\",\"63\":\"solar\",\"64\":\"solar\",\"65\":\"solar\",\"66\":\"solar\",\"67\":\"solar\",\"68\":\"solar\",\"69\":\"solar\",\"70\":\"solar\",\"71\":\"solar\",\"72\":\"solar\",\"73\":\"solar\",\"74\":\"solar\",\"75\":\"solar\",\"76\":\"solar\",\"77\":\"solar\",\"78\":\"solar\",\"79\":\"solar\",\"80\":\"solar\",\"81\":\"solar\",\"82\":\"solar\",\"83\":\"solar\",\"84\":\"solar\",\"85\":\"solar\",\"86\":\"solar\",\"87\":\"solar\",\"88\":\"solar\"},\"footprint_length\":{\"0\":\"\",\"1\":\"\",\"2\":\"\",\"3\":30.0,\"4\":35.0,\"5\":\"\",\"6\":\"\",\"7\":\"\",\"8\":\"\",\"9\":\"\",\"10\":\"\",\"11\":\"\",\"12\":\"\",\"13\":\"\",\"14\":\"\",\"15\":\"\",\"16\":\"\",\"17\":50.0,\"18\":15.0,\"19\":20.0,\"20\":20.0,\"21\":25.0,\"22\":25.0,\"23\":25.0,\"24\":26.0,\"25\":30.0,\"26\":30.0,\"27\":30.0,\"28\":30.0,\"29\":30.0,\"30\":35.0,\"31\":35.0,\"32\":40.0,\"33\":40.0,\"34\":40.0,\"35\":40.0,\"36\":40.0,\"37\":40.0,\"38\":40.0,\"39\":40.0,\"40\":45.0,\"41\":50.0,\"42\":55.0,\"43\":55.0,\"44\":35.0,\"45\":40.0,\"46\":40.0,\"47\":40.0,\"48\":40.0,\"49\":40.0,\"50\":40.0,\"51\":40.0,\"52\":40.0,\"53\":40.0,\"54\":40.0,\"55\":40.0,\"56\":40.0,\"57\":45.0,\"58\":45.0,\"59\":45.0,\"60\":45.0,\"61\":55.0,\"62\":20.0,\"63\":40.0,\"64\":40.0,\"65\":40.0,\"66\":40.0,\"67\":40.0,\"68\":45.0,\"69\":55.0,\"70\":30.0,\"71\":35.0,\"72\":35.0,\"73\":35.0,\"74\":35.0,\"75\":40.0,\"76\":40.0,\"77\":40.0,\"78\":40.0,\"79\":40.0,\"80\":40.0,\"81\":40.0,\"82\":40.0,\"83\":40.0,\"84\":40.0,\"85\":55.0,\"86\":55.0,\"87\":55.0,\"88\":55.0},\"footprint_width\":{\"0\":\"\",\"1\":\"\",\"2\":\"\",\"3\":5.0,\"4\":5.0,\"5\":\"\",\"6\":\"\",\"7\":\"\",\"8\":\"\",\"9\":\"\",\"10\":\"\",\"11\":\"\",\"12\":\"\",\"13\":\"\",\"14\":\"\",\"15\":\"\",\"16\":\"\",\"17\":5.0,\"18\":10.0,\"19\":7.5,\"20\":7.5,\"21\":7.5,\"22\":7.5,\"23\":5.0,\"24\":7.5,\"25\":7.5,\"26\":5.0,\"27\":5.0,\"28\":7.5,\"29\":7.5,\"30\":5.0,\"31\":5.0,\"32\":5.0,\"33\":5.0,\"34\":5.0,\"35\":5.0,\"36\":5.0,\"37\":5.0,\"38\":5.0,\"39\":5.0,\"40\":5.0,\"41\":5.0,\"42\":5.0,\"43\":5.0,\"44\":5.0,\"45\":5.0,\"46\":5.0,\"47\":5.0,\"48\":5.0,\"49\":5.0,\"50\":5.0,\"51\":5.0,\"52\":5.0,\"53\":5.0,\"54\":5.0,\"55\":5.0,\"56\":5.0,\"57\":5.0,\"58\":5.0,\"59\":5.0,\"60\":5.0,\"61\":5.0,\"62\":15.0,\"63\":5.0,\"64\":5.0,\"65\":5.0,\"66\":5.0,\"67\":5.0,\"68\":5.0,\"69\":5.0,\"70\":5.0,\"71\":5.0,\"72\":5.0,\"73\":5.0,\"74\":5.0,\"75\":5.0,\"76\":5.0,\"77\":5.0,\"78\":5.0,\"79\":5.0,\"80\":5.0,\"81\":5.0,\"82\":5.0,\"83\":5.0,\"84\":5.0,\"85\":5.0,\"86\":5.0,\"87\":5.0,\"88\":5.0},\"notes\":{\"0\":\"\",\"1\":\"\",\"2\":\"moved to Pedernales\\\\/2nd. Original city ID: 16729\",\"3\":\"\",\"4\":\"parkland at ROW\\\\/easement\",\"5\":\"\",\"6\":\"\",\"7\":\"\",\"8\":\"\",\"9\":\"\",\"10\":\"\",\"11\":\"\",\"12\":\"\",\"13\":\"\",\"14\":\"\",\"15\":\"\",\"16\":\"\",\"17\":\"parkland at ROW\\\\/easement\",\"18\":\"\",\"19\":\"on bulb-out\",\"20\":\"double sided\",\"21\":\"double sided, remeasure\",\"22\":\"double sided\",\"23\":\"\",\"24\":\"on bulb-out\",\"25\":\"2-sided station on pad adjacent to sidewalk in ROW\\\\/easement\",\"26\":\"\",\"27\":\"remeasure\",\"28\":\"On UT property-2 sided\",\"29\":\"On UT property-2 sided\",\"30\":\"\",\"31\":\"\",\"32\":\"on pad built in ROW\\\\/easement\",\"33\":\"on station plaza\",\"34\":\"\",\"35\":\"state property?\",\"36\":\"\",\"37\":\"\",\"38\":\"\",\"39\":\"\",\"40\":\"adjacent to parkland\",\"41\":\"moving soon when CapMetro Station work complete\",\"42\":\"adjacent to parkland\",\"43\":\"check dock #-18?\",\"44\":\"\",\"45\":\"\",\"46\":\"\",\"47\":\"in buffer area parking\",\"48\":\"\",\"49\":\"\",\"50\":\"\",\"51\":\"\",\"52\":\"\",\"53\":\"\",\"54\":\"\",\"55\":\"\",\"56\":\"\",\"57\":\"in buffer area parking, check dock #\",\"58\":\"\",\"59\":\"\",\"60\":\"\",\"61\":\"\",\"62\":\"Kiosk replaced by Barton Sp\\\\/Riverside.  Old city ID: 32517\",\"63\":\"\",\"64\":\"\",\"65\":\"\",\"66\":\"\",\"67\":\"\",\"68\":\"\",\"69\":\"\",\"70\":\"\",\"71\":\"\",\"72\":\"\",\"73\":\"\",\"74\":\"\",\"75\":\"\",\"76\":\"\",\"77\":\"\",\"78\":\"\",\"79\":\"\",\"80\":\"\",\"81\":\"\",\"82\":\"\",\"83\":\"\",\"84\":\"\",\"85\":\"parkland in ROW\\\\/eastment\",\"86\":\"\",\"87\":\"\",\"88\":\"ROW might belong to UT\"},\"council_district\":{\"0\":9,\"1\":9,\"2\":9,\"3\":9,\"4\":9,\"5\":9,\"6\":9,\"7\":5,\"8\":3,\"9\":1,\"10\":3,\"11\":9,\"12\":1,\"13\":1,\"14\":8,\"15\":9,\"16\":9,\"17\":9,\"18\":3,\"19\":9,\"20\":9,\"21\":9,\"22\":1,\"23\":9,\"24\":9,\"25\":5,\"26\":9,\"27\":9,\"28\":9,\"29\":1,\"30\":1,\"31\":9,\"32\":9,\"33\":3,\"34\":9,\"35\":1,\"36\":9,\"37\":9,\"38\":10,\"39\":9,\"40\":9,\"41\":9,\"42\":9,\"43\":9,\"44\":9,\"45\":9,\"46\":9,\"47\":9,\"48\":9,\"49\":9,\"50\":9,\"51\":9,\"52\":9,\"53\":9,\"54\":9,\"55\":1,\"56\":3,\"57\":9,\"58\":9,\"59\":9,\"60\":9,\"61\":9,\"62\":3,\"63\":1,\"64\":1,\"65\":1,\"66\":5,\"67\":3,\"68\":3,\"69\":3,\"70\":3,\"71\":3,\"72\":1,\"73\":1,\"74\":3,\"75\":3,\"76\":3,\"77\":9,\"78\":9,\"79\":5,\"80\":10,\"81\":9,\"82\":9,\"83\":9,\"84\":9,\"85\":9,\"86\":9,\"87\":9,\"88\":9},\"modified_date\":{\"0\":\"2021-01-04T12:00:00Z\",\"1\":\"2021-01-04T12:00:00Z\",\"2\":\"2021-01-04T12:00:00Z\",\"3\":\"2021-01-04T12:00:00Z\",\"4\":\"2021-01-04T12:00:00Z\",\"5\":\"2021-01-04T12:00:00Z\",\"6\":\"2021-01-04T12:00:00Z\",\"7\":\"2021-01-04T12:00:00Z\",\"8\":\"2021-01-04T12:00:00Z\",\"9\":\"2021-01-04T12:00:00Z\",\"10\":\"2021-01-04T12:00:00Z\",\"11\":\"2021-01-04T12:00:00Z\",\"12\":\"2021-01-04T12:00:00Z\",\"13\":\"2021-01-04T12:00:00Z\",\"14\":\"2021-01-04T12:00:00Z\",\"15\":\"2021-01-04T12:00:00Z\",\"16\":\"2021-01-04T12:00:00Z\",\"17\":\"2021-01-04T12:00:00Z\",\"18\":\"2021-07-27T08:25:00Z\",\"19\":\"2021-01-04T12:00:00Z\",\"20\":\"2021-01-04T12:00:00Z\",\"21\":\"2021-01-04T12:00:00Z\",\"22\":\"2021-01-04T12:00:00Z\",\"23\":\"2021-01-04T12:00:00Z\",\"24\":\"2021-01-04T12:00:00Z\",\"25\":\"2021-01-04T12:00:00Z\",\"26\":\"2021-01-04T12:00:00Z\",\"27\":\"2021-01-04T12:00:00Z\",\"28\":\"2021-01-04T12:00:00Z\",\"29\":\"2021-01-04T12:00:00Z\",\"30\":\"2021-01-04T12:00:00Z\",\"31\":\"2021-01-04T12:00:00Z\",\"32\":\"2021-01-04T12:00:00Z\",\"33\":\"2021-01-04T12:00:00Z\",\"34\":\"2021-01-04T12:00:00Z\",\"35\":\"2021-01-04T12:00:00Z\",\"36\":\"2021-01-04T12:00:00Z\",\"37\":\"2021-01-04T12:00:00Z\",\"38\":\"2021-01-04T12:00:00Z\",\"39\":\"2021-01-04T12:00:00Z\",\"40\":\"2021-01-04T12:00:00Z\",\"41\":\"2021-01-04T12:00:00Z\",\"42\":\"2021-01-04T12:00:00Z\",\"43\":\"2021-01-04T12:00:00Z\",\"44\":\"2021-01-04T12:00:00Z\",\"45\":\"2021-01-04T12:00:00Z\",\"46\":\"2021-03-12T01:02:00Z\",\"47\":\"2021-01-04T12:00:00Z\",\"48\":\"2021-01-04T12:00:00Z\",\"49\":\"2021-01-04T12:00:00Z\",\"50\":\"2021-03-12T01:15:00Z\",\"51\":\"2021-03-12T12:49:00Z\",\"52\":\"2021-01-04T12:00:00Z\",\"53\":\"2021-01-04T12:00:00Z\",\"54\":\"2021-01-04T12:00:00Z\",\"55\":\"2021-01-04T12:00:00Z\",\"56\":\"2021-01-04T12:00:00Z\",\"57\":\"2021-01-04T12:00:00Z\",\"58\":\"2021-01-04T12:00:00Z\",\"59\":\"2021-01-04T12:00:00Z\",\"60\":\"2021-01-04T12:00:00Z\",\"61\":\"2021-01-04T12:00:00Z\",\"62\":\"2021-01-04T12:00:00Z\",\"63\":\"2021-01-04T12:00:00Z\",\"64\":\"2021-01-04T12:00:00Z\",\"65\":\"2021-01-04T12:00:00Z\",\"66\":\"2021-01-04T12:00:00Z\",\"67\":\"2021-01-04T12:00:00Z\",\"68\":\"2021-01-04T12:00:00Z\",\"69\":\"2021-01-04T12:00:00Z\",\"70\":\"2021-01-04T12:00:00Z\",\"71\":\"2021-01-04T12:00:00Z\",\"72\":\"2021-01-04T12:00:00Z\",\"73\":\"2021-01-04T12:00:00Z\",\"74\":\"2021-01-04T12:00:00Z\",\"75\":\"2021-01-04T12:00:00Z\",\"76\":\"2021-01-04T12:00:00Z\",\"77\":\"2021-01-04T12:00:00Z\",\"78\":\"2021-01-04T12:00:00Z\",\"79\":\"2021-01-04T12:00:00Z\",\"80\":\"2021-01-04T12:00:00Z\",\"81\":\"2021-01-04T12:00:00Z\",\"82\":\"2021-01-04T12:00:00Z\",\"83\":\"2021-01-04T12:00:00Z\",\"84\":\"2021-01-04T12:00:00Z\",\"85\":\"2021-01-04T12:00:00Z\",\"86\":\"2021-01-04T12:00:00Z\",\"87\":\"2021-01-04T12:00:00Z\",\"88\":\"2021-01-04T12:00:00Z\"}}'"
      ]
     },
     "execution_count": 18,
     "metadata": {},
     "output_type": "execute_result"
    }
   ],
   "source": [
    "res.text"
   ]
  },
  {
   "cell_type": "markdown",
   "id": "9a74d722-50f9-4c1c-9fca-ab8708cf9848",
   "metadata": {},
   "source": [
    "The response sent by the server was not only contains bare data. It was packed as HTTP response, meaning that we need to unpack the response first  in order to get the data. we can use `res.json()` to obtain it, then use pandas to transform it into dataframe for readibility or future analysis purposes. "
   ]
  },
  {
   "cell_type": "code",
   "execution_count": 19,
   "id": "c2b40a51-3e8f-4991-b58e-70cb3b95f345",
   "metadata": {},
   "outputs": [
    {
     "data": {
      "text/html": [
       "<div>\n",
       "<style scoped>\n",
       "    .dataframe tbody tr th:only-of-type {\n",
       "        vertical-align: middle;\n",
       "    }\n",
       "\n",
       "    .dataframe tbody tr th {\n",
       "        vertical-align: top;\n",
       "    }\n",
       "\n",
       "    .dataframe thead th {\n",
       "        text-align: right;\n",
       "    }\n",
       "</style>\n",
       "<table border=\"1\" class=\"dataframe\">\n",
       "  <thead>\n",
       "    <tr style=\"text-align: right;\">\n",
       "      <th></th>\n",
       "      <th>station_id</th>\n",
       "      <th>name</th>\n",
       "      <th>status</th>\n",
       "      <th>address</th>\n",
       "      <th>alternate_name</th>\n",
       "      <th>city_asset_number</th>\n",
       "      <th>property_type</th>\n",
       "      <th>number_of_docks</th>\n",
       "      <th>power_type</th>\n",
       "      <th>footprint_length</th>\n",
       "      <th>footprint_width</th>\n",
       "      <th>notes</th>\n",
       "      <th>council_district</th>\n",
       "      <th>modified_date</th>\n",
       "    </tr>\n",
       "  </thead>\n",
       "  <tbody>\n",
       "    <tr>\n",
       "      <th>0</th>\n",
       "      <td>2500</td>\n",
       "      <td>Republic Square</td>\n",
       "      <td>closed</td>\n",
       "      <td>425 W 4th Street</td>\n",
       "      <td></td>\n",
       "      <td></td>\n",
       "      <td></td>\n",
       "      <td></td>\n",
       "      <td></td>\n",
       "      <td></td>\n",
       "      <td></td>\n",
       "      <td></td>\n",
       "      <td>9</td>\n",
       "      <td>2021-01-04T12:00:00Z</td>\n",
       "    </tr>\n",
       "    <tr>\n",
       "      <th>1</th>\n",
       "      <td>2546</td>\n",
       "      <td>ACC - West &amp; 12th Street</td>\n",
       "      <td>closed</td>\n",
       "      <td>1231 West Ave.</td>\n",
       "      <td></td>\n",
       "      <td></td>\n",
       "      <td></td>\n",
       "      <td></td>\n",
       "      <td></td>\n",
       "      <td></td>\n",
       "      <td></td>\n",
       "      <td></td>\n",
       "      <td>9</td>\n",
       "      <td>2021-01-04T12:00:00Z</td>\n",
       "    </tr>\n",
       "    <tr>\n",
       "      <th>2</th>\n",
       "      <td>2502</td>\n",
       "      <td>Barton Springs &amp; Riverside</td>\n",
       "      <td>closed</td>\n",
       "      <td>400 Barton Springs Rd.</td>\n",
       "      <td></td>\n",
       "      <td></td>\n",
       "      <td></td>\n",
       "      <td></td>\n",
       "      <td></td>\n",
       "      <td></td>\n",
       "      <td></td>\n",
       "      <td>moved to Pedernales/2nd. Original city ID: 16729</td>\n",
       "      <td>9</td>\n",
       "      <td>2021-01-04T12:00:00Z</td>\n",
       "    </tr>\n",
       "    <tr>\n",
       "      <th>3</th>\n",
       "      <td>3687</td>\n",
       "      <td>Boardwalk West</td>\n",
       "      <td>active</td>\n",
       "      <td>300 E. Riverside Dr.</td>\n",
       "      <td></td>\n",
       "      <td>16683</td>\n",
       "      <td>parkland</td>\n",
       "      <td>9</td>\n",
       "      <td>solar</td>\n",
       "      <td>30.0</td>\n",
       "      <td>5.0</td>\n",
       "      <td></td>\n",
       "      <td>9</td>\n",
       "      <td>2021-01-04T12:00:00Z</td>\n",
       "    </tr>\n",
       "    <tr>\n",
       "      <th>4</th>\n",
       "      <td>3684</td>\n",
       "      <td>Congress &amp; Cesar Chavez</td>\n",
       "      <td>active</td>\n",
       "      <td>124 W Cesar Chavez St</td>\n",
       "      <td></td>\n",
       "      <td>32594</td>\n",
       "      <td>parkland</td>\n",
       "      <td>11</td>\n",
       "      <td>solar</td>\n",
       "      <td>35.0</td>\n",
       "      <td>5.0</td>\n",
       "      <td>parkland at ROW/easement</td>\n",
       "      <td>9</td>\n",
       "      <td>2021-01-04T12:00:00Z</td>\n",
       "    </tr>\n",
       "    <tr>\n",
       "      <th>...</th>\n",
       "      <td>...</td>\n",
       "      <td>...</td>\n",
       "      <td>...</td>\n",
       "      <td>...</td>\n",
       "      <td>...</td>\n",
       "      <td>...</td>\n",
       "      <td>...</td>\n",
       "      <td>...</td>\n",
       "      <td>...</td>\n",
       "      <td>...</td>\n",
       "      <td>...</td>\n",
       "      <td>...</td>\n",
       "      <td>...</td>\n",
       "      <td>...</td>\n",
       "    </tr>\n",
       "    <tr>\n",
       "      <th>84</th>\n",
       "      <td>4048</td>\n",
       "      <td>South Congress @ Bouldin Creek</td>\n",
       "      <td>active</td>\n",
       "      <td>799 South Congress Avenue</td>\n",
       "      <td></td>\n",
       "      <td>32746</td>\n",
       "      <td>undetermined_parking</td>\n",
       "      <td>13</td>\n",
       "      <td>solar</td>\n",
       "      <td>40.0</td>\n",
       "      <td>5.0</td>\n",
       "      <td></td>\n",
       "      <td>9</td>\n",
       "      <td>2021-01-04T12:00:00Z</td>\n",
       "    </tr>\n",
       "    <tr>\n",
       "      <th>85</th>\n",
       "      <td>3377</td>\n",
       "      <td>MoPac Pedestrian Bridge @ Veterans Drive</td>\n",
       "      <td>active</td>\n",
       "      <td>2105 Veterans Dr.</td>\n",
       "      <td></td>\n",
       "      <td>16598</td>\n",
       "      <td>undetermined_parking</td>\n",
       "      <td>19</td>\n",
       "      <td>solar</td>\n",
       "      <td>55.0</td>\n",
       "      <td>5.0</td>\n",
       "      <td>parkland in ROW/eastment</td>\n",
       "      <td>9</td>\n",
       "      <td>2021-01-04T12:00:00Z</td>\n",
       "    </tr>\n",
       "    <tr>\n",
       "      <th>86</th>\n",
       "      <td>3794</td>\n",
       "      <td>Dean Keeton &amp; Speedway</td>\n",
       "      <td>active</td>\n",
       "      <td>180 E. Dean Keeton St.</td>\n",
       "      <td></td>\n",
       "      <td>32670</td>\n",
       "      <td>undetermined_parking</td>\n",
       "      <td>19</td>\n",
       "      <td>solar</td>\n",
       "      <td>55.0</td>\n",
       "      <td>5.0</td>\n",
       "      <td></td>\n",
       "      <td>9</td>\n",
       "      <td>2021-01-04T12:00:00Z</td>\n",
       "    </tr>\n",
       "    <tr>\n",
       "      <th>87</th>\n",
       "      <td>3795</td>\n",
       "      <td>Dean Keeton &amp; Whitis</td>\n",
       "      <td>active</td>\n",
       "      <td>300 W. Dean Keeton St.</td>\n",
       "      <td></td>\n",
       "      <td>32671</td>\n",
       "      <td>undetermined_parking</td>\n",
       "      <td>19</td>\n",
       "      <td>solar</td>\n",
       "      <td>55.0</td>\n",
       "      <td>5.0</td>\n",
       "      <td></td>\n",
       "      <td>9</td>\n",
       "      <td>2021-01-04T12:00:00Z</td>\n",
       "    </tr>\n",
       "    <tr>\n",
       "      <th>88</th>\n",
       "      <td>3797</td>\n",
       "      <td>21st &amp; University</td>\n",
       "      <td>active</td>\n",
       "      <td>2007 University Ave.</td>\n",
       "      <td></td>\n",
       "      <td>32674</td>\n",
       "      <td>undetermined_parking</td>\n",
       "      <td>19</td>\n",
       "      <td>solar</td>\n",
       "      <td>55.0</td>\n",
       "      <td>5.0</td>\n",
       "      <td>ROW might belong to UT</td>\n",
       "      <td>9</td>\n",
       "      <td>2021-01-04T12:00:00Z</td>\n",
       "    </tr>\n",
       "  </tbody>\n",
       "</table>\n",
       "<p>89 rows × 14 columns</p>\n",
       "</div>"
      ],
      "text/plain": [
       "    station_id                                      name  status   \n",
       "0         2500                           Republic Square  closed  \\\n",
       "1         2546                  ACC - West & 12th Street  closed   \n",
       "2         2502                Barton Springs & Riverside  closed   \n",
       "3         3687                            Boardwalk West  active   \n",
       "4         3684                   Congress & Cesar Chavez  active   \n",
       "..         ...                                       ...     ...   \n",
       "84        4048            South Congress @ Bouldin Creek  active   \n",
       "85        3377  MoPac Pedestrian Bridge @ Veterans Drive  active   \n",
       "86        3794                    Dean Keeton & Speedway  active   \n",
       "87        3795                      Dean Keeton & Whitis  active   \n",
       "88        3797                         21st & University  active   \n",
       "\n",
       "                      address alternate_name city_asset_number   \n",
       "0            425 W 4th Street                                   \\\n",
       "1              1231 West Ave.                                    \n",
       "2      400 Barton Springs Rd.                                    \n",
       "3        300 E. Riverside Dr.                            16683   \n",
       "4       124 W Cesar Chavez St                            32594   \n",
       "..                        ...            ...               ...   \n",
       "84  799 South Congress Avenue                            32746   \n",
       "85          2105 Veterans Dr.                            16598   \n",
       "86     180 E. Dean Keeton St.                            32670   \n",
       "87     300 W. Dean Keeton St.                            32671   \n",
       "88       2007 University Ave.                            32674   \n",
       "\n",
       "           property_type number_of_docks power_type footprint_length   \n",
       "0                                                                     \\\n",
       "1                                                                      \n",
       "2                                                                      \n",
       "3               parkland               9      solar             30.0   \n",
       "4               parkland              11      solar             35.0   \n",
       "..                   ...             ...        ...              ...   \n",
       "84  undetermined_parking              13      solar             40.0   \n",
       "85  undetermined_parking              19      solar             55.0   \n",
       "86  undetermined_parking              19      solar             55.0   \n",
       "87  undetermined_parking              19      solar             55.0   \n",
       "88  undetermined_parking              19      solar             55.0   \n",
       "\n",
       "   footprint_width                                             notes   \n",
       "0                                                                     \\\n",
       "1                                                                      \n",
       "2                   moved to Pedernales/2nd. Original city ID: 16729   \n",
       "3              5.0                                                     \n",
       "4              5.0                          parkland at ROW/easement   \n",
       "..             ...                                               ...   \n",
       "84             5.0                                                     \n",
       "85             5.0                          parkland in ROW/eastment   \n",
       "86             5.0                                                     \n",
       "87             5.0                                                     \n",
       "88             5.0                            ROW might belong to UT   \n",
       "\n",
       "    council_district         modified_date  \n",
       "0                  9  2021-01-04T12:00:00Z  \n",
       "1                  9  2021-01-04T12:00:00Z  \n",
       "2                  9  2021-01-04T12:00:00Z  \n",
       "3                  9  2021-01-04T12:00:00Z  \n",
       "4                  9  2021-01-04T12:00:00Z  \n",
       "..               ...                   ...  \n",
       "84                 9  2021-01-04T12:00:00Z  \n",
       "85                 9  2021-01-04T12:00:00Z  \n",
       "86                 9  2021-01-04T12:00:00Z  \n",
       "87                 9  2021-01-04T12:00:00Z  \n",
       "88                 9  2021-01-04T12:00:00Z  \n",
       "\n",
       "[89 rows x 14 columns]"
      ]
     },
     "execution_count": 19,
     "metadata": {},
     "output_type": "execute_result"
    }
   ],
   "source": [
    "pd.DataFrame(res.json())"
   ]
  },
  {
   "cell_type": "code",
   "execution_count": 20,
   "id": "d2fe4821",
   "metadata": {},
   "outputs": [],
   "source": [
    "url = 'http://127.0.0.1:5000/trips/'\n",
    "res = requests.get(url)"
   ]
  },
  {
   "cell_type": "code",
   "execution_count": 21,
   "id": "8a3017a4",
   "metadata": {},
   "outputs": [
    {
     "data": {
      "text/plain": [
       "<Response [200]>"
      ]
     },
     "execution_count": 21,
     "metadata": {},
     "output_type": "execute_result"
    }
   ],
   "source": [
    "res"
   ]
  },
  {
   "cell_type": "code",
   "execution_count": 22,
   "id": "a4ebb53f",
   "metadata": {},
   "outputs": [
    {
     "data": {
      "text/plain": [
       "'\"id\":{\"0\":9900289692,\"1\":9900285987,\"2\":9900285989,\"3\":9900285991,\"4\":9900286140,\"5\":9900286143,\"6\":9900286171,\"7\":9900286214,\"8\":9900286540,\"9\":13575843,\"10\":9900287291,\"11\":9900287293,\"12\":9900287294,\"13\":9900287414,\"14\":9900287861,\"15\":9900287864,\"16\":9900288008,\"17\":9900288149,\"18\":9900290433,\"19\":9900288210,\"20\":9900288274,\"21\":9900288276,\"22\":9900288278,\"23\":9900288279,\"24\":9900288333,\"25\":9900288343,\"26\":9900288379,\"27\":9900288445,\"28\":9900288446,\"29\":9900288447,\"30\":9900288594,\"31\":9900288695,\"32\":9900288777,\"33\":9900288832,\"34\":9900288863,\"35\":9900288951,\"36\":9900288985,\"37\":9900288998,\"38\":9900289083,\"39\":9900289091,\"40\":9900289108,\"41\":9900289112,\"42\":9900289126,\"43\":9900289130,\"44\":9900289157,\"45\":9900289236,\"46\":9900289247,\"47\":9900289262,\"48\":9900289307,\"49\":9900289320,\"50\":9900289332,\"51\":9900289349,\"52\":9900289372,\"53\":9900289380,\"54\":9900289457,\"55\":9900289493,\"56\":9900289496,\"57\":9900289535,\"58\":9900289572,\"59\":9900289573,\"60\":9900289581,\"61\":9900289594,\"62\":99002896'"
      ]
     },
     "execution_count": 22,
     "metadata": {},
     "output_type": "execute_result"
    }
   ],
   "source": [
    "res.text[1:1000]"
   ]
  },
  {
   "cell_type": "code",
   "execution_count": 23,
   "id": "c595560f",
   "metadata": {},
   "outputs": [
    {
     "data": {
      "text/html": [
       "<div>\n",
       "<style scoped>\n",
       "    .dataframe tbody tr th:only-of-type {\n",
       "        vertical-align: middle;\n",
       "    }\n",
       "\n",
       "    .dataframe tbody tr th {\n",
       "        vertical-align: top;\n",
       "    }\n",
       "\n",
       "    .dataframe thead th {\n",
       "        text-align: right;\n",
       "    }\n",
       "</style>\n",
       "<table border=\"1\" class=\"dataframe\">\n",
       "  <thead>\n",
       "    <tr style=\"text-align: right;\">\n",
       "      <th></th>\n",
       "      <th>id</th>\n",
       "      <th>subscriber_type</th>\n",
       "      <th>bikeid</th>\n",
       "      <th>start_time</th>\n",
       "      <th>start_station_id</th>\n",
       "      <th>start_station_name</th>\n",
       "      <th>end_station_id</th>\n",
       "      <th>end_station_name</th>\n",
       "      <th>duration_minutes</th>\n",
       "    </tr>\n",
       "  </thead>\n",
       "  <tbody>\n",
       "    <tr>\n",
       "      <th>0</th>\n",
       "      <td>9900289692</td>\n",
       "      <td>Walk Up</td>\n",
       "      <td>248</td>\n",
       "      <td>2015-10-02 21:12:01 UTC</td>\n",
       "      <td>1006</td>\n",
       "      <td>Zilker Park West</td>\n",
       "      <td>1008</td>\n",
       "      <td>Nueces @ 3rd</td>\n",
       "      <td>39</td>\n",
       "    </tr>\n",
       "    <tr>\n",
       "      <th>1</th>\n",
       "      <td>9900285987</td>\n",
       "      <td>24-Hour Kiosk (Austin B-cycle)</td>\n",
       "      <td>446</td>\n",
       "      <td>2014-10-26 15:12:00 UTC</td>\n",
       "      <td>2712</td>\n",
       "      <td>Toomey Rd @ South Lamar</td>\n",
       "      <td>2712</td>\n",
       "      <td>Toomey Rd @ South Lamar</td>\n",
       "      <td>31</td>\n",
       "    </tr>\n",
       "    <tr>\n",
       "      <th>2</th>\n",
       "      <td>9900285989</td>\n",
       "      <td>24-Hour Kiosk (Austin B-cycle)</td>\n",
       "      <td>203</td>\n",
       "      <td>2014-10-26 15:12:00 UTC</td>\n",
       "      <td>2712</td>\n",
       "      <td>Toomey Rd @ South Lamar</td>\n",
       "      <td>2712</td>\n",
       "      <td>Toomey Rd @ South Lamar</td>\n",
       "      <td>31</td>\n",
       "    </tr>\n",
       "    <tr>\n",
       "      <th>3</th>\n",
       "      <td>9900285991</td>\n",
       "      <td>24-Hour Kiosk (Austin B-cycle)</td>\n",
       "      <td>101</td>\n",
       "      <td>2014-10-26 15:12:00 UTC</td>\n",
       "      <td>2712</td>\n",
       "      <td>Toomey Rd @ South Lamar</td>\n",
       "      <td>2712</td>\n",
       "      <td>Toomey Rd @ South Lamar</td>\n",
       "      <td>30</td>\n",
       "    </tr>\n",
       "    <tr>\n",
       "      <th>4</th>\n",
       "      <td>9900286140</td>\n",
       "      <td>24-Hour Kiosk (Austin B-cycle)</td>\n",
       "      <td>242</td>\n",
       "      <td>2014-10-26 18:12:00 UTC</td>\n",
       "      <td>2541</td>\n",
       "      <td>State Capitol @ 14th &amp; Colorado</td>\n",
       "      <td>2541</td>\n",
       "      <td>State Capitol @ 14th &amp; Colorado</td>\n",
       "      <td>19</td>\n",
       "    </tr>\n",
       "    <tr>\n",
       "      <th>5</th>\n",
       "      <td>9900286143</td>\n",
       "      <td>24-Hour Kiosk (Austin B-cycle)</td>\n",
       "      <td>924</td>\n",
       "      <td>2014-10-26 18:12:00 UTC</td>\n",
       "      <td>2541</td>\n",
       "      <td>State Capitol @ 14th &amp; Colorado</td>\n",
       "      <td>2541</td>\n",
       "      <td>State Capitol @ 14th &amp; Colorado</td>\n",
       "      <td>17</td>\n",
       "    </tr>\n",
       "    <tr>\n",
       "      <th>6</th>\n",
       "      <td>9900286171</td>\n",
       "      <td>24-Hour Kiosk (Austin B-cycle)</td>\n",
       "      <td>869</td>\n",
       "      <td>2014-10-26 18:12:00 UTC</td>\n",
       "      <td>2536</td>\n",
       "      <td>Waller &amp; 6th St.</td>\n",
       "      <td>2536</td>\n",
       "      <td>Waller &amp; 6th St.</td>\n",
       "      <td>6</td>\n",
       "    </tr>\n",
       "    <tr>\n",
       "      <th>7</th>\n",
       "      <td>9900286214</td>\n",
       "      <td>Annual Membership (Austin B-cycle)</td>\n",
       "      <td>24</td>\n",
       "      <td>2014-10-26 20:12:00 UTC</td>\n",
       "      <td>2712</td>\n",
       "      <td>Toomey Rd @ South Lamar</td>\n",
       "      <td>2712</td>\n",
       "      <td>Toomey Rd @ South Lamar</td>\n",
       "      <td>0</td>\n",
       "    </tr>\n",
       "    <tr>\n",
       "      <th>8</th>\n",
       "      <td>9900286540</td>\n",
       "      <td>24-Hour Kiosk (Austin B-cycle)</td>\n",
       "      <td>117</td>\n",
       "      <td>2014-10-27 15:12:00 UTC</td>\n",
       "      <td>2536</td>\n",
       "      <td>Waller &amp; 6th St.</td>\n",
       "      <td>2536</td>\n",
       "      <td>Waller &amp; 6th St.</td>\n",
       "      <td>12</td>\n",
       "    </tr>\n",
       "    <tr>\n",
       "      <th>9</th>\n",
       "      <td>13575843</td>\n",
       "      <td>Walk Up</td>\n",
       "      <td>302</td>\n",
       "      <td>2017-01-29 16:42:52 UTC</td>\n",
       "      <td>3464</td>\n",
       "      <td>Pease Park</td>\n",
       "      <td>3464</td>\n",
       "      <td>Pease Park</td>\n",
       "      <td>47</td>\n",
       "    </tr>\n",
       "  </tbody>\n",
       "</table>\n",
       "</div>"
      ],
      "text/plain": [
       "           id                     subscriber_type bikeid   \n",
       "0  9900289692                             Walk Up    248  \\\n",
       "1  9900285987      24-Hour Kiosk (Austin B-cycle)    446   \n",
       "2  9900285989      24-Hour Kiosk (Austin B-cycle)    203   \n",
       "3  9900285991      24-Hour Kiosk (Austin B-cycle)    101   \n",
       "4  9900286140      24-Hour Kiosk (Austin B-cycle)    242   \n",
       "5  9900286143      24-Hour Kiosk (Austin B-cycle)    924   \n",
       "6  9900286171      24-Hour Kiosk (Austin B-cycle)    869   \n",
       "7  9900286214  Annual Membership (Austin B-cycle)     24   \n",
       "8  9900286540      24-Hour Kiosk (Austin B-cycle)    117   \n",
       "9    13575843                             Walk Up    302   \n",
       "\n",
       "                start_time start_station_id               start_station_name   \n",
       "0  2015-10-02 21:12:01 UTC             1006                 Zilker Park West  \\\n",
       "1  2014-10-26 15:12:00 UTC             2712          Toomey Rd @ South Lamar   \n",
       "2  2014-10-26 15:12:00 UTC             2712          Toomey Rd @ South Lamar   \n",
       "3  2014-10-26 15:12:00 UTC             2712          Toomey Rd @ South Lamar   \n",
       "4  2014-10-26 18:12:00 UTC             2541  State Capitol @ 14th & Colorado   \n",
       "5  2014-10-26 18:12:00 UTC             2541  State Capitol @ 14th & Colorado   \n",
       "6  2014-10-26 18:12:00 UTC             2536                 Waller & 6th St.   \n",
       "7  2014-10-26 20:12:00 UTC             2712          Toomey Rd @ South Lamar   \n",
       "8  2014-10-27 15:12:00 UTC             2536                 Waller & 6th St.   \n",
       "9  2017-01-29 16:42:52 UTC             3464                       Pease Park   \n",
       "\n",
       "  end_station_id                 end_station_name  duration_minutes  \n",
       "0           1008                     Nueces @ 3rd                39  \n",
       "1           2712          Toomey Rd @ South Lamar                31  \n",
       "2           2712          Toomey Rd @ South Lamar                31  \n",
       "3           2712          Toomey Rd @ South Lamar                30  \n",
       "4           2541  State Capitol @ 14th & Colorado                19  \n",
       "5           2541  State Capitol @ 14th & Colorado                17  \n",
       "6           2536                 Waller & 6th St.                 6  \n",
       "7           2712          Toomey Rd @ South Lamar                 0  \n",
       "8           2536                 Waller & 6th St.                12  \n",
       "9           3464                       Pease Park                47  "
      ]
     },
     "execution_count": 23,
     "metadata": {},
     "output_type": "execute_result"
    }
   ],
   "source": [
    "pd.DataFrame(res.json()).head(10)"
   ]
  },
  {
   "cell_type": "markdown",
   "id": "adbd0b76-5fa5-4b0e-acfa-85774528130f",
   "metadata": {},
   "source": [
    "## Static and Dynamic Endpoints"
   ]
  },
  {
   "cell_type": "markdown",
   "id": "479eec15-63e3-421a-8227-0d46b6a7349c",
   "metadata": {},
   "source": [
    "On previous part we already made several endpoints which control how our server will react whenever users access it. \n",
    "If we take a look at the endpoints, it's all static : \n",
    "- `@app.route('/')`\n",
    "- `@app.route('/home/')`\n",
    "- `@app.route('/stations/')`\n",
    "- `@app.route('/trips/')`\n",
    "\n",
    "\n",
    "What if, instead of getting all the stations information, we only wanted to read a specific station information of station_id 3464 ? \\\n",
    "should we make an excact endpoint of that like `@app.route('stations/3464')`?. But what about the others? are we going to make a bunch of endpoints for each specific id like: \n",
    "- `@app.route('/stations/3464')`\n",
    "- `@app.route('/stations/2500')`\n",
    "- `@app.route('/stations/2541')`\n",
    "- and so on...\n",
    "\n",
    "Of course we shouldn't. One way to overcome the problem is by delcaring a **dynamic endpoints**. Basically, it's an endpoint which allows user to insert a variable values in it. The final looks of the dynamic endpoint version of above problem is: \n",
    "- `@app.route('stations/<station_id>')`\n",
    "\n",
    "From above endpoint, the \\<station_id\\> is the variable, and we need to make sure that it influence how our following function acts. The whole dynamic endpoints for getting specific station by its id will looks like: \n",
    "\n",
    "```python \n",
    "@app.route('/stations/<station_id>')\n",
    "def route_stations_id(station_id):\n",
    "    conn = make_connection()\n",
    "    station = get_station_id(station_id, conn)\n",
    "    return station.to_json()\n",
    "```\n"
   ]
  },
  {
   "cell_type": "markdown",
   "id": "4a91fb67-4645-4097-b266-e1c8f77c8b5d",
   "metadata": {},
   "source": [
    "Before accesing the endpoint, make sure that `make_connection()` and `get_station_id()` functions are included inside `app.py` script so that it won't raise an error. Now for the final step, we can try to access the dynamic endpoints by changing the `station_id` in the following codes"
   ]
  },
  {
   "cell_type": "code",
   "execution_count": 24,
   "id": "3d97afd6-6673-46c2-9ea8-6920dca5eba4",
   "metadata": {},
   "outputs": [],
   "source": [
    "station_id = 2500\n",
    "url = f\"http://127.0.0.1:5000/stations/{station_id}\""
   ]
  },
  {
   "cell_type": "code",
   "execution_count": 25,
   "id": "c948b850-fd61-4e3c-9b54-45c8741c3d21",
   "metadata": {},
   "outputs": [
    {
     "data": {
      "text/html": [
       "<div>\n",
       "<style scoped>\n",
       "    .dataframe tbody tr th:only-of-type {\n",
       "        vertical-align: middle;\n",
       "    }\n",
       "\n",
       "    .dataframe tbody tr th {\n",
       "        vertical-align: top;\n",
       "    }\n",
       "\n",
       "    .dataframe thead th {\n",
       "        text-align: right;\n",
       "    }\n",
       "</style>\n",
       "<table border=\"1\" class=\"dataframe\">\n",
       "  <thead>\n",
       "    <tr style=\"text-align: right;\">\n",
       "      <th></th>\n",
       "      <th>station_id</th>\n",
       "      <th>name</th>\n",
       "      <th>status</th>\n",
       "      <th>address</th>\n",
       "      <th>alternate_name</th>\n",
       "      <th>city_asset_number</th>\n",
       "      <th>property_type</th>\n",
       "      <th>number_of_docks</th>\n",
       "      <th>power_type</th>\n",
       "      <th>footprint_length</th>\n",
       "      <th>footprint_width</th>\n",
       "      <th>notes</th>\n",
       "      <th>council_district</th>\n",
       "      <th>modified_date</th>\n",
       "    </tr>\n",
       "  </thead>\n",
       "  <tbody>\n",
       "    <tr>\n",
       "      <th>0</th>\n",
       "      <td>2500</td>\n",
       "      <td>Republic Square</td>\n",
       "      <td>closed</td>\n",
       "      <td>425 W 4th Street</td>\n",
       "      <td></td>\n",
       "      <td></td>\n",
       "      <td></td>\n",
       "      <td></td>\n",
       "      <td></td>\n",
       "      <td></td>\n",
       "      <td></td>\n",
       "      <td></td>\n",
       "      <td>9</td>\n",
       "      <td>2021-01-04T12:00:00Z</td>\n",
       "    </tr>\n",
       "  </tbody>\n",
       "</table>\n",
       "</div>"
      ],
      "text/plain": [
       "   station_id             name  status           address alternate_name   \n",
       "0        2500  Republic Square  closed  425 W 4th Street                 \\\n",
       "\n",
       "  city_asset_number property_type number_of_docks power_type footprint_length   \n",
       "0                                                                              \\\n",
       "\n",
       "  footprint_width notes  council_district         modified_date  \n",
       "0                                       9  2021-01-04T12:00:00Z  "
      ]
     },
     "execution_count": 25,
     "metadata": {},
     "output_type": "execute_result"
    }
   ],
   "source": [
    "response = requests.get(url)\n",
    "pd.DataFrame(response.json())"
   ]
  },
  {
   "cell_type": "markdown",
   "id": "7c5ca64f-b5ae-4fe3-890f-71419a69bfa3",
   "metadata": {},
   "source": [
    "**TASK: Implement dynamic endpoints to read specific trip by its trip_id!** \\\n",
    "Place it under `@app.route('/trips/<trip_id>')` endpoint"
   ]
  },
  {
   "cell_type": "code",
   "execution_count": 26,
   "id": "65a34627",
   "metadata": {},
   "outputs": [],
   "source": [
    "trip_id = 8269930\n",
    "url = f\"http://127.0.0.1:5000/trips/{trip_id}\""
   ]
  },
  {
   "cell_type": "code",
   "execution_count": 27,
   "id": "0288292b",
   "metadata": {},
   "outputs": [
    {
     "data": {
      "text/html": [
       "<div>\n",
       "<style scoped>\n",
       "    .dataframe tbody tr th:only-of-type {\n",
       "        vertical-align: middle;\n",
       "    }\n",
       "\n",
       "    .dataframe tbody tr th {\n",
       "        vertical-align: top;\n",
       "    }\n",
       "\n",
       "    .dataframe thead th {\n",
       "        text-align: right;\n",
       "    }\n",
       "</style>\n",
       "<table border=\"1\" class=\"dataframe\">\n",
       "  <thead>\n",
       "    <tr style=\"text-align: right;\">\n",
       "      <th></th>\n",
       "      <th>id</th>\n",
       "      <th>subscriber_type</th>\n",
       "      <th>bikeid</th>\n",
       "      <th>start_time</th>\n",
       "      <th>start_station_id</th>\n",
       "      <th>start_station_name</th>\n",
       "      <th>end_station_id</th>\n",
       "      <th>end_station_name</th>\n",
       "      <th>duration_minutes</th>\n",
       "    </tr>\n",
       "  </thead>\n",
       "  <tbody>\n",
       "    <tr>\n",
       "      <th>0</th>\n",
       "      <td>8269930</td>\n",
       "      <td>Local365</td>\n",
       "      <td>460</td>\n",
       "      <td>2016-01-01 00:18:49 UTC</td>\n",
       "      <td>1007</td>\n",
       "      <td>Lavaca &amp; 6th</td>\n",
       "      <td>2501</td>\n",
       "      <td>5th &amp; Bowie</td>\n",
       "      <td>4</td>\n",
       "    </tr>\n",
       "  </tbody>\n",
       "</table>\n",
       "</div>"
      ],
      "text/plain": [
       "        id subscriber_type bikeid               start_time  start_station_id   \n",
       "0  8269930        Local365    460  2016-01-01 00:18:49 UTC              1007  \\\n",
       "\n",
       "  start_station_name  end_station_id end_station_name  duration_minutes  \n",
       "0       Lavaca & 6th            2501      5th & Bowie                 4  "
      ]
     },
     "execution_count": 27,
     "metadata": {},
     "output_type": "execute_result"
    }
   ],
   "source": [
    "response = requests.get(url)\n",
    "pd.DataFrame(response.json())"
   ]
  },
  {
   "cell_type": "markdown",
   "id": "52ec2ce8-6950-4c20-9bdb-38e35311d26a",
   "metadata": {},
   "source": [
    "## Handling JSON data as input"
   ]
  },
  {
   "cell_type": "markdown",
   "id": "d694cb3a-c753-4aeb-880f-458236146532",
   "metadata": {},
   "source": [
    "Sometimes, in order to make something happens in our API, we need the user to send us the data. In this case, we need to handle how we can get the data (which mostly sent as json format) and utilize it inside our endpoint functions. \n",
    "\n",
    "In order to achieve that, we will be using flask's `request` classes.\n",
    "\n",
    "\n",
    "```python\n",
    "@app.route('/json') \n",
    "def json_example():\n",
    "    \n",
    "    req = request.get_json(force=True) # Parse the incoming json data as Dictionary\n",
    "    \n",
    "    name = req['name']\n",
    "    age = req['age']\n",
    "    address = req['address']\n",
    "    \n",
    "    return (f'''Hello {name}, your age is {age}, and your address in {address}\n",
    "            ''')\n",
    "```"
   ]
  },
  {
   "cell_type": "code",
   "execution_count": 28,
   "id": "33519e1a-3cd1-4abc-9a20-c2d981fad894",
   "metadata": {},
   "outputs": [],
   "source": [
    "data = {\n",
    "    \"name\" : \"Andi\", \n",
    "    \"age\" : 24,\n",
    "    \"address\" : \"my adress\"\n",
    "}\n",
    "\n",
    "url = \"http://127.0.0.1:5000/json\""
   ]
  },
  {
   "cell_type": "code",
   "execution_count": 29,
   "id": "9b66724f-6439-4aec-a8b5-48b4a781521b",
   "metadata": {},
   "outputs": [],
   "source": [
    "res = requests.post(url, json=data)"
   ]
  },
  {
   "cell_type": "code",
   "execution_count": 30,
   "id": "3e0f21c9-402a-4b12-bcc7-4c4534f23e5c",
   "metadata": {},
   "outputs": [
    {
     "data": {
      "text/plain": [
       "<Response [200]>"
      ]
     },
     "execution_count": 30,
     "metadata": {},
     "output_type": "execute_result"
    }
   ],
   "source": [
    "res"
   ]
  },
  {
   "cell_type": "code",
   "execution_count": 31,
   "id": "59d76173-58d9-4e38-a50d-a1ac72c3519f",
   "metadata": {},
   "outputs": [
    {
     "data": {
      "text/plain": [
       "'Hello Andi, your age is 24, and your address in my adress'"
      ]
     },
     "execution_count": 31,
     "metadata": {},
     "output_type": "execute_result"
    }
   ],
   "source": [
    "res.text"
   ]
  },
  {
   "cell_type": "markdown",
   "id": "188e3467-bff8-4919-bc90-a86cb8c4eaff",
   "metadata": {},
   "source": [
    "Now that we already know how to handle json input, we can try to implement and endpoint in which we can insert new data into `stations` table. "
   ]
  },
  {
   "cell_type": "markdown",
   "id": "1729b881-beac-48ef-bc19-01cda9a6d77a",
   "metadata": {},
   "source": [
    "```python\n",
    "\n",
    "@app.route('/stations/add', methods=['POST']) \n",
    "def route_add_station():\n",
    "    # parse and transform incoming data into a tuple as we need \n",
    "    data = pd.Series(eval(request.get_json(force=True)))\n",
    "    data = tuple(data.fillna('').values)\n",
    "    \n",
    "    conn = make_connection()\n",
    "    result = insert_into_stations(data, conn)\n",
    "    return result\n",
    "\n",
    "\n",
    "```"
   ]
  },
  {
   "cell_type": "code",
   "execution_count": 32,
   "id": "00348fc5-105b-41c7-a5e6-e69e1c19b4fa",
   "metadata": {},
   "outputs": [],
   "source": [
    "class NpEncoder(json.JSONEncoder):\n",
    "    def default(self, obj):\n",
    "        if isinstance(obj, np.integer):\n",
    "            return int(obj)\n",
    "        if isinstance(obj, np.floating):\n",
    "            return float(obj)\n",
    "        if isinstance(obj, np.ndarray):\n",
    "            return obj.tolist()\n",
    "        return super(NpEncoder, self).default(obj)"
   ]
  },
  {
   "cell_type": "code",
   "execution_count": 33,
   "id": "12746054-6c95-4a95-a6a0-37a2dc24c347",
   "metadata": {},
   "outputs": [],
   "source": [
    "data = stations.iloc[22].fillna('').to_dict()\n",
    "data_json = json.dumps(data, cls=NpEncoder)"
   ]
  },
  {
   "cell_type": "code",
   "execution_count": 35,
   "id": "b9eef315-96d2-46e3-b5ab-07d34e299629",
   "metadata": {},
   "outputs": [],
   "source": [
    "url = \"http://127.0.0.1:5000/stations/add\"\n",
    "res = requests.post(url, json=data_json)"
   ]
  },
  {
   "cell_type": "code",
   "execution_count": 36,
   "id": "fa80e62f-75c4-47f5-a0fb-3eaa08200b66",
   "metadata": {},
   "outputs": [
    {
     "data": {
      "text/plain": [
       "<Response [200]>"
      ]
     },
     "execution_count": 36,
     "metadata": {},
     "output_type": "execute_result"
    }
   ],
   "source": [
    "res"
   ]
  },
  {
   "cell_type": "code",
   "execution_count": 37,
   "id": "8996edb2",
   "metadata": {},
   "outputs": [
    {
     "data": {
      "text/plain": [
       "'Error'"
      ]
     },
     "execution_count": 37,
     "metadata": {},
     "output_type": "execute_result"
    }
   ],
   "source": [
    "res.text"
   ]
  },
  {
   "cell_type": "code",
   "execution_count": 38,
   "id": "7a0d3ece-e370-4861-9c03-31361c394c01",
   "metadata": {},
   "outputs": [
    {
     "name": "stderr",
     "output_type": "stream",
     "text": [
      "0it [00:00, ?it/s]"
     ]
    },
    {
     "name": "stderr",
     "output_type": "stream",
     "text": [
      "98it [08:36,  5.27s/it]\n"
     ]
    }
   ],
   "source": [
    "# Sintaks for iteratively insert stations (from stations_csv) into stations table\n",
    "for idx, data in tqdm(stations.iterrows()):\n",
    "    data = data.fillna('').to_dict()\n",
    "    data_json = json.dumps(data, cls=NpEncoder)\n",
    "    \n",
    "    url = \"http://127.0.0.1:5000/stations/add\"\n",
    "    res = requests.post(url, json=data_json)"
   ]
  },
  {
   "cell_type": "markdown",
   "id": "f7d0f146-9af5-4873-816e-d7a1990d0d2e",
   "metadata": {},
   "source": [
    "**TASK: Using the API, insert all the trips data (in csv) into the database by running the following codes**\\\n",
    "It might run differently on each devices, so you might get some rest while waiting for it to complete"
   ]
  },
  {
   "cell_type": "code",
   "execution_count": 67,
   "id": "f943160a-230d-4548-8685-25c17d8f0641",
   "metadata": {},
   "outputs": [
    {
     "name": "stderr",
     "output_type": "stream",
     "text": [
      "17982it [01:19, 226.18it/s]\n"
     ]
    }
   ],
   "source": [
    "for idx, data in tqdm(trips.iterrows()):\n",
    "    data = data.fillna('').to_dict()\n",
    "    data_json = json.dumps(data, cls=NpEncoder)\n",
    "    \n",
    "    url = \"http://127.0.0.1:5000/trips/add\"\n",
    "    res = requests.post(url, json=data_json)"
   ]
  },
  {
   "cell_type": "code",
   "execution_count": 39,
   "id": "7f4adf19",
   "metadata": {},
   "outputs": [
    {
     "data": {
      "text/plain": [
       "<Response [200]>"
      ]
     },
     "execution_count": 39,
     "metadata": {},
     "output_type": "execute_result"
    }
   ],
   "source": [
    "res"
   ]
  },
  {
   "cell_type": "markdown",
   "id": "e9ca0d0f-f38d-4ce2-b7e2-961452ab315e",
   "metadata": {},
   "source": [
    "# Make your own analytic endpoints"
   ]
  },
  {
   "cell_type": "markdown",
   "id": "7a8500f2-9e2f-4515-8ce1-ce4a581132b5",
   "metadata": {},
   "source": [
    "Based on what we've learned before, create your own endpoints which returns analytical result such as contigency tables, aggregation tables, or even just a values.\n",
    "\n",
    "*ps: if the return is dataframe/series, don't forget to change it into json with `.to_json()` method*"
   ]
  },
  {
   "cell_type": "markdown",
   "id": "ce22ac68-1a8d-4030-9a9a-1764a074dde5",
   "metadata": {},
   "source": [
    "\n",
    "- [x] 1 point - Created Flask App\n",
    "- [x] 4 points - Created functionality to input new data into each table for the databases\n",
    "- [x] 2 poitns - Created functionality to read or get specific data from the database\n",
    "- [ ] 3 points - Created static endpoints which return analytical result (must be different from point 2,3)\n",
    "- [ ] 3 points - Created dynamic endpoints which return analytical result (must be different from point 2,3,4)\n",
    "- [ ] 3 points - Created POST endpoint which receive input data, then utilize it to get analytical result (must be different from point 2,3,4,5)\n"
   ]
  },
  {
   "cell_type": "markdown",
   "id": "9349b196-e43e-4bbc-8d71-75c2f957d9af",
   "metadata": {},
   "source": [
    "## Create Static Endpoint(s)"
   ]
  },
  {
   "attachments": {},
   "cell_type": "markdown",
   "id": "0ba0e764-89a5-4189-a24a-837c8fbf304c",
   "metadata": {},
   "source": [
    "You can use the following cell to try-out your function before implementing it as an endpoint.\n",
    "\n",
    "After created the endpoint, make sure to implement it to `app.py` file."
   ]
  },
  {
   "cell_type": "code",
   "execution_count": 43,
   "id": "8867038e-0ad4-4ea3-94e6-6cf904ea18a8",
   "metadata": {},
   "outputs": [],
   "source": [
    "# Your Code Here \n",
    "# @app.route('/trips/average_duration')\n",
    "def route_trip_avg_duration():\n",
    "    return get_trip_avg_duration().to_json()\n",
    "\n",
    "def get_trip_avg_duration():\n",
    "    conn = make_connection()\n",
    "    query = '''\n",
    "            SELECT\n",
    "                AVG(duration_minutes) AS average_duration\n",
    "            FROM\n",
    "                trips\n",
    "            '''\n",
    "    return pd.read_sql_query(query, conn)\n",
    "    "
   ]
  },
  {
   "cell_type": "markdown",
   "id": "3f1c8d87-b066-48dc-b9db-2339aa3693db",
   "metadata": {},
   "source": [
    "## Create Dynamic Endpoints "
   ]
  },
  {
   "attachments": {},
   "cell_type": "markdown",
   "id": "46eecec9-49c8-4c02-835a-cb4a813c41ad",
   "metadata": {},
   "source": [
    "You can use the following cell to try-out your function before implementing it as an endpoint.\n",
    "\n",
    "After created the endpoint, make sure to implement it to `app.py` file."
   ]
  },
  {
   "cell_type": "code",
   "execution_count": 44,
   "id": "9918b0ea-11df-4a03-af50-7138266a4072",
   "metadata": {},
   "outputs": [],
   "source": [
    "# Your Code Here\n",
    "# @app.route('/trips/average_duration/<bike_id>')\n",
    "def route_trip_avg_duration(bike_id):\n",
    "    return get_trip_avg_duration_by_id(bike_id).to_json()\n",
    "\n",
    "def get_trip_avg_duration_by_id(bike_id):\n",
    "    conn = make_connection()\n",
    "    query = f'''\n",
    "            SELECT\n",
    "                AVG(duration_minutes) AS average_duration\n",
    "            FROM\n",
    "                trips\n",
    "            WHERE\n",
    "                bikeid = {bike_id}\n",
    "            '''\n",
    "    return pd.read_sql_query(query, conn)"
   ]
  },
  {
   "cell_type": "markdown",
   "id": "712aeb14-8f96-4df5-a2eb-5a42e083dddc",
   "metadata": {},
   "source": [
    "## Create POST Endpoints"
   ]
  },
  {
   "attachments": {},
   "cell_type": "markdown",
   "id": "d518c6a2-6fc7-4eb0-91a7-c7ba25db5bce",
   "metadata": {},
   "source": [
    "You can use the following cell to try-out your function before implementing it as an endpoint.\n",
    "\n",
    "If you still find it quite difficult, here's an example case you might wanted to try on:\n",
    "- input : a dictionary contained a datetime period\n",
    "    - { \"period\" : \"2015-08\" }\n",
    "- output:\n",
    "    - Aggregation table of bike rent activities for each station in that specific period\n",
    "- example code: \n",
    "\n",
    "```python \n",
    "input_data = request.get_json() # Get the input as dictionary\n",
    "specified_date = input_data['period'] # Select specific items (period) from the dictionary (the value will be \"2015-08\")\n",
    "\n",
    "# Subset the data with query \n",
    "conn = make_connection()\n",
    "query = f\"SELECT * FROM stations WHERE start_time LIKE ({specified_date}%)\"\n",
    "selected_data = pd.read_sql_query(query, conn)\n",
    "\n",
    "# Make the aggregate\n",
    "result = selected_data.groupby('start_station_id').agg({\n",
    "    'bikeid' : 'count', \n",
    "    'duration_minutes' : 'mean'\n",
    "})\n",
    "\n",
    "# Return the result\n",
    "return result.to_json()\n",
    "\n",
    "```\n",
    "\n",
    "After created the endpoint, make sure to implement it to app.py file."
   ]
  },
  {
   "cell_type": "code",
   "execution_count": 45,
   "id": "7221e8e5",
   "metadata": {},
   "outputs": [],
   "source": [
    "# @app.route('/station-bike-activity_by_period', methods=['POST'])\n",
    "def route_station_bike_activity_by_period():\n",
    "    input_data = request.get_json() # Get the input as dictionary\n",
    "    specified_date = input_data['period'] # Select specific items (period) from the dictionary (the value will be \"2015-08\")\n",
    "\n",
    "    get_station_bike_activity_by_period(specified_date).to_json()\n",
    "\n",
    "def get_station_bike_activity_by_period(specified_date):\n",
    "    # Subset the data with query \n",
    "    conn = make_connection()\n",
    "    query = f\"\"\"\n",
    "            SELECT *\n",
    "            FROM\n",
    "                trips\n",
    "            WHERE\n",
    "                start_time LIKE (\"{specified_date}%\")\n",
    "            \"\"\"\n",
    "    selected_data = pd.read_sql_query(query, conn)\n",
    "\n",
    "    # Make the aggregate\n",
    "    result = selected_data.groupby('start_station_id').agg({\n",
    "        'bikeid' : 'count', \n",
    "        'duration_minutes' : 'mean'\n",
    "    })\n",
    "    \n",
    "    # Return the result\n",
    "    return result"
   ]
  },
  {
   "cell_type": "code",
   "execution_count": 46,
   "id": "d24c9463-77d9-4294-b3f9-73b16391e46a",
   "metadata": {},
   "outputs": [],
   "source": [
    "# Your Code Here\n",
    "data = { \"period\" : \"2015-08\" }\n",
    "url = 'http://127.0.0.1:5000/station-bike-activity_by_period'\n",
    "res = requests.post(url, json=data)"
   ]
  },
  {
   "cell_type": "code",
   "execution_count": 47,
   "id": "c26feed2",
   "metadata": {},
   "outputs": [
    {
     "data": {
      "text/plain": [
       "<Response [200]>"
      ]
     },
     "execution_count": 47,
     "metadata": {},
     "output_type": "execute_result"
    }
   ],
   "source": [
    "res"
   ]
  },
  {
   "cell_type": "code",
   "execution_count": 48,
   "id": "33026a33",
   "metadata": {},
   "outputs": [
    {
     "data": {
      "text/plain": [
       "'{\"bikeid\":{\"1007\":91,\"1008\":311,\"2494\":791,\"2495\":590,\"2496\":250,\"2497\":440,\"2498\":427,\"2499\":635,\"2501\":694,\"2502\":422,\"2503\":292,\"2504\":213,\"2536\":106,\"2537\":290,\"2538\":229,\"2539\":394,\"2540\":173,\"2541\":84,\"2542\":147,\"2544\":122,\"2545\":46,\"2547\":119,\"2548\":199,\"2549\":297,\"2550\":296,\"2552\":430,\"2561\":128,\"2562\":193,\"2563\":260,\"2564\":308,\"2565\":249,\"2566\":503,\"2567\":306,\"2568\":112,\"2569\":210,\"2570\":321,\"2571\":150,\"2572\":314,\"2575\":643,\"2576\":226,\"2707\":655,\"2711\":501,\"2712\":241,\"2822\":189,\"2823\":58,\"3291\":50,\"3292\":71,\"3293\":40,\"\":707},\"duration_minutes\":{\"1007\":18.2307692308,\"1008\":13.2379421222,\"2494\":26.0341340076,\"2495\":15.4593220339,\"2496\":27.624,\"2497\":27.4136363636,\"2498\":22.018735363,\"2499\":18.0960629921,\"2501\":15.476945245,\"2502\":31.2819905213,\"2503\":29.0719178082,\"2504\":21.9530516432,\"2536\":32.1509433962,\"2537\":12.1206896552,\"2538\":25.3886462882,\"2539\":22.9035532995,\"2540\":26.9190751445,\"2541\":22.75,\"2542\":14.5238095238,\"2544\":14.8442622951,\"2545\":11.2608695652,\"2547\":52.487394958,\"2548\":35.4522613065,\"2549\":26.0673400673,\"2550\":15.4425675676,\"2552\":9.5860465116,\"2561\":35.359375,\"2562\":30.9430051813,\"2563\":19.8038461538,\"2564\":12.1558441558,\"2565\":17.5421686747,\"2566\":19.5526838966,\"2567\":23.5816993464,\"2568\":16.5178571429,\"2569\":16.5380952381,\"2570\":23.4267912773,\"2571\":16.64,\"2572\":24.9936305732,\"2575\":34.4214618974,\"2576\":33.1504424779,\"2707\":25.6106870229,\"2711\":25.8003992016,\"2712\":19.867219917,\"2822\":12.3015873016,\"2823\":18.2413793103,\"3291\":20.82,\"3292\":13.0563380282,\"3293\":14.525,\"\":33.7538896747}}'"
      ]
     },
     "execution_count": 48,
     "metadata": {},
     "output_type": "execute_result"
    }
   ],
   "source": [
    "res.text"
   ]
  },
  {
   "cell_type": "code",
   "execution_count": 49,
   "id": "6ba47367",
   "metadata": {},
   "outputs": [
    {
     "data": {
      "text/html": [
       "<div>\n",
       "<style scoped>\n",
       "    .dataframe tbody tr th:only-of-type {\n",
       "        vertical-align: middle;\n",
       "    }\n",
       "\n",
       "    .dataframe tbody tr th {\n",
       "        vertical-align: top;\n",
       "    }\n",
       "\n",
       "    .dataframe thead th {\n",
       "        text-align: right;\n",
       "    }\n",
       "</style>\n",
       "<table border=\"1\" class=\"dataframe\">\n",
       "  <thead>\n",
       "    <tr style=\"text-align: right;\">\n",
       "      <th></th>\n",
       "      <th>bikeid</th>\n",
       "      <th>duration_minutes</th>\n",
       "    </tr>\n",
       "  </thead>\n",
       "  <tbody>\n",
       "    <tr>\n",
       "      <th>1007</th>\n",
       "      <td>91</td>\n",
       "      <td>18.230769</td>\n",
       "    </tr>\n",
       "    <tr>\n",
       "      <th>1008</th>\n",
       "      <td>311</td>\n",
       "      <td>13.237942</td>\n",
       "    </tr>\n",
       "    <tr>\n",
       "      <th>2494</th>\n",
       "      <td>791</td>\n",
       "      <td>26.034134</td>\n",
       "    </tr>\n",
       "    <tr>\n",
       "      <th>2495</th>\n",
       "      <td>590</td>\n",
       "      <td>15.459322</td>\n",
       "    </tr>\n",
       "    <tr>\n",
       "      <th>2496</th>\n",
       "      <td>250</td>\n",
       "      <td>27.624000</td>\n",
       "    </tr>\n",
       "    <tr>\n",
       "      <th>2497</th>\n",
       "      <td>440</td>\n",
       "      <td>27.413636</td>\n",
       "    </tr>\n",
       "    <tr>\n",
       "      <th>2498</th>\n",
       "      <td>427</td>\n",
       "      <td>22.018735</td>\n",
       "    </tr>\n",
       "    <tr>\n",
       "      <th>2499</th>\n",
       "      <td>635</td>\n",
       "      <td>18.096063</td>\n",
       "    </tr>\n",
       "    <tr>\n",
       "      <th>2501</th>\n",
       "      <td>694</td>\n",
       "      <td>15.476945</td>\n",
       "    </tr>\n",
       "    <tr>\n",
       "      <th>2502</th>\n",
       "      <td>422</td>\n",
       "      <td>31.281991</td>\n",
       "    </tr>\n",
       "    <tr>\n",
       "      <th>2503</th>\n",
       "      <td>292</td>\n",
       "      <td>29.071918</td>\n",
       "    </tr>\n",
       "    <tr>\n",
       "      <th>2504</th>\n",
       "      <td>213</td>\n",
       "      <td>21.953052</td>\n",
       "    </tr>\n",
       "    <tr>\n",
       "      <th>2536</th>\n",
       "      <td>106</td>\n",
       "      <td>32.150943</td>\n",
       "    </tr>\n",
       "    <tr>\n",
       "      <th>2537</th>\n",
       "      <td>290</td>\n",
       "      <td>12.120690</td>\n",
       "    </tr>\n",
       "    <tr>\n",
       "      <th>2538</th>\n",
       "      <td>229</td>\n",
       "      <td>25.388646</td>\n",
       "    </tr>\n",
       "    <tr>\n",
       "      <th>2539</th>\n",
       "      <td>394</td>\n",
       "      <td>22.903553</td>\n",
       "    </tr>\n",
       "    <tr>\n",
       "      <th>2540</th>\n",
       "      <td>173</td>\n",
       "      <td>26.919075</td>\n",
       "    </tr>\n",
       "    <tr>\n",
       "      <th>2541</th>\n",
       "      <td>84</td>\n",
       "      <td>22.750000</td>\n",
       "    </tr>\n",
       "    <tr>\n",
       "      <th>2542</th>\n",
       "      <td>147</td>\n",
       "      <td>14.523810</td>\n",
       "    </tr>\n",
       "    <tr>\n",
       "      <th>2544</th>\n",
       "      <td>122</td>\n",
       "      <td>14.844262</td>\n",
       "    </tr>\n",
       "    <tr>\n",
       "      <th>2545</th>\n",
       "      <td>46</td>\n",
       "      <td>11.260870</td>\n",
       "    </tr>\n",
       "    <tr>\n",
       "      <th>2547</th>\n",
       "      <td>119</td>\n",
       "      <td>52.487395</td>\n",
       "    </tr>\n",
       "    <tr>\n",
       "      <th>2548</th>\n",
       "      <td>199</td>\n",
       "      <td>35.452261</td>\n",
       "    </tr>\n",
       "    <tr>\n",
       "      <th>2549</th>\n",
       "      <td>297</td>\n",
       "      <td>26.067340</td>\n",
       "    </tr>\n",
       "    <tr>\n",
       "      <th>2550</th>\n",
       "      <td>296</td>\n",
       "      <td>15.442568</td>\n",
       "    </tr>\n",
       "    <tr>\n",
       "      <th>2552</th>\n",
       "      <td>430</td>\n",
       "      <td>9.586047</td>\n",
       "    </tr>\n",
       "    <tr>\n",
       "      <th>2561</th>\n",
       "      <td>128</td>\n",
       "      <td>35.359375</td>\n",
       "    </tr>\n",
       "    <tr>\n",
       "      <th>2562</th>\n",
       "      <td>193</td>\n",
       "      <td>30.943005</td>\n",
       "    </tr>\n",
       "    <tr>\n",
       "      <th>2563</th>\n",
       "      <td>260</td>\n",
       "      <td>19.803846</td>\n",
       "    </tr>\n",
       "    <tr>\n",
       "      <th>2564</th>\n",
       "      <td>308</td>\n",
       "      <td>12.155844</td>\n",
       "    </tr>\n",
       "    <tr>\n",
       "      <th>2565</th>\n",
       "      <td>249</td>\n",
       "      <td>17.542169</td>\n",
       "    </tr>\n",
       "    <tr>\n",
       "      <th>2566</th>\n",
       "      <td>503</td>\n",
       "      <td>19.552684</td>\n",
       "    </tr>\n",
       "    <tr>\n",
       "      <th>2567</th>\n",
       "      <td>306</td>\n",
       "      <td>23.581699</td>\n",
       "    </tr>\n",
       "    <tr>\n",
       "      <th>2568</th>\n",
       "      <td>112</td>\n",
       "      <td>16.517857</td>\n",
       "    </tr>\n",
       "    <tr>\n",
       "      <th>2569</th>\n",
       "      <td>210</td>\n",
       "      <td>16.538095</td>\n",
       "    </tr>\n",
       "    <tr>\n",
       "      <th>2570</th>\n",
       "      <td>321</td>\n",
       "      <td>23.426791</td>\n",
       "    </tr>\n",
       "    <tr>\n",
       "      <th>2571</th>\n",
       "      <td>150</td>\n",
       "      <td>16.640000</td>\n",
       "    </tr>\n",
       "    <tr>\n",
       "      <th>2572</th>\n",
       "      <td>314</td>\n",
       "      <td>24.993631</td>\n",
       "    </tr>\n",
       "    <tr>\n",
       "      <th>2575</th>\n",
       "      <td>643</td>\n",
       "      <td>34.421462</td>\n",
       "    </tr>\n",
       "    <tr>\n",
       "      <th>2576</th>\n",
       "      <td>226</td>\n",
       "      <td>33.150442</td>\n",
       "    </tr>\n",
       "    <tr>\n",
       "      <th>2707</th>\n",
       "      <td>655</td>\n",
       "      <td>25.610687</td>\n",
       "    </tr>\n",
       "    <tr>\n",
       "      <th>2711</th>\n",
       "      <td>501</td>\n",
       "      <td>25.800399</td>\n",
       "    </tr>\n",
       "    <tr>\n",
       "      <th>2712</th>\n",
       "      <td>241</td>\n",
       "      <td>19.867220</td>\n",
       "    </tr>\n",
       "    <tr>\n",
       "      <th>2822</th>\n",
       "      <td>189</td>\n",
       "      <td>12.301587</td>\n",
       "    </tr>\n",
       "    <tr>\n",
       "      <th>2823</th>\n",
       "      <td>58</td>\n",
       "      <td>18.241379</td>\n",
       "    </tr>\n",
       "    <tr>\n",
       "      <th>3291</th>\n",
       "      <td>50</td>\n",
       "      <td>20.820000</td>\n",
       "    </tr>\n",
       "    <tr>\n",
       "      <th>3292</th>\n",
       "      <td>71</td>\n",
       "      <td>13.056338</td>\n",
       "    </tr>\n",
       "    <tr>\n",
       "      <th>3293</th>\n",
       "      <td>40</td>\n",
       "      <td>14.525000</td>\n",
       "    </tr>\n",
       "    <tr>\n",
       "      <th></th>\n",
       "      <td>707</td>\n",
       "      <td>33.753890</td>\n",
       "    </tr>\n",
       "  </tbody>\n",
       "</table>\n",
       "</div>"
      ],
      "text/plain": [
       "      bikeid  duration_minutes\n",
       "1007      91         18.230769\n",
       "1008     311         13.237942\n",
       "2494     791         26.034134\n",
       "2495     590         15.459322\n",
       "2496     250         27.624000\n",
       "2497     440         27.413636\n",
       "2498     427         22.018735\n",
       "2499     635         18.096063\n",
       "2501     694         15.476945\n",
       "2502     422         31.281991\n",
       "2503     292         29.071918\n",
       "2504     213         21.953052\n",
       "2536     106         32.150943\n",
       "2537     290         12.120690\n",
       "2538     229         25.388646\n",
       "2539     394         22.903553\n",
       "2540     173         26.919075\n",
       "2541      84         22.750000\n",
       "2542     147         14.523810\n",
       "2544     122         14.844262\n",
       "2545      46         11.260870\n",
       "2547     119         52.487395\n",
       "2548     199         35.452261\n",
       "2549     297         26.067340\n",
       "2550     296         15.442568\n",
       "2552     430          9.586047\n",
       "2561     128         35.359375\n",
       "2562     193         30.943005\n",
       "2563     260         19.803846\n",
       "2564     308         12.155844\n",
       "2565     249         17.542169\n",
       "2566     503         19.552684\n",
       "2567     306         23.581699\n",
       "2568     112         16.517857\n",
       "2569     210         16.538095\n",
       "2570     321         23.426791\n",
       "2571     150         16.640000\n",
       "2572     314         24.993631\n",
       "2575     643         34.421462\n",
       "2576     226         33.150442\n",
       "2707     655         25.610687\n",
       "2711     501         25.800399\n",
       "2712     241         19.867220\n",
       "2822     189         12.301587\n",
       "2823      58         18.241379\n",
       "3291      50         20.820000\n",
       "3292      71         13.056338\n",
       "3293      40         14.525000\n",
       "         707         33.753890"
      ]
     },
     "execution_count": 49,
     "metadata": {},
     "output_type": "execute_result"
    }
   ],
   "source": [
    "pd.DataFrame(res.json())"
   ]
  },
  {
   "attachments": {},
   "cell_type": "markdown",
   "id": "46bbfb18",
   "metadata": {},
   "source": [
    "# Submission\n",
    "\n",
    "After finishing your work of all the rubrics, the next step will be;\n",
    "\n",
    "1. Prepare your `Bikeshare API.ipynb` file that has been edited with your code and wrangling data.\n",
    "2. Prepare your `app.py` file for your Flask App. Make sure you have implemented all the endpoints to `app.py` (including your custom static, dynamic and post endpoints).\n",
    "3. Submit your `Bikeshare API.ipynb` and `app.py` file in your github repository. The dataset is optional to post since it has big size to post. \n",
    "\n"
   ]
  }
 ],
 "metadata": {
  "kernelspec": {
   "display_name": "base",
   "language": "python",
   "name": "python3"
  },
  "language_info": {
   "codemirror_mode": {
    "name": "ipython",
    "version": 3
   },
   "file_extension": ".py",
   "mimetype": "text/x-python",
   "name": "python",
   "nbconvert_exporter": "python",
   "pygments_lexer": "ipython3",
   "version": "3.11.4"
  },
  "toc": {
   "base_numbering": 1,
   "nav_menu": {},
   "number_sections": true,
   "sideBar": true,
   "skip_h1_title": false,
   "title_cell": "Table of Contents",
   "title_sidebar": "Contents",
   "toc_cell": false,
   "toc_position": {},
   "toc_section_display": true,
   "toc_window_display": false
  },
  "toc-autonumbering": true
 },
 "nbformat": 4,
 "nbformat_minor": 5
}
