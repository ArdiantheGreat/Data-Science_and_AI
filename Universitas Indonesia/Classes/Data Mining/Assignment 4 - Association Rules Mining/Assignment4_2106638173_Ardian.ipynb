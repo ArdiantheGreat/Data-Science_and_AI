{
  "cells": [
    {
      "cell_type": "markdown",
      "metadata": {
        "id": "ENkKOCkHMOtr"
      },
      "source": [
        "# Assignment 4 - Association Rules Mining\n",
        "## Data Mining\n",
        "\n",
        "Apriori Algorithm from Scratch\n",
        "\n",
        "by Ardian - 2106638173\n",
        "\n",
        "Information System - Faculty of Computer Science\n",
        "\n",
        "Universitas Indonesia\n",
        "\n",
        "---"
      ]
    },
    {
      "cell_type": "markdown",
      "metadata": {
        "id": "-7eDObbcMOt1"
      },
      "source": [
        "## Libraries"
      ]
    },
    {
      "cell_type": "code",
      "execution_count": 1,
      "metadata": {
        "id": "RmyiOSeFMOt2"
      },
      "outputs": [],
      "source": [
        "import pandas as pd\n",
        "from collections import defaultdict"
      ]
    },
    {
      "cell_type": "markdown",
      "metadata": {
        "id": "Ok4BZvMLMOt7"
      },
      "source": [
        "## Input Format"
      ]
    },
    {
      "cell_type": "markdown",
      "metadata": {
        "id": "3QIuAXYHMOt8"
      },
      "source": [
        "Data transaksi diambil dari kasus soal, yaitu:\n",
        "\n",
        "- Transaction 1: {Laptop, Mouse, Keyboard, Headphones}\n",
        "- Transaction 2: {Laptop, Mouse, Keyboard}\n",
        "- Transaction 3: {Mouse, Keyboard, Headphones}\n",
        "- Transaction 4: {Laptop, Keyboard, Headphones}\n",
        "- Transaction 5: {Laptop, Mouse, Keyboard, Webcam}"
      ]
    },
    {
      "cell_type": "code",
      "execution_count": 2,
      "metadata": {
        "colab": {
          "base_uri": "https://localhost:8080/",
          "height": 235
        },
        "id": "XRvjcXsQMOt9",
        "outputId": "19e08a1c-95ce-4aa4-8ffb-1699f1b70f82"
      },
      "outputs": [
        {
          "output_type": "execute_result",
          "data": {
            "text/plain": [
              "               Laptop  Mouse  Keyboard  Headphones  Webcam\n",
              "TransactionID                                             \n",
              "1                   1      1         1           1       0\n",
              "2                   1      1         1           0       0\n",
              "3                   0      1         1           1       0\n",
              "4                   1      0         1           1       0\n",
              "5                   1      1         1           0       1"
            ],
            "text/html": [
              "\n",
              "  <div id=\"df-53572335-c42c-456f-aa0e-cf7ff78c4823\" class=\"colab-df-container\">\n",
              "    <div>\n",
              "<style scoped>\n",
              "    .dataframe tbody tr th:only-of-type {\n",
              "        vertical-align: middle;\n",
              "    }\n",
              "\n",
              "    .dataframe tbody tr th {\n",
              "        vertical-align: top;\n",
              "    }\n",
              "\n",
              "    .dataframe thead th {\n",
              "        text-align: right;\n",
              "    }\n",
              "</style>\n",
              "<table border=\"1\" class=\"dataframe\">\n",
              "  <thead>\n",
              "    <tr style=\"text-align: right;\">\n",
              "      <th></th>\n",
              "      <th>Laptop</th>\n",
              "      <th>Mouse</th>\n",
              "      <th>Keyboard</th>\n",
              "      <th>Headphones</th>\n",
              "      <th>Webcam</th>\n",
              "    </tr>\n",
              "    <tr>\n",
              "      <th>TransactionID</th>\n",
              "      <th></th>\n",
              "      <th></th>\n",
              "      <th></th>\n",
              "      <th></th>\n",
              "      <th></th>\n",
              "    </tr>\n",
              "  </thead>\n",
              "  <tbody>\n",
              "    <tr>\n",
              "      <th>1</th>\n",
              "      <td>1</td>\n",
              "      <td>1</td>\n",
              "      <td>1</td>\n",
              "      <td>1</td>\n",
              "      <td>0</td>\n",
              "    </tr>\n",
              "    <tr>\n",
              "      <th>2</th>\n",
              "      <td>1</td>\n",
              "      <td>1</td>\n",
              "      <td>1</td>\n",
              "      <td>0</td>\n",
              "      <td>0</td>\n",
              "    </tr>\n",
              "    <tr>\n",
              "      <th>3</th>\n",
              "      <td>0</td>\n",
              "      <td>1</td>\n",
              "      <td>1</td>\n",
              "      <td>1</td>\n",
              "      <td>0</td>\n",
              "    </tr>\n",
              "    <tr>\n",
              "      <th>4</th>\n",
              "      <td>1</td>\n",
              "      <td>0</td>\n",
              "      <td>1</td>\n",
              "      <td>1</td>\n",
              "      <td>0</td>\n",
              "    </tr>\n",
              "    <tr>\n",
              "      <th>5</th>\n",
              "      <td>1</td>\n",
              "      <td>1</td>\n",
              "      <td>1</td>\n",
              "      <td>0</td>\n",
              "      <td>1</td>\n",
              "    </tr>\n",
              "  </tbody>\n",
              "</table>\n",
              "</div>\n",
              "    <div class=\"colab-df-buttons\">\n",
              "\n",
              "  <div class=\"colab-df-container\">\n",
              "    <button class=\"colab-df-convert\" onclick=\"convertToInteractive('df-53572335-c42c-456f-aa0e-cf7ff78c4823')\"\n",
              "            title=\"Convert this dataframe to an interactive table.\"\n",
              "            style=\"display:none;\">\n",
              "\n",
              "  <svg xmlns=\"http://www.w3.org/2000/svg\" height=\"24px\" viewBox=\"0 -960 960 960\">\n",
              "    <path d=\"M120-120v-720h720v720H120Zm60-500h600v-160H180v160Zm220 220h160v-160H400v160Zm0 220h160v-160H400v160ZM180-400h160v-160H180v160Zm440 0h160v-160H620v160ZM180-180h160v-160H180v160Zm440 0h160v-160H620v160Z\"/>\n",
              "  </svg>\n",
              "    </button>\n",
              "\n",
              "  <style>\n",
              "    .colab-df-container {\n",
              "      display:flex;\n",
              "      gap: 12px;\n",
              "    }\n",
              "\n",
              "    .colab-df-convert {\n",
              "      background-color: #E8F0FE;\n",
              "      border: none;\n",
              "      border-radius: 50%;\n",
              "      cursor: pointer;\n",
              "      display: none;\n",
              "      fill: #1967D2;\n",
              "      height: 32px;\n",
              "      padding: 0 0 0 0;\n",
              "      width: 32px;\n",
              "    }\n",
              "\n",
              "    .colab-df-convert:hover {\n",
              "      background-color: #E2EBFA;\n",
              "      box-shadow: 0px 1px 2px rgba(60, 64, 67, 0.3), 0px 1px 3px 1px rgba(60, 64, 67, 0.15);\n",
              "      fill: #174EA6;\n",
              "    }\n",
              "\n",
              "    .colab-df-buttons div {\n",
              "      margin-bottom: 4px;\n",
              "    }\n",
              "\n",
              "    [theme=dark] .colab-df-convert {\n",
              "      background-color: #3B4455;\n",
              "      fill: #D2E3FC;\n",
              "    }\n",
              "\n",
              "    [theme=dark] .colab-df-convert:hover {\n",
              "      background-color: #434B5C;\n",
              "      box-shadow: 0px 1px 3px 1px rgba(0, 0, 0, 0.15);\n",
              "      filter: drop-shadow(0px 1px 2px rgba(0, 0, 0, 0.3));\n",
              "      fill: #FFFFFF;\n",
              "    }\n",
              "  </style>\n",
              "\n",
              "    <script>\n",
              "      const buttonEl =\n",
              "        document.querySelector('#df-53572335-c42c-456f-aa0e-cf7ff78c4823 button.colab-df-convert');\n",
              "      buttonEl.style.display =\n",
              "        google.colab.kernel.accessAllowed ? 'block' : 'none';\n",
              "\n",
              "      async function convertToInteractive(key) {\n",
              "        const element = document.querySelector('#df-53572335-c42c-456f-aa0e-cf7ff78c4823');\n",
              "        const dataTable =\n",
              "          await google.colab.kernel.invokeFunction('convertToInteractive',\n",
              "                                                    [key], {});\n",
              "        if (!dataTable) return;\n",
              "\n",
              "        const docLinkHtml = 'Like what you see? Visit the ' +\n",
              "          '<a target=\"_blank\" href=https://colab.research.google.com/notebooks/data_table.ipynb>data table notebook</a>'\n",
              "          + ' to learn more about interactive tables.';\n",
              "        element.innerHTML = '';\n",
              "        dataTable['output_type'] = 'display_data';\n",
              "        await google.colab.output.renderOutput(dataTable, element);\n",
              "        const docLink = document.createElement('div');\n",
              "        docLink.innerHTML = docLinkHtml;\n",
              "        element.appendChild(docLink);\n",
              "      }\n",
              "    </script>\n",
              "  </div>\n",
              "\n",
              "\n",
              "<div id=\"df-4e75de25-5847-4c29-b5d9-35db730deb60\">\n",
              "  <button class=\"colab-df-quickchart\" onclick=\"quickchart('df-4e75de25-5847-4c29-b5d9-35db730deb60')\"\n",
              "            title=\"Suggest charts\"\n",
              "            style=\"display:none;\">\n",
              "\n",
              "<svg xmlns=\"http://www.w3.org/2000/svg\" height=\"24px\"viewBox=\"0 0 24 24\"\n",
              "     width=\"24px\">\n",
              "    <g>\n",
              "        <path d=\"M19 3H5c-1.1 0-2 .9-2 2v14c0 1.1.9 2 2 2h14c1.1 0 2-.9 2-2V5c0-1.1-.9-2-2-2zM9 17H7v-7h2v7zm4 0h-2V7h2v10zm4 0h-2v-4h2v4z\"/>\n",
              "    </g>\n",
              "</svg>\n",
              "  </button>\n",
              "\n",
              "<style>\n",
              "  .colab-df-quickchart {\n",
              "      --bg-color: #E8F0FE;\n",
              "      --fill-color: #1967D2;\n",
              "      --hover-bg-color: #E2EBFA;\n",
              "      --hover-fill-color: #174EA6;\n",
              "      --disabled-fill-color: #AAA;\n",
              "      --disabled-bg-color: #DDD;\n",
              "  }\n",
              "\n",
              "  [theme=dark] .colab-df-quickchart {\n",
              "      --bg-color: #3B4455;\n",
              "      --fill-color: #D2E3FC;\n",
              "      --hover-bg-color: #434B5C;\n",
              "      --hover-fill-color: #FFFFFF;\n",
              "      --disabled-bg-color: #3B4455;\n",
              "      --disabled-fill-color: #666;\n",
              "  }\n",
              "\n",
              "  .colab-df-quickchart {\n",
              "    background-color: var(--bg-color);\n",
              "    border: none;\n",
              "    border-radius: 50%;\n",
              "    cursor: pointer;\n",
              "    display: none;\n",
              "    fill: var(--fill-color);\n",
              "    height: 32px;\n",
              "    padding: 0;\n",
              "    width: 32px;\n",
              "  }\n",
              "\n",
              "  .colab-df-quickchart:hover {\n",
              "    background-color: var(--hover-bg-color);\n",
              "    box-shadow: 0 1px 2px rgba(60, 64, 67, 0.3), 0 1px 3px 1px rgba(60, 64, 67, 0.15);\n",
              "    fill: var(--button-hover-fill-color);\n",
              "  }\n",
              "\n",
              "  .colab-df-quickchart-complete:disabled,\n",
              "  .colab-df-quickchart-complete:disabled:hover {\n",
              "    background-color: var(--disabled-bg-color);\n",
              "    fill: var(--disabled-fill-color);\n",
              "    box-shadow: none;\n",
              "  }\n",
              "\n",
              "  .colab-df-spinner {\n",
              "    border: 2px solid var(--fill-color);\n",
              "    border-color: transparent;\n",
              "    border-bottom-color: var(--fill-color);\n",
              "    animation:\n",
              "      spin 1s steps(1) infinite;\n",
              "  }\n",
              "\n",
              "  @keyframes spin {\n",
              "    0% {\n",
              "      border-color: transparent;\n",
              "      border-bottom-color: var(--fill-color);\n",
              "      border-left-color: var(--fill-color);\n",
              "    }\n",
              "    20% {\n",
              "      border-color: transparent;\n",
              "      border-left-color: var(--fill-color);\n",
              "      border-top-color: var(--fill-color);\n",
              "    }\n",
              "    30% {\n",
              "      border-color: transparent;\n",
              "      border-left-color: var(--fill-color);\n",
              "      border-top-color: var(--fill-color);\n",
              "      border-right-color: var(--fill-color);\n",
              "    }\n",
              "    40% {\n",
              "      border-color: transparent;\n",
              "      border-right-color: var(--fill-color);\n",
              "      border-top-color: var(--fill-color);\n",
              "    }\n",
              "    60% {\n",
              "      border-color: transparent;\n",
              "      border-right-color: var(--fill-color);\n",
              "    }\n",
              "    80% {\n",
              "      border-color: transparent;\n",
              "      border-right-color: var(--fill-color);\n",
              "      border-bottom-color: var(--fill-color);\n",
              "    }\n",
              "    90% {\n",
              "      border-color: transparent;\n",
              "      border-bottom-color: var(--fill-color);\n",
              "    }\n",
              "  }\n",
              "</style>\n",
              "\n",
              "  <script>\n",
              "    async function quickchart(key) {\n",
              "      const quickchartButtonEl =\n",
              "        document.querySelector('#' + key + ' button');\n",
              "      quickchartButtonEl.disabled = true;  // To prevent multiple clicks.\n",
              "      quickchartButtonEl.classList.add('colab-df-spinner');\n",
              "      try {\n",
              "        const charts = await google.colab.kernel.invokeFunction(\n",
              "            'suggestCharts', [key], {});\n",
              "      } catch (error) {\n",
              "        console.error('Error during call to suggestCharts:', error);\n",
              "      }\n",
              "      quickchartButtonEl.classList.remove('colab-df-spinner');\n",
              "      quickchartButtonEl.classList.add('colab-df-quickchart-complete');\n",
              "    }\n",
              "    (() => {\n",
              "      let quickchartButtonEl =\n",
              "        document.querySelector('#df-4e75de25-5847-4c29-b5d9-35db730deb60 button');\n",
              "      quickchartButtonEl.style.display =\n",
              "        google.colab.kernel.accessAllowed ? 'block' : 'none';\n",
              "    })();\n",
              "  </script>\n",
              "</div>\n",
              "    </div>\n",
              "  </div>\n"
            ],
            "application/vnd.google.colaboratory.intrinsic+json": {
              "type": "dataframe",
              "variable_name": "transactions_df",
              "summary": "{\n  \"name\": \"transactions_df\",\n  \"rows\": 5,\n  \"fields\": [\n    {\n      \"column\": \"Laptop\",\n      \"properties\": {\n        \"dtype\": \"number\",\n        \"std\": 0,\n        \"min\": 0,\n        \"max\": 1,\n        \"num_unique_values\": 2,\n        \"samples\": [\n          0,\n          1\n        ],\n        \"semantic_type\": \"\",\n        \"description\": \"\"\n      }\n    },\n    {\n      \"column\": \"Mouse\",\n      \"properties\": {\n        \"dtype\": \"number\",\n        \"std\": 0,\n        \"min\": 0,\n        \"max\": 1,\n        \"num_unique_values\": 2,\n        \"samples\": [\n          0,\n          1\n        ],\n        \"semantic_type\": \"\",\n        \"description\": \"\"\n      }\n    },\n    {\n      \"column\": \"Keyboard\",\n      \"properties\": {\n        \"dtype\": \"number\",\n        \"std\": 0,\n        \"min\": 1,\n        \"max\": 1,\n        \"num_unique_values\": 1,\n        \"samples\": [\n          1\n        ],\n        \"semantic_type\": \"\",\n        \"description\": \"\"\n      }\n    },\n    {\n      \"column\": \"Headphones\",\n      \"properties\": {\n        \"dtype\": \"number\",\n        \"std\": 0,\n        \"min\": 0,\n        \"max\": 1,\n        \"num_unique_values\": 2,\n        \"samples\": [\n          0\n        ],\n        \"semantic_type\": \"\",\n        \"description\": \"\"\n      }\n    },\n    {\n      \"column\": \"Webcam\",\n      \"properties\": {\n        \"dtype\": \"number\",\n        \"std\": 0,\n        \"min\": 0,\n        \"max\": 1,\n        \"num_unique_values\": 2,\n        \"samples\": [\n          1\n        ],\n        \"semantic_type\": \"\",\n        \"description\": \"\"\n      }\n    }\n  ]\n}"
            }
          },
          "metadata": {},
          "execution_count": 2
        }
      ],
      "source": [
        "data = {\n",
        "    'Laptop': [1, 1, 0, 1, 1],\n",
        "    'Mouse': [1, 1, 1, 0, 1],\n",
        "    'Keyboard': [1, 1, 1, 1, 1],\n",
        "    'Headphones': [1, 0, 1, 1, 0],\n",
        "    'Webcam': [0, 0, 0, 0, 1]\n",
        "}\n",
        "\n",
        "transactions_df = pd.DataFrame(data)\n",
        "transactions_df.index += 1\n",
        "transactions_df.index.name = 'TransactionID'\n",
        "\n",
        "transactions_df"
      ]
    },
    {
      "cell_type": "markdown",
      "metadata": {
        "id": "8x9PN5JkMOt-"
      },
      "source": [
        "> Setiap row merepresentasikan satu transaksi. Kolom/item bernilai 1 apabila item tersebut ada pada row ransaksi tersebut"
      ]
    },
    {
      "cell_type": "markdown",
      "metadata": {
        "id": "P2ORL4L4MOuA"
      },
      "source": [
        "## Utility Functions"
      ]
    },
    {
      "cell_type": "markdown",
      "metadata": {
        "id": "OLxKQx_MMOuA"
      },
      "source": [
        "### `get_support()` function:"
      ]
    },
    {
      "cell_type": "code",
      "execution_count": 3,
      "metadata": {
        "id": "IFETyFgTMOuA"
      },
      "outputs": [],
      "source": [
        "def get_support(transactions, itemset):\n",
        "  match_count = 0\n",
        "  for transaction in transactions:\n",
        "    if itemset.issubset(transaction):\n",
        "      match_count += 1\n",
        "\n",
        "  return float(match_count/len(transactions))"
      ]
    },
    {
      "cell_type": "markdown",
      "metadata": {
        "id": "VmGZ41UMMOuB"
      },
      "source": [
        "### `self_join()` function:"
      ]
    },
    {
      "cell_type": "code",
      "execution_count": 4,
      "metadata": {
        "id": "D85SITBJMOuB"
      },
      "outputs": [],
      "source": [
        "def self_join(frequent_item_sets_per_level, level):\n",
        "  current_level_candidates = list()\n",
        "  last_level_items = frequent_item_sets_per_level[level - 1]\n",
        "\n",
        "  if len(last_level_items) == 0:\n",
        "    return current_level_candidates\n",
        "\n",
        "  for i in range(len(last_level_items)):\n",
        "    for j in range(i+1, len(last_level_items)):\n",
        "      itemset_i = last_level_items[i][0]\n",
        "      itemset_j = last_level_items[j][0]\n",
        "      union_set = itemset_i.union(itemset_j)\n",
        "\n",
        "      if union_set not in current_level_candidates and len(union_set) == level:\n",
        "        current_level_candidates.append(union_set)\n",
        "\n",
        "  return current_level_candidates"
      ]
    },
    {
      "cell_type": "markdown",
      "metadata": {
        "id": "2EesW7G2MOuC"
      },
      "source": [
        "### `generate_itemsets()` function:"
      ]
    },
    {
      "cell_type": "code",
      "execution_count": 5,
      "metadata": {
        "id": "xVMPR8rSMOuD"
      },
      "outputs": [],
      "source": [
        "def generate_itemsets(item_set):\n",
        "  item_sets = list()\n",
        "  for item in item_set:\n",
        "    temp = item_set.copy()\n",
        "    temp.remove(item)\n",
        "    item_sets.append(temp)\n",
        "\n",
        "  return item_sets"
      ]
    },
    {
      "cell_type": "markdown",
      "metadata": {
        "id": "4hnZ1-jwMOuD"
      },
      "source": [
        "### `is_itemset_frequent()` function:"
      ]
    },
    {
      "cell_type": "code",
      "execution_count": 6,
      "metadata": {
        "id": "mM-XJCQ5MOuE"
      },
      "outputs": [],
      "source": [
        "def is_itemset_frequent(item_set, prev_level_sets):\n",
        "  item_sets = generate_itemsets(item_set)\n",
        "\n",
        "  for item_set in item_sets:\n",
        "    if item_set not in prev_level_sets:\n",
        "      return False\n",
        "  return True"
      ]
    },
    {
      "cell_type": "markdown",
      "metadata": {
        "id": "-CTSvS1-MOuE"
      },
      "source": [
        "### `prune()` function:"
      ]
    },
    {
      "cell_type": "code",
      "execution_count": 7,
      "metadata": {
        "id": "4yqVK0qOMOuF"
      },
      "outputs": [],
      "source": [
        "def prune(frequent_item_sets_per_level, level, candidate_set):\n",
        "  post_pruning_set = list()\n",
        "  if len(candidate_set) == 0:\n",
        "    return post_pruning_set\n",
        "\n",
        "  prev_level_sets = list()\n",
        "  for item_set, _ in frequent_item_sets_per_level[level - 1]:\n",
        "    prev_level_sets.append(item_set)\n",
        "\n",
        "  for item_set in candidate_set:\n",
        "    if is_itemset_frequent(item_set, prev_level_sets):\n",
        "        post_pruning_set.append(item_set)\n",
        "\n",
        "  return post_pruning_set"
      ]
    },
    {
      "cell_type": "markdown",
      "metadata": {
        "id": "dDXISIjIMOuF"
      },
      "source": [
        "## Apriori Algorithm"
      ]
    },
    {
      "cell_type": "markdown",
      "metadata": {
        "id": "xloAISFnMOuG"
      },
      "source": [
        "### Build the algorithm function `Apriori()`:"
      ]
    },
    {
      "cell_type": "code",
      "execution_count": 8,
      "metadata": {
        "id": "f1wx5u9NMOuG"
      },
      "outputs": [],
      "source": [
        "def Apriori(transactions_df, minsup):\n",
        "  frequent_item_sets_per_level = defaultdict(list)\n",
        "\n",
        "  # Extract item names and create a dictionary to map items to indices\n",
        "  item_list = list(transactions_df.columns)\n",
        "  item_dict = {item: i + 1 for i, item in enumerate(item_list)}\n",
        "\n",
        "  # Process transactions dataframe to be processable\n",
        "  transactions = []\n",
        "  for _, row in transactions_df.iterrows():\n",
        "    transaction = set()\n",
        "    for item in item_dict:\n",
        "      if row[item] == 1:\n",
        "        transaction.add(item)\n",
        "    transactions.append(transaction)\n",
        "\n",
        "  # Generate frequent item sets for level 1\n",
        "  for item in item_list:\n",
        "    support = get_support(transactions, {item})\n",
        "    if support >= minsup:\n",
        "      frequent_item_sets_per_level[1].append(({item}, support))\n",
        "\n",
        "  # Generate frequent item sets for higher levels\n",
        "  for level in range(2, len(item_list) + 1):\n",
        "    current_level_candidates = self_join(frequent_item_sets_per_level, level)\n",
        "    post_pruning_candidates = prune(frequent_item_sets_per_level, level, current_level_candidates)\n",
        "    if len(post_pruning_candidates) == 0:\n",
        "      break\n",
        "\n",
        "    for item_set in post_pruning_candidates:\n",
        "      support = get_support(transactions, item_set)\n",
        "      if support >= minsup:\n",
        "        frequent_item_sets_per_level[level].append((item_set, support))\n",
        "\n",
        "  return frequent_item_sets_per_level"
      ]
    },
    {
      "cell_type": "markdown",
      "metadata": {
        "id": "yRekPYcGMOuH"
      },
      "source": [
        "### Test the algorithm function:\n",
        "\n",
        "Berdasarkan jawaban saya dari soal nomor 1 dan 2, frequent itemsets yang valid dengan minimum support 0.6 adalah sebagai berikut:\n",
        "1.\t{Laptop} dengan support 0.8\n",
        "2.\t{Keyboard} dengan support 1\n",
        "3.\t{Mouse} dengan support 0.8\n",
        "4.\t{Headphones} dengan support 0.6\n",
        "5.\t{Laptop, Keyboard} dengan support 0.8\n",
        "6.\t{Laptop, Mouse} dengan support 0.6\n",
        "7.\t{Keyboard, Mouse} dengan support 0.8\n",
        "8.\t{Keyboard, Headphones} dengan support 0.6\n",
        "9.\t{Laptop, Keyboard, Mouse} dengan support 0.6\n",
        "\n",
        "Jika hasil test algoritma sesuai dengan jawaban tersebut, maka dapat disimpulkan algoritma bekerja dengan baik. Mari kita coba:"
      ]
    },
    {
      "cell_type": "code",
      "execution_count": 12,
      "metadata": {
        "colab": {
          "base_uri": "https://localhost:8080/"
        },
        "id": "2aEwC3qbMOuH",
        "outputId": "723e2d3e-fb9d-4930-a784-d5d9b076f521"
      },
      "outputs": [
        {
          "output_type": "stream",
          "name": "stdout",
          "text": [
            "Level 1 frequent itemsets:\n",
            "1. {Laptop} with 0.8 support\n",
            "2. {Mouse} with 0.8 support\n",
            "3. {Keyboard} with 1.0 support\n",
            "4. {Headphones} with 0.6 support\n",
            "\n",
            "Level 2 frequent itemsets:\n",
            "1. {Mouse, Laptop} with 0.6 support\n",
            "2. {Laptop, Keyboard} with 0.8 support\n",
            "3. {Mouse, Keyboard} with 0.8 support\n",
            "4. {Keyboard, Headphones} with 0.6 support\n",
            "\n",
            "Level 3 frequent itemsets:\n",
            "1. {Mouse, Laptop, Keyboard} with 0.6 support\n",
            "\n"
          ]
        }
      ],
      "source": [
        "minsup = 0.6\n",
        "\n",
        "frequent_itemsets = Apriori(transactions_df, minsup)\n",
        "\n",
        "for level, frequent_item_sets in frequent_itemsets.items():\n",
        "  print(f\"Level {level} frequent itemsets:\")\n",
        "  counter = 1\n",
        "  for item_set, support in frequent_item_sets:\n",
        "    items = \", \".join(item for item in item_set)\n",
        "    print(f\"{counter}. {{{items}}} with {support} support\")\n",
        "    counter += 1\n",
        "  print()"
      ]
    },
    {
      "cell_type": "markdown",
      "metadata": {
        "id": "x2xhvm3RMOuJ"
      },
      "source": [
        "> SESUAI! Algoritma berjalan dengan baik!"
      ]
    }
  ],
  "metadata": {
    "kernelspec": {
      "display_name": "Python 3",
      "language": "python",
      "name": "python3"
    },
    "language_info": {
      "codemirror_mode": {
        "name": "ipython",
        "version": 3
      },
      "file_extension": ".py",
      "mimetype": "text/x-python",
      "name": "python",
      "nbconvert_exporter": "python",
      "pygments_lexer": "ipython3",
      "version": "3.10.13"
    },
    "colab": {
      "provenance": []
    }
  },
  "nbformat": 4,
  "nbformat_minor": 0
}