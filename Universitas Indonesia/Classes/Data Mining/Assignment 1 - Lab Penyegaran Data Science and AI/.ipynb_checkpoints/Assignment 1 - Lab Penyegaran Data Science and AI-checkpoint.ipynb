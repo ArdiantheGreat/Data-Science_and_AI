{
 "cells": [
  {
   "cell_type": "markdown",
   "metadata": {},
   "source": [
    "# Assignment 1 - Lab Penyegaran Data Science & AI\n",
    "## Data Mining\n",
    "\n",
    "Ardian - 2106638173\n",
    "\n",
    "Information System - Faculty of Computer Science\n",
    "\n",
    "Universitas Indonesia"
   ]
  },
  {
   "cell_type": "markdown",
   "metadata": {},
   "source": [
    "# Libraries"
   ]
  },
  {
   "cell_type": "code",
   "execution_count": 414,
   "metadata": {},
   "outputs": [],
   "source": [
    "import pandas as pd\n",
    "import numpy as np\n",
    "import matplotlib.pyplot as plt\n",
    "from collections import Counter\n",
    "from sklearn.preprocessing import MinMaxScaler\n",
    "import seaborn as sns\n",
    "from sklearn.model_selection import train_test_split\n",
    "from sklearn.metrics import accuracy_score, mean_absolute_error, mean_absolute_percentage_error, mean_squared_error, classification_report"
   ]
  },
  {
   "cell_type": "markdown",
   "metadata": {
    "id": "N8-T1K8BwBFP"
   },
   "source": [
    "# KNN Class"
   ]
  },
  {
   "cell_type": "code",
   "execution_count": 415,
   "metadata": {
    "id": "tMWLRLz5wBFQ"
   },
   "outputs": [],
   "source": [
    "class KNN:\n",
    "    def __init__(self, k, metric, task):\n",
    "        self.k = k\n",
    "        self.metric = metric\n",
    "        self.task = task\n",
    "\n",
    "    def euclidean(self, x1, x2):\n",
    "        return np.sqrt(np.sum((x1 - x2)**2))\n",
    "\n",
    "    def manhattan(self, x1, x2):\n",
    "        return np.sum(np.abs(x1 - x2))\n",
    "\n",
    "    def fit(self, X, y):\n",
    "        self.X_train = np.array(X)\n",
    "        self.y_train = np.array(y)\n",
    "\n",
    "    def predict(self, X):\n",
    "        X = np.array(X)\n",
    "        \n",
    "        def predict_single(x):\n",
    "            k_nearest_neighbours = self.get_neighbours(x)\n",
    "\n",
    "            if self.task == 'classification':\n",
    "                prediction = Counter(k_nearest_neighbours).most_common(1)[0][0]\n",
    "            elif self.task == 'regression':\n",
    "                prediction = np.mean(k_nearest_neighbours)\n",
    "            else:\n",
    "                raise NameError('-_-')\n",
    "            \n",
    "            return prediction\n",
    "\n",
    "        predictions = [predict_single(x) for x in X]\n",
    "        return predictions\n",
    "\n",
    "    def get_neighbours(self, x):\n",
    "        if self.metric == 'euclidean':\n",
    "            distances = [self.euclidean(x, x_train) for x_train in self.X_train]\n",
    "        elif self.metric == 'manhattan':\n",
    "            distances = [self.manhattan(x, x_train) for x_train in self.X_train]\n",
    "        else:\n",
    "            raise NameError('Jarak harus berupa euclidean atau manhattan')\n",
    "\n",
    "        k_nearest_neighbours_indices = np.argsort(distances)[:self.k]\n",
    "        k_nearest_neighbours = [self.y_train[i] for i in k_nearest_neighbours_indices]\n",
    "\n",
    "        return k_nearest_neighbours"
   ]
  },
  {
   "cell_type": "markdown",
   "metadata": {
    "id": "4VU5cAudjaJe"
   },
   "source": [
    "# Classification"
   ]
  },
  {
   "cell_type": "markdown",
   "metadata": {},
   "source": [
    "## Data Preprocessing"
   ]
  },
  {
   "cell_type": "markdown",
   "metadata": {
    "id": "wdpZUArhUlzX"
   },
   "source": [
    "### Read data"
   ]
  },
  {
   "cell_type": "code",
   "execution_count": 416,
   "metadata": {
    "id": "wSlOPeSfUqEE"
   },
   "outputs": [],
   "source": [
    "abalones = pd.read_csv('dataset.csv')"
   ]
  },
  {
   "cell_type": "markdown",
   "metadata": {},
   "source": [
    "### Check data frame info (total rows, column names, data types, and missing values)"
   ]
  },
  {
   "cell_type": "code",
   "execution_count": 417,
   "metadata": {},
   "outputs": [
    {
     "name": "stdout",
     "output_type": "stream",
     "text": [
      "<class 'pandas.core.frame.DataFrame'>\n",
      "RangeIndex: 4177 entries, 0 to 4176\n",
      "Data columns (total 8 columns):\n",
      " #   Column          Non-Null Count  Dtype  \n",
      "---  ------          --------------  -----  \n",
      " 0   Length          4177 non-null   float64\n",
      " 1   Diameter        4177 non-null   float64\n",
      " 2   Height          4177 non-null   float64\n",
      " 3   Whole weight    4177 non-null   float64\n",
      " 4   Shucked weight  4177 non-null   float64\n",
      " 5   Viscera weight  4177 non-null   float64\n",
      " 6   Shell weight    4177 non-null   float64\n",
      " 7   Class           4177 non-null   int64  \n",
      "dtypes: float64(7), int64(1)\n",
      "memory usage: 261.2 KB\n"
     ]
    }
   ],
   "source": [
    "abalones.info()"
   ]
  },
  {
   "cell_type": "code",
   "execution_count": 418,
   "metadata": {},
   "outputs": [
    {
     "data": {
      "text/html": [
       "<div>\n",
       "<style scoped>\n",
       "    .dataframe tbody tr th:only-of-type {\n",
       "        vertical-align: middle;\n",
       "    }\n",
       "\n",
       "    .dataframe tbody tr th {\n",
       "        vertical-align: top;\n",
       "    }\n",
       "\n",
       "    .dataframe thead th {\n",
       "        text-align: right;\n",
       "    }\n",
       "</style>\n",
       "<table border=\"1\" class=\"dataframe\">\n",
       "  <thead>\n",
       "    <tr style=\"text-align: right;\">\n",
       "      <th></th>\n",
       "      <th>Length</th>\n",
       "      <th>Diameter</th>\n",
       "      <th>Height</th>\n",
       "      <th>Whole weight</th>\n",
       "      <th>Shucked weight</th>\n",
       "      <th>Viscera weight</th>\n",
       "      <th>Shell weight</th>\n",
       "      <th>Class</th>\n",
       "    </tr>\n",
       "  </thead>\n",
       "  <tbody>\n",
       "    <tr>\n",
       "      <th>count</th>\n",
       "      <td>4177.000000</td>\n",
       "      <td>4177.000000</td>\n",
       "      <td>4177.000000</td>\n",
       "      <td>4177.000000</td>\n",
       "      <td>4177.000000</td>\n",
       "      <td>4177.000000</td>\n",
       "      <td>4177.000000</td>\n",
       "      <td>4177.000000</td>\n",
       "    </tr>\n",
       "    <tr>\n",
       "      <th>mean</th>\n",
       "      <td>0.523992</td>\n",
       "      <td>0.407881</td>\n",
       "      <td>0.139516</td>\n",
       "      <td>0.828742</td>\n",
       "      <td>0.359367</td>\n",
       "      <td>0.180594</td>\n",
       "      <td>0.238831</td>\n",
       "      <td>0.229830</td>\n",
       "    </tr>\n",
       "    <tr>\n",
       "      <th>std</th>\n",
       "      <td>0.120093</td>\n",
       "      <td>0.099240</td>\n",
       "      <td>0.041827</td>\n",
       "      <td>0.490389</td>\n",
       "      <td>0.221963</td>\n",
       "      <td>0.109614</td>\n",
       "      <td>0.139203</td>\n",
       "      <td>0.420774</td>\n",
       "    </tr>\n",
       "    <tr>\n",
       "      <th>min</th>\n",
       "      <td>0.075000</td>\n",
       "      <td>0.055000</td>\n",
       "      <td>0.000000</td>\n",
       "      <td>0.002000</td>\n",
       "      <td>0.001000</td>\n",
       "      <td>0.000500</td>\n",
       "      <td>0.001500</td>\n",
       "      <td>0.000000</td>\n",
       "    </tr>\n",
       "    <tr>\n",
       "      <th>25%</th>\n",
       "      <td>0.450000</td>\n",
       "      <td>0.350000</td>\n",
       "      <td>0.115000</td>\n",
       "      <td>0.441500</td>\n",
       "      <td>0.186000</td>\n",
       "      <td>0.093500</td>\n",
       "      <td>0.130000</td>\n",
       "      <td>0.000000</td>\n",
       "    </tr>\n",
       "    <tr>\n",
       "      <th>50%</th>\n",
       "      <td>0.545000</td>\n",
       "      <td>0.425000</td>\n",
       "      <td>0.140000</td>\n",
       "      <td>0.799500</td>\n",
       "      <td>0.336000</td>\n",
       "      <td>0.171000</td>\n",
       "      <td>0.234000</td>\n",
       "      <td>0.000000</td>\n",
       "    </tr>\n",
       "    <tr>\n",
       "      <th>75%</th>\n",
       "      <td>0.615000</td>\n",
       "      <td>0.480000</td>\n",
       "      <td>0.165000</td>\n",
       "      <td>1.153000</td>\n",
       "      <td>0.502000</td>\n",
       "      <td>0.253000</td>\n",
       "      <td>0.329000</td>\n",
       "      <td>0.000000</td>\n",
       "    </tr>\n",
       "    <tr>\n",
       "      <th>max</th>\n",
       "      <td>0.815000</td>\n",
       "      <td>0.650000</td>\n",
       "      <td>1.130000</td>\n",
       "      <td>2.825500</td>\n",
       "      <td>1.488000</td>\n",
       "      <td>0.760000</td>\n",
       "      <td>1.005000</td>\n",
       "      <td>1.000000</td>\n",
       "    </tr>\n",
       "  </tbody>\n",
       "</table>\n",
       "</div>"
      ],
      "text/plain": [
       "            Length     Diameter       Height  Whole weight  Shucked weight  \\\n",
       "count  4177.000000  4177.000000  4177.000000   4177.000000     4177.000000   \n",
       "mean      0.523992     0.407881     0.139516      0.828742        0.359367   \n",
       "std       0.120093     0.099240     0.041827      0.490389        0.221963   \n",
       "min       0.075000     0.055000     0.000000      0.002000        0.001000   \n",
       "25%       0.450000     0.350000     0.115000      0.441500        0.186000   \n",
       "50%       0.545000     0.425000     0.140000      0.799500        0.336000   \n",
       "75%       0.615000     0.480000     0.165000      1.153000        0.502000   \n",
       "max       0.815000     0.650000     1.130000      2.825500        1.488000   \n",
       "\n",
       "       Viscera weight  Shell weight        Class  \n",
       "count     4177.000000   4177.000000  4177.000000  \n",
       "mean         0.180594      0.238831     0.229830  \n",
       "std          0.109614      0.139203     0.420774  \n",
       "min          0.000500      0.001500     0.000000  \n",
       "25%          0.093500      0.130000     0.000000  \n",
       "50%          0.171000      0.234000     0.000000  \n",
       "75%          0.253000      0.329000     0.000000  \n",
       "max          0.760000      1.005000     1.000000  "
      ]
     },
     "execution_count": 418,
     "metadata": {},
     "output_type": "execute_result"
    }
   ],
   "source": [
    "abalones.describe()"
   ]
  },
  {
   "cell_type": "markdown",
   "metadata": {},
   "source": [
    "> There's one anomaly, which is height == 0. We're gonna clean it"
   ]
  },
  {
   "cell_type": "code",
   "execution_count": 419,
   "metadata": {},
   "outputs": [
    {
     "data": {
      "text/html": [
       "<div>\n",
       "<style scoped>\n",
       "    .dataframe tbody tr th:only-of-type {\n",
       "        vertical-align: middle;\n",
       "    }\n",
       "\n",
       "    .dataframe tbody tr th {\n",
       "        vertical-align: top;\n",
       "    }\n",
       "\n",
       "    .dataframe thead th {\n",
       "        text-align: right;\n",
       "    }\n",
       "</style>\n",
       "<table border=\"1\" class=\"dataframe\">\n",
       "  <thead>\n",
       "    <tr style=\"text-align: right;\">\n",
       "      <th></th>\n",
       "      <th>Length</th>\n",
       "      <th>Diameter</th>\n",
       "      <th>Height</th>\n",
       "      <th>Whole weight</th>\n",
       "      <th>Shucked weight</th>\n",
       "      <th>Viscera weight</th>\n",
       "      <th>Shell weight</th>\n",
       "      <th>Class</th>\n",
       "    </tr>\n",
       "  </thead>\n",
       "  <tbody>\n",
       "    <tr>\n",
       "      <th>count</th>\n",
       "      <td>4175.000000</td>\n",
       "      <td>4175.00000</td>\n",
       "      <td>4175.000000</td>\n",
       "      <td>4175.000000</td>\n",
       "      <td>4175.000000</td>\n",
       "      <td>4175.000000</td>\n",
       "      <td>4175.000000</td>\n",
       "      <td>4175.000000</td>\n",
       "    </tr>\n",
       "    <tr>\n",
       "      <th>mean</th>\n",
       "      <td>0.524065</td>\n",
       "      <td>0.40794</td>\n",
       "      <td>0.139583</td>\n",
       "      <td>0.829005</td>\n",
       "      <td>0.359476</td>\n",
       "      <td>0.180653</td>\n",
       "      <td>0.238834</td>\n",
       "      <td>0.229940</td>\n",
       "    </tr>\n",
       "    <tr>\n",
       "      <th>std</th>\n",
       "      <td>0.120069</td>\n",
       "      <td>0.09922</td>\n",
       "      <td>0.041725</td>\n",
       "      <td>0.490349</td>\n",
       "      <td>0.221954</td>\n",
       "      <td>0.109605</td>\n",
       "      <td>0.139212</td>\n",
       "      <td>0.420844</td>\n",
       "    </tr>\n",
       "    <tr>\n",
       "      <th>min</th>\n",
       "      <td>0.075000</td>\n",
       "      <td>0.05500</td>\n",
       "      <td>0.010000</td>\n",
       "      <td>0.002000</td>\n",
       "      <td>0.001000</td>\n",
       "      <td>0.000500</td>\n",
       "      <td>0.001500</td>\n",
       "      <td>0.000000</td>\n",
       "    </tr>\n",
       "    <tr>\n",
       "      <th>25%</th>\n",
       "      <td>0.450000</td>\n",
       "      <td>0.35000</td>\n",
       "      <td>0.115000</td>\n",
       "      <td>0.442250</td>\n",
       "      <td>0.186250</td>\n",
       "      <td>0.093500</td>\n",
       "      <td>0.130000</td>\n",
       "      <td>0.000000</td>\n",
       "    </tr>\n",
       "    <tr>\n",
       "      <th>50%</th>\n",
       "      <td>0.545000</td>\n",
       "      <td>0.42500</td>\n",
       "      <td>0.140000</td>\n",
       "      <td>0.800000</td>\n",
       "      <td>0.336000</td>\n",
       "      <td>0.171000</td>\n",
       "      <td>0.234000</td>\n",
       "      <td>0.000000</td>\n",
       "    </tr>\n",
       "    <tr>\n",
       "      <th>75%</th>\n",
       "      <td>0.615000</td>\n",
       "      <td>0.48000</td>\n",
       "      <td>0.165000</td>\n",
       "      <td>1.153500</td>\n",
       "      <td>0.502000</td>\n",
       "      <td>0.253000</td>\n",
       "      <td>0.328750</td>\n",
       "      <td>0.000000</td>\n",
       "    </tr>\n",
       "    <tr>\n",
       "      <th>max</th>\n",
       "      <td>0.815000</td>\n",
       "      <td>0.65000</td>\n",
       "      <td>1.130000</td>\n",
       "      <td>2.825500</td>\n",
       "      <td>1.488000</td>\n",
       "      <td>0.760000</td>\n",
       "      <td>1.005000</td>\n",
       "      <td>1.000000</td>\n",
       "    </tr>\n",
       "  </tbody>\n",
       "</table>\n",
       "</div>"
      ],
      "text/plain": [
       "            Length    Diameter       Height  Whole weight  Shucked weight  \\\n",
       "count  4175.000000  4175.00000  4175.000000   4175.000000     4175.000000   \n",
       "mean      0.524065     0.40794     0.139583      0.829005        0.359476   \n",
       "std       0.120069     0.09922     0.041725      0.490349        0.221954   \n",
       "min       0.075000     0.05500     0.010000      0.002000        0.001000   \n",
       "25%       0.450000     0.35000     0.115000      0.442250        0.186250   \n",
       "50%       0.545000     0.42500     0.140000      0.800000        0.336000   \n",
       "75%       0.615000     0.48000     0.165000      1.153500        0.502000   \n",
       "max       0.815000     0.65000     1.130000      2.825500        1.488000   \n",
       "\n",
       "       Viscera weight  Shell weight        Class  \n",
       "count     4175.000000   4175.000000  4175.000000  \n",
       "mean         0.180653      0.238834     0.229940  \n",
       "std          0.109605      0.139212     0.420844  \n",
       "min          0.000500      0.001500     0.000000  \n",
       "25%          0.093500      0.130000     0.000000  \n",
       "50%          0.171000      0.234000     0.000000  \n",
       "75%          0.253000      0.328750     0.000000  \n",
       "max          0.760000      1.005000     1.000000  "
      ]
     },
     "execution_count": 419,
     "metadata": {},
     "output_type": "execute_result"
    }
   ],
   "source": [
    "abalones_cleaned = abalones[abalones['Height'] != 0]\n",
    "\n",
    "abalones_cleaned.describe()"
   ]
  },
  {
   "cell_type": "markdown",
   "metadata": {},
   "source": [
    "> Perfect! But, there could also be a weight anomaly, which is where whole weight is less than other partial heights. Let's take a look!"
   ]
  },
  {
   "cell_type": "code",
   "execution_count": 420,
   "metadata": {},
   "outputs": [
    {
     "data": {
      "text/html": [
       "<div>\n",
       "<style scoped>\n",
       "    .dataframe tbody tr th:only-of-type {\n",
       "        vertical-align: middle;\n",
       "    }\n",
       "\n",
       "    .dataframe tbody tr th {\n",
       "        vertical-align: top;\n",
       "    }\n",
       "\n",
       "    .dataframe thead th {\n",
       "        text-align: right;\n",
       "    }\n",
       "</style>\n",
       "<table border=\"1\" class=\"dataframe\">\n",
       "  <thead>\n",
       "    <tr style=\"text-align: right;\">\n",
       "      <th></th>\n",
       "      <th>Length</th>\n",
       "      <th>Diameter</th>\n",
       "      <th>Height</th>\n",
       "      <th>Whole weight</th>\n",
       "      <th>Shucked weight</th>\n",
       "      <th>Viscera weight</th>\n",
       "      <th>Shell weight</th>\n",
       "      <th>Class</th>\n",
       "    </tr>\n",
       "  </thead>\n",
       "  <tbody>\n",
       "    <tr>\n",
       "      <th>1216</th>\n",
       "      <td>0.310</td>\n",
       "      <td>0.225</td>\n",
       "      <td>0.070</td>\n",
       "      <td>0.1055</td>\n",
       "      <td>0.4350</td>\n",
       "      <td>0.0150</td>\n",
       "      <td>0.0400</td>\n",
       "      <td>0</td>\n",
       "    </tr>\n",
       "    <tr>\n",
       "      <th>2627</th>\n",
       "      <td>0.275</td>\n",
       "      <td>0.205</td>\n",
       "      <td>0.070</td>\n",
       "      <td>0.1055</td>\n",
       "      <td>0.4950</td>\n",
       "      <td>0.0190</td>\n",
       "      <td>0.0315</td>\n",
       "      <td>0</td>\n",
       "    </tr>\n",
       "    <tr>\n",
       "      <th>2641</th>\n",
       "      <td>0.475</td>\n",
       "      <td>0.365</td>\n",
       "      <td>0.100</td>\n",
       "      <td>0.1315</td>\n",
       "      <td>0.2025</td>\n",
       "      <td>0.0875</td>\n",
       "      <td>0.1230</td>\n",
       "      <td>0</td>\n",
       "    </tr>\n",
       "    <tr>\n",
       "      <th>3086</th>\n",
       "      <td>0.355</td>\n",
       "      <td>0.270</td>\n",
       "      <td>0.075</td>\n",
       "      <td>0.2040</td>\n",
       "      <td>0.3045</td>\n",
       "      <td>0.0460</td>\n",
       "      <td>0.0595</td>\n",
       "      <td>0</td>\n",
       "    </tr>\n",
       "  </tbody>\n",
       "</table>\n",
       "</div>"
      ],
      "text/plain": [
       "      Length  Diameter  Height  Whole weight  Shucked weight  Viscera weight  \\\n",
       "1216   0.310     0.225   0.070        0.1055          0.4350          0.0150   \n",
       "2627   0.275     0.205   0.070        0.1055          0.4950          0.0190   \n",
       "2641   0.475     0.365   0.100        0.1315          0.2025          0.0875   \n",
       "3086   0.355     0.270   0.075        0.2040          0.3045          0.0460   \n",
       "\n",
       "      Shell weight  Class  \n",
       "1216        0.0400      0  \n",
       "2627        0.0315      0  \n",
       "2641        0.1230      0  \n",
       "3086        0.0595      0  "
      ]
     },
     "execution_count": 420,
     "metadata": {},
     "output_type": "execute_result"
    }
   ],
   "source": [
    "abalones_cleaned[(abalones_cleaned['Whole weight'] < abalones_cleaned['Shucked weight']) |\n",
    "                 (abalones_cleaned['Whole weight'] < abalones_cleaned['Viscera weight']) |\n",
    "                 (abalones_cleaned['Whole weight'] < abalones_cleaned['Shell weight'])]"
   ]
  },
  {
   "cell_type": "markdown",
   "metadata": {},
   "source": [
    "> There is! Let's clean it!"
   ]
  },
  {
   "cell_type": "code",
   "execution_count": 421,
   "metadata": {},
   "outputs": [
    {
     "data": {
      "text/html": [
       "<div>\n",
       "<style scoped>\n",
       "    .dataframe tbody tr th:only-of-type {\n",
       "        vertical-align: middle;\n",
       "    }\n",
       "\n",
       "    .dataframe tbody tr th {\n",
       "        vertical-align: top;\n",
       "    }\n",
       "\n",
       "    .dataframe thead th {\n",
       "        text-align: right;\n",
       "    }\n",
       "</style>\n",
       "<table border=\"1\" class=\"dataframe\">\n",
       "  <thead>\n",
       "    <tr style=\"text-align: right;\">\n",
       "      <th></th>\n",
       "      <th>Length</th>\n",
       "      <th>Diameter</th>\n",
       "      <th>Height</th>\n",
       "      <th>Whole weight</th>\n",
       "      <th>Shucked weight</th>\n",
       "      <th>Viscera weight</th>\n",
       "      <th>Shell weight</th>\n",
       "      <th>Class</th>\n",
       "    </tr>\n",
       "  </thead>\n",
       "  <tbody>\n",
       "    <tr>\n",
       "      <th>count</th>\n",
       "      <td>4171.000000</td>\n",
       "      <td>4171.000000</td>\n",
       "      <td>4171.000000</td>\n",
       "      <td>4171.000000</td>\n",
       "      <td>4171.000000</td>\n",
       "      <td>4171.000000</td>\n",
       "      <td>4171.000000</td>\n",
       "      <td>4171.000000</td>\n",
       "    </tr>\n",
       "    <tr>\n",
       "      <th>mean</th>\n",
       "      <td>0.524228</td>\n",
       "      <td>0.408076</td>\n",
       "      <td>0.139642</td>\n",
       "      <td>0.829669</td>\n",
       "      <td>0.359477</td>\n",
       "      <td>0.180786</td>\n",
       "      <td>0.239002</td>\n",
       "      <td>0.230161</td>\n",
       "    </tr>\n",
       "    <tr>\n",
       "      <th>std</th>\n",
       "      <td>0.119988</td>\n",
       "      <td>0.099152</td>\n",
       "      <td>0.041701</td>\n",
       "      <td>0.490113</td>\n",
       "      <td>0.222033</td>\n",
       "      <td>0.109570</td>\n",
       "      <td>0.139168</td>\n",
       "      <td>0.420986</td>\n",
       "    </tr>\n",
       "    <tr>\n",
       "      <th>min</th>\n",
       "      <td>0.075000</td>\n",
       "      <td>0.055000</td>\n",
       "      <td>0.010000</td>\n",
       "      <td>0.002000</td>\n",
       "      <td>0.001000</td>\n",
       "      <td>0.000500</td>\n",
       "      <td>0.001500</td>\n",
       "      <td>0.000000</td>\n",
       "    </tr>\n",
       "    <tr>\n",
       "      <th>25%</th>\n",
       "      <td>0.450000</td>\n",
       "      <td>0.350000</td>\n",
       "      <td>0.115000</td>\n",
       "      <td>0.442750</td>\n",
       "      <td>0.186000</td>\n",
       "      <td>0.093500</td>\n",
       "      <td>0.130000</td>\n",
       "      <td>0.000000</td>\n",
       "    </tr>\n",
       "    <tr>\n",
       "      <th>50%</th>\n",
       "      <td>0.545000</td>\n",
       "      <td>0.425000</td>\n",
       "      <td>0.140000</td>\n",
       "      <td>0.800500</td>\n",
       "      <td>0.336000</td>\n",
       "      <td>0.171000</td>\n",
       "      <td>0.234000</td>\n",
       "      <td>0.000000</td>\n",
       "    </tr>\n",
       "    <tr>\n",
       "      <th>75%</th>\n",
       "      <td>0.615000</td>\n",
       "      <td>0.480000</td>\n",
       "      <td>0.165000</td>\n",
       "      <td>1.154000</td>\n",
       "      <td>0.502500</td>\n",
       "      <td>0.253000</td>\n",
       "      <td>0.329000</td>\n",
       "      <td>0.000000</td>\n",
       "    </tr>\n",
       "    <tr>\n",
       "      <th>max</th>\n",
       "      <td>0.815000</td>\n",
       "      <td>0.650000</td>\n",
       "      <td>1.130000</td>\n",
       "      <td>2.825500</td>\n",
       "      <td>1.488000</td>\n",
       "      <td>0.760000</td>\n",
       "      <td>1.005000</td>\n",
       "      <td>1.000000</td>\n",
       "    </tr>\n",
       "  </tbody>\n",
       "</table>\n",
       "</div>"
      ],
      "text/plain": [
       "            Length     Diameter       Height  Whole weight  Shucked weight  \\\n",
       "count  4171.000000  4171.000000  4171.000000   4171.000000     4171.000000   \n",
       "mean      0.524228     0.408076     0.139642      0.829669        0.359477   \n",
       "std       0.119988     0.099152     0.041701      0.490113        0.222033   \n",
       "min       0.075000     0.055000     0.010000      0.002000        0.001000   \n",
       "25%       0.450000     0.350000     0.115000      0.442750        0.186000   \n",
       "50%       0.545000     0.425000     0.140000      0.800500        0.336000   \n",
       "75%       0.615000     0.480000     0.165000      1.154000        0.502500   \n",
       "max       0.815000     0.650000     1.130000      2.825500        1.488000   \n",
       "\n",
       "       Viscera weight  Shell weight        Class  \n",
       "count     4171.000000   4171.000000  4171.000000  \n",
       "mean         0.180786      0.239002     0.230161  \n",
       "std          0.109570      0.139168     0.420986  \n",
       "min          0.000500      0.001500     0.000000  \n",
       "25%          0.093500      0.130000     0.000000  \n",
       "50%          0.171000      0.234000     0.000000  \n",
       "75%          0.253000      0.329000     0.000000  \n",
       "max          0.760000      1.005000     1.000000  "
      ]
     },
     "execution_count": 421,
     "metadata": {},
     "output_type": "execute_result"
    }
   ],
   "source": [
    "abalones_cleaned = abalones_cleaned[(abalones_cleaned['Whole weight'] > abalones_cleaned['Shucked weight']) &\n",
    "                                    (abalones_cleaned['Whole weight'] > abalones_cleaned['Viscera weight']) &\n",
    "                                    (abalones_cleaned['Whole weight'] > abalones_cleaned['Shell weight'])]\n",
    "\n",
    "abalones_cleaned.describe()"
   ]
  },
  {
   "cell_type": "markdown",
   "metadata": {},
   "source": [
    "> Perfect. Now, since it's knn, it's best to rescale the data into 0 to 1. Let's do it!"
   ]
  },
  {
   "cell_type": "markdown",
   "metadata": {},
   "source": [
    "### Rescale features"
   ]
  },
  {
   "cell_type": "code",
   "execution_count": 422,
   "metadata": {},
   "outputs": [
    {
     "data": {
      "text/html": [
       "<div>\n",
       "<style scoped>\n",
       "    .dataframe tbody tr th:only-of-type {\n",
       "        vertical-align: middle;\n",
       "    }\n",
       "\n",
       "    .dataframe tbody tr th {\n",
       "        vertical-align: top;\n",
       "    }\n",
       "\n",
       "    .dataframe thead th {\n",
       "        text-align: right;\n",
       "    }\n",
       "</style>\n",
       "<table border=\"1\" class=\"dataframe\">\n",
       "  <thead>\n",
       "    <tr style=\"text-align: right;\">\n",
       "      <th></th>\n",
       "      <th>Length</th>\n",
       "      <th>Diameter</th>\n",
       "      <th>Height</th>\n",
       "      <th>Whole weight</th>\n",
       "      <th>Shucked weight</th>\n",
       "      <th>Viscera weight</th>\n",
       "      <th>Shell weight</th>\n",
       "      <th>Class</th>\n",
       "    </tr>\n",
       "  </thead>\n",
       "  <tbody>\n",
       "    <tr>\n",
       "      <th>count</th>\n",
       "      <td>4171.000000</td>\n",
       "      <td>4171.000000</td>\n",
       "      <td>4171.000000</td>\n",
       "      <td>4171.000000</td>\n",
       "      <td>4171.000000</td>\n",
       "      <td>4171.000000</td>\n",
       "      <td>4171.000000</td>\n",
       "      <td>4171.000000</td>\n",
       "    </tr>\n",
       "    <tr>\n",
       "      <th>mean</th>\n",
       "      <td>0.607065</td>\n",
       "      <td>0.593405</td>\n",
       "      <td>0.115751</td>\n",
       "      <td>0.293136</td>\n",
       "      <td>0.241074</td>\n",
       "      <td>0.237374</td>\n",
       "      <td>0.236674</td>\n",
       "      <td>0.230161</td>\n",
       "    </tr>\n",
       "    <tr>\n",
       "      <th>std</th>\n",
       "      <td>0.162146</td>\n",
       "      <td>0.166642</td>\n",
       "      <td>0.037233</td>\n",
       "      <td>0.173584</td>\n",
       "      <td>0.149316</td>\n",
       "      <td>0.144266</td>\n",
       "      <td>0.138683</td>\n",
       "      <td>0.420986</td>\n",
       "    </tr>\n",
       "    <tr>\n",
       "      <th>min</th>\n",
       "      <td>0.000000</td>\n",
       "      <td>0.000000</td>\n",
       "      <td>0.000000</td>\n",
       "      <td>0.000000</td>\n",
       "      <td>0.000000</td>\n",
       "      <td>0.000000</td>\n",
       "      <td>0.000000</td>\n",
       "      <td>0.000000</td>\n",
       "    </tr>\n",
       "    <tr>\n",
       "      <th>25%</th>\n",
       "      <td>0.506757</td>\n",
       "      <td>0.495798</td>\n",
       "      <td>0.093750</td>\n",
       "      <td>0.156101</td>\n",
       "      <td>0.124412</td>\n",
       "      <td>0.122449</td>\n",
       "      <td>0.128052</td>\n",
       "      <td>0.000000</td>\n",
       "    </tr>\n",
       "    <tr>\n",
       "      <th>50%</th>\n",
       "      <td>0.635135</td>\n",
       "      <td>0.621849</td>\n",
       "      <td>0.116071</td>\n",
       "      <td>0.282805</td>\n",
       "      <td>0.225286</td>\n",
       "      <td>0.224490</td>\n",
       "      <td>0.231689</td>\n",
       "      <td>0.000000</td>\n",
       "    </tr>\n",
       "    <tr>\n",
       "      <th>75%</th>\n",
       "      <td>0.729730</td>\n",
       "      <td>0.714286</td>\n",
       "      <td>0.138393</td>\n",
       "      <td>0.408004</td>\n",
       "      <td>0.337256</td>\n",
       "      <td>0.332456</td>\n",
       "      <td>0.326358</td>\n",
       "      <td>0.000000</td>\n",
       "    </tr>\n",
       "    <tr>\n",
       "      <th>max</th>\n",
       "      <td>1.000000</td>\n",
       "      <td>1.000000</td>\n",
       "      <td>1.000000</td>\n",
       "      <td>1.000000</td>\n",
       "      <td>1.000000</td>\n",
       "      <td>1.000000</td>\n",
       "      <td>1.000000</td>\n",
       "      <td>1.000000</td>\n",
       "    </tr>\n",
       "  </tbody>\n",
       "</table>\n",
       "</div>"
      ],
      "text/plain": [
       "            Length     Diameter       Height  Whole weight  Shucked weight  \\\n",
       "count  4171.000000  4171.000000  4171.000000   4171.000000     4171.000000   \n",
       "mean      0.607065     0.593405     0.115751      0.293136        0.241074   \n",
       "std       0.162146     0.166642     0.037233      0.173584        0.149316   \n",
       "min       0.000000     0.000000     0.000000      0.000000        0.000000   \n",
       "25%       0.506757     0.495798     0.093750      0.156101        0.124412   \n",
       "50%       0.635135     0.621849     0.116071      0.282805        0.225286   \n",
       "75%       0.729730     0.714286     0.138393      0.408004        0.337256   \n",
       "max       1.000000     1.000000     1.000000      1.000000        1.000000   \n",
       "\n",
       "       Viscera weight  Shell weight        Class  \n",
       "count     4171.000000   4171.000000  4171.000000  \n",
       "mean         0.237374      0.236674     0.230161  \n",
       "std          0.144266      0.138683     0.420986  \n",
       "min          0.000000      0.000000     0.000000  \n",
       "25%          0.122449      0.128052     0.000000  \n",
       "50%          0.224490      0.231689     0.000000  \n",
       "75%          0.332456      0.326358     0.000000  \n",
       "max          1.000000      1.000000     1.000000  "
      ]
     },
     "execution_count": 422,
     "metadata": {},
     "output_type": "execute_result"
    }
   ],
   "source": [
    "columns_to_scale = abalones_cleaned.drop(columns='Class').columns \n",
    "\n",
    "scaler = MinMaxScaler()\n",
    "abalones_scaled = abalones_cleaned.copy()\n",
    "abalones_scaled[columns_to_scale] = scaler.fit_transform(abalones_cleaned[columns_to_scale])\n",
    "\n",
    "abalones_scaled.describe()\n"
   ]
  },
  {
   "cell_type": "markdown",
   "metadata": {},
   "source": [
    "## Cross Validation & Model Fitting"
   ]
  },
  {
   "cell_type": "markdown",
   "metadata": {},
   "source": [
    "### Split data to train and test:"
   ]
  },
  {
   "cell_type": "code",
   "execution_count": 423,
   "metadata": {},
   "outputs": [],
   "source": [
    "X_train, X_test, y_train, y_test = train_test_split(abalones_scaled.drop(columns='Class'), abalones_scaled['Class'], test_size=0.2, random_state=1)"
   ]
  },
  {
   "cell_type": "markdown",
   "metadata": {},
   "source": [
    "### Fit the model:"
   ]
  },
  {
   "cell_type": "code",
   "execution_count": 424,
   "metadata": {},
   "outputs": [],
   "source": [
    "knn_classifier = KNN(7, \"euclidean\", \"classification\")\n",
    "knn_classifier.fit(X_train, y_train)"
   ]
  },
  {
   "cell_type": "markdown",
   "metadata": {},
   "source": [
    "## Model Evaluation"
   ]
  },
  {
   "cell_type": "markdown",
   "metadata": {},
   "source": [
    "### Predict test data:"
   ]
  },
  {
   "cell_type": "code",
   "execution_count": 425,
   "metadata": {},
   "outputs": [
    {
     "name": "stdout",
     "output_type": "stream",
     "text": [
      "Predictions:\n",
      "0    717\n",
      "1    118\n",
      "Name: count, dtype: int64\n"
     ]
    }
   ],
   "source": [
    "y_pred = knn_classifier.predict(X_test)\n",
    "\n",
    "print('Predictions:')\n",
    "print(pd.Series(y_pred).value_counts())"
   ]
  },
  {
   "cell_type": "markdown",
   "metadata": {},
   "source": [
    "### Calculate the predictions' scores:"
   ]
  },
  {
   "cell_type": "code",
   "execution_count": 426,
   "metadata": {},
   "outputs": [
    {
     "name": "stdout",
     "output_type": "stream",
     "text": [
      "              precision    recall  f1-score   support\n",
      "\n",
      "           0       0.93      0.85      0.89       717\n",
      "           1       0.40      0.61      0.48       118\n",
      "\n",
      "    accuracy                           0.81       835\n",
      "   macro avg       0.66      0.73      0.68       835\n",
      "weighted avg       0.85      0.81      0.83       835\n",
      "\n"
     ]
    }
   ],
   "source": [
    "print(classification_report(y_pred, y_test))"
   ]
  },
  {
   "cell_type": "markdown",
   "metadata": {
    "id": "D8ocXn6JUum7"
   },
   "source": [
    "## Hyper Parameter Tuning"
   ]
  },
  {
   "cell_type": "markdown",
   "metadata": {},
   "source": [
    "### Calculate accuracies of k ranging from 1 to 50 for both metrics:"
   ]
  },
  {
   "cell_type": "code",
   "execution_count": 427,
   "metadata": {},
   "outputs": [],
   "source": [
    "accuracies_euclidean = []\n",
    "accuracies_manhattan = []\n",
    "\n",
    "for k in range(1, 51):\n",
    "    # Euclidean\n",
    "    knn_classifier_euclidean = KNN(k, \"euclidean\", \"classification\")\n",
    "    knn_classifier_euclidean.fit(X_train, y_train)\n",
    "    y_pred_euclidean = knn_classifier_euclidean.predict(X_test)\n",
    "    accuracy_euclidean = accuracy_score(y_pred_euclidean, y_test)\n",
    "    accuracies_euclidean.append(accuracy_euclidean)\n",
    "\n",
    "    # Manhattan\n",
    "    knn_classifier_manhattan = KNN(k, \"manhattan\", \"classification\")\n",
    "    knn_classifier_manhattan.fit(X_train, y_train)\n",
    "    y_pred_manhattan = knn_classifier_manhattan.predict(X_test)\n",
    "    accuracy_manhattan = accuracy_score(y_pred_manhattan, y_test)\n",
    "    accuracies_manhattan.append(accuracy_manhattan)"
   ]
  },
  {
   "cell_type": "markdown",
   "metadata": {},
   "source": [
    "### Plot the accuracies line of both metrics:"
   ]
  },
  {
   "cell_type": "code",
   "execution_count": 428,
   "metadata": {},
   "outputs": [
    {
     "data": {
      "image/png": "[encoded data removed]",
      "text/plain": [
       "<Figure size 640x480 with 1 Axes>"
      ]
     },
     "metadata": {},
     "output_type": "display_data"
    }
   ],
   "source": [
    "plt.plot(list(range(1, 51)), accuracies_euclidean, label='Euclidean', color='blue')\n",
    "plt.plot(list(range(1, 51)), accuracies_manhattan, label='Manhattan', color='orange')\n",
    "\n",
    "plt.xlabel('k')\n",
    "plt.ylabel('Accuracy')\n",
    "plt.title('Accuracy vs k for Euclidean and Manhattan distances')\n",
    "plt.legend()\n",
    "\n",
    "plt.grid(True)\n",
    "plt.show()"
   ]
  },
  {
   "cell_type": "markdown",
   "metadata": {},
   "source": [
    "> The best k is 9 and the best metric is *manhattan*! Let's use those!"
   ]
  },
  {
   "cell_type": "markdown",
   "metadata": {},
   "source": [
    "## Final Model and Predictions"
   ]
  },
  {
   "cell_type": "markdown",
   "metadata": {},
   "source": [
    "### Fit the model:"
   ]
  },
  {
   "cell_type": "code",
   "execution_count": 429,
   "metadata": {},
   "outputs": [],
   "source": [
    "knn_classifier_final = KNN(9, 'manhattan', 'classification')\n",
    "knn_classifier_final.fit(X_train, y_train)"
   ]
  },
  {
   "cell_type": "markdown",
   "metadata": {},
   "source": [
    "### Calculate predictions:"
   ]
  },
  {
   "cell_type": "code",
   "execution_count": 430,
   "metadata": {},
   "outputs": [
    {
     "name": "stdout",
     "output_type": "stream",
     "text": [
      "Predictions:\n",
      "0    733\n",
      "1    102\n",
      "Name: count, dtype: int64\n"
     ]
    }
   ],
   "source": [
    "y_pred_final = knn_classifier_final.predict(X_test)\n",
    "\n",
    "print('Predictions:')\n",
    "print(pd.Series(y_pred_final).value_counts())"
   ]
  },
  {
   "cell_type": "markdown",
   "metadata": {},
   "source": [
    "### Calculate the predictions' scores:"
   ]
  },
  {
   "cell_type": "code",
   "execution_count": 431,
   "metadata": {},
   "outputs": [
    {
     "name": "stdout",
     "output_type": "stream",
     "text": [
      "              precision    recall  f1-score   support\n",
      "\n",
      "           0       0.95      0.85      0.90       733\n",
      "           1       0.39      0.69      0.49       102\n",
      "\n",
      "    accuracy                           0.83       835\n",
      "   macro avg       0.67      0.77      0.70       835\n",
      "weighted avg       0.88      0.83      0.85       835\n",
      "\n"
     ]
    }
   ],
   "source": [
    "print(classification_report(y_pred_final, y_test))"
   ]
  },
  {
   "cell_type": "markdown",
   "metadata": {
    "id": "HTV3M26ewBFZ"
   },
   "source": [
    "# Regression"
   ]
  },
  {
   "cell_type": "markdown",
   "metadata": {},
   "source": [
    "## Data Preprocessing"
   ]
  },
  {
   "cell_type": "markdown",
   "metadata": {},
   "source": [
    "### Rescaling:"
   ]
  },
  {
   "cell_type": "code",
   "execution_count": 432,
   "metadata": {},
   "outputs": [
    {
     "data": {
      "text/html": [
       "<div>\n",
       "<style scoped>\n",
       "    .dataframe tbody tr th:only-of-type {\n",
       "        vertical-align: middle;\n",
       "    }\n",
       "\n",
       "    .dataframe tbody tr th {\n",
       "        vertical-align: top;\n",
       "    }\n",
       "\n",
       "    .dataframe thead th {\n",
       "        text-align: right;\n",
       "    }\n",
       "</style>\n",
       "<table border=\"1\" class=\"dataframe\">\n",
       "  <thead>\n",
       "    <tr style=\"text-align: right;\">\n",
       "      <th></th>\n",
       "      <th>Length</th>\n",
       "      <th>Diameter</th>\n",
       "      <th>Height</th>\n",
       "      <th>Whole weight</th>\n",
       "      <th>Shucked weight</th>\n",
       "      <th>Viscera weight</th>\n",
       "      <th>Shell weight</th>\n",
       "      <th>Class</th>\n",
       "    </tr>\n",
       "  </thead>\n",
       "  <tbody>\n",
       "    <tr>\n",
       "      <th>count</th>\n",
       "      <td>4171.000000</td>\n",
       "      <td>4171.000000</td>\n",
       "      <td>4171.000000</td>\n",
       "      <td>4171.000000</td>\n",
       "      <td>4171.000000</td>\n",
       "      <td>4171.000000</td>\n",
       "      <td>4171.000000</td>\n",
       "      <td>4171.000000</td>\n",
       "    </tr>\n",
       "    <tr>\n",
       "      <th>mean</th>\n",
       "      <td>0.607065</td>\n",
       "      <td>0.593405</td>\n",
       "      <td>0.115751</td>\n",
       "      <td>0.829669</td>\n",
       "      <td>0.241074</td>\n",
       "      <td>0.237374</td>\n",
       "      <td>0.236674</td>\n",
       "      <td>0.230161</td>\n",
       "    </tr>\n",
       "    <tr>\n",
       "      <th>std</th>\n",
       "      <td>0.162146</td>\n",
       "      <td>0.166642</td>\n",
       "      <td>0.037233</td>\n",
       "      <td>0.490113</td>\n",
       "      <td>0.149316</td>\n",
       "      <td>0.144266</td>\n",
       "      <td>0.138683</td>\n",
       "      <td>0.420986</td>\n",
       "    </tr>\n",
       "    <tr>\n",
       "      <th>min</th>\n",
       "      <td>0.000000</td>\n",
       "      <td>0.000000</td>\n",
       "      <td>0.000000</td>\n",
       "      <td>0.002000</td>\n",
       "      <td>0.000000</td>\n",
       "      <td>0.000000</td>\n",
       "      <td>0.000000</td>\n",
       "      <td>0.000000</td>\n",
       "    </tr>\n",
       "    <tr>\n",
       "      <th>25%</th>\n",
       "      <td>0.506757</td>\n",
       "      <td>0.495798</td>\n",
       "      <td>0.093750</td>\n",
       "      <td>0.442750</td>\n",
       "      <td>0.124412</td>\n",
       "      <td>0.122449</td>\n",
       "      <td>0.128052</td>\n",
       "      <td>0.000000</td>\n",
       "    </tr>\n",
       "    <tr>\n",
       "      <th>50%</th>\n",
       "      <td>0.635135</td>\n",
       "      <td>0.621849</td>\n",
       "      <td>0.116071</td>\n",
       "      <td>0.800500</td>\n",
       "      <td>0.225286</td>\n",
       "      <td>0.224490</td>\n",
       "      <td>0.231689</td>\n",
       "      <td>0.000000</td>\n",
       "    </tr>\n",
       "    <tr>\n",
       "      <th>75%</th>\n",
       "      <td>0.729730</td>\n",
       "      <td>0.714286</td>\n",
       "      <td>0.138393</td>\n",
       "      <td>1.154000</td>\n",
       "      <td>0.337256</td>\n",
       "      <td>0.332456</td>\n",
       "      <td>0.326358</td>\n",
       "      <td>0.000000</td>\n",
       "    </tr>\n",
       "    <tr>\n",
       "      <th>max</th>\n",
       "      <td>1.000000</td>\n",
       "      <td>1.000000</td>\n",
       "      <td>1.000000</td>\n",
       "      <td>2.825500</td>\n",
       "      <td>1.000000</td>\n",
       "      <td>1.000000</td>\n",
       "      <td>1.000000</td>\n",
       "      <td>1.000000</td>\n",
       "    </tr>\n",
       "  </tbody>\n",
       "</table>\n",
       "</div>"
      ],
      "text/plain": [
       "            Length     Diameter       Height  Whole weight  Shucked weight  \\\n",
       "count  4171.000000  4171.000000  4171.000000   4171.000000     4171.000000   \n",
       "mean      0.607065     0.593405     0.115751      0.829669        0.241074   \n",
       "std       0.162146     0.166642     0.037233      0.490113        0.149316   \n",
       "min       0.000000     0.000000     0.000000      0.002000        0.000000   \n",
       "25%       0.506757     0.495798     0.093750      0.442750        0.124412   \n",
       "50%       0.635135     0.621849     0.116071      0.800500        0.225286   \n",
       "75%       0.729730     0.714286     0.138393      1.154000        0.337256   \n",
       "max       1.000000     1.000000     1.000000      2.825500        1.000000   \n",
       "\n",
       "       Viscera weight  Shell weight        Class  \n",
       "count     4171.000000   4171.000000  4171.000000  \n",
       "mean         0.237374      0.236674     0.230161  \n",
       "std          0.144266      0.138683     0.420986  \n",
       "min          0.000000      0.000000     0.000000  \n",
       "25%          0.122449      0.128052     0.000000  \n",
       "50%          0.224490      0.231689     0.000000  \n",
       "75%          0.332456      0.326358     0.000000  \n",
       "max          1.000000      1.000000     1.000000  "
      ]
     },
     "execution_count": 432,
     "metadata": {},
     "output_type": "execute_result"
    }
   ],
   "source": [
    "features = abalones_cleaned.drop(columns='Whole weight').columns\n",
    "\n",
    "abalones_scaled = abalones_cleaned.copy()\n",
    "abalones_scaled[features] = scaler.fit_transform(abalones_cleaned[features])\n",
    "\n",
    "abalones_scaled.describe()"
   ]
  },
  {
   "cell_type": "markdown",
   "metadata": {
    "id": "V9RapF2fVX4C"
   },
   "source": [
    "## Cross Validation & Model Fitting"
   ]
  },
  {
   "cell_type": "markdown",
   "metadata": {},
   "source": [
    "### Split data to train and test:"
   ]
  },
  {
   "cell_type": "code",
   "execution_count": 433,
   "metadata": {
    "id": "HJDDcAt2VZ-g"
   },
   "outputs": [],
   "source": [
    "X_train, X_test, y_train, y_test = train_test_split(abalones_scaled.drop(columns='Whole weight'), abalones_scaled['Whole weight'], test_size=0.2, random_state=1)"
   ]
  },
  {
   "cell_type": "markdown",
   "metadata": {
    "id": "mCxDSZL7VjwG"
   },
   "source": [
    "### Fit the model:"
   ]
  },
  {
   "cell_type": "code",
   "execution_count": 434,
   "metadata": {
    "id": "T7c80uCcVoF2"
   },
   "outputs": [],
   "source": [
    "knn_regressor = KNN(15, \"euclidean\", \"regression\")\n",
    "knn_regressor.fit(X_train, y_train)"
   ]
  },
  {
   "cell_type": "markdown",
   "metadata": {},
   "source": [
    "## Model Evaluation"
   ]
  },
  {
   "cell_type": "markdown",
   "metadata": {
    "id": "CNgNueSqVrHC"
   },
   "source": [
    "### Predict test data:"
   ]
  },
  {
   "cell_type": "code",
   "execution_count": 435,
   "metadata": {
    "id": "WUjrJmjPVqXv"
   },
   "outputs": [
    {
     "data": {
      "text/plain": [
       "Text(0.5, 0, 'Whole weigth')"
      ]
     },
     "execution_count": 435,
     "metadata": {},
     "output_type": "execute_result"
    },
    {
     "data": {
      "image/png": "[encoded data removed]",
      "text/plain": [
       "<Figure size 640x480 with 1 Axes>"
      ]
     },
     "metadata": {},
     "output_type": "display_data"
    }
   ],
   "source": [
    "y_pred = knn_regressor.predict(X_test)\n",
    "\n",
    "plt.hist(y_pred, bins=10, color='blue')\n",
    "plt.title('Predictions Histogram')\n",
    "plt.xlabel('Whole weigth')"
   ]
  },
  {
   "cell_type": "markdown",
   "metadata": {},
   "source": [
    "### Calculate errors:"
   ]
  },
  {
   "cell_type": "code",
   "execution_count": 436,
   "metadata": {},
   "outputs": [
    {
     "name": "stdout",
     "output_type": "stream",
     "text": [
      "Predictions Errors:\n",
      "MAE = 0.02868758483033932\n",
      "MAPE = 3.99%\n",
      "MSE = 0.0026600904990019955\n",
      "RMSE = 0.05157606517564126\n"
     ]
    }
   ],
   "source": [
    "print(\"Predictions Errors:\")\n",
    "\n",
    "print(f'MAE = {mean_absolute_error(y_pred, y_test)}')\n",
    "print(f'MAPE = {round(mean_absolute_percentage_error(y_pred, y_test) * 100, 2)}%')\n",
    "print(f'MSE = {mean_squared_error(y_pred, y_test)}')\n",
    "print(f'RMSE = {np.sqrt(mean_squared_error(y_pred, y_test))}')\n"
   ]
  },
  {
   "cell_type": "markdown",
   "metadata": {},
   "source": [
    "## Hyperparameter Tuning:"
   ]
  },
  {
   "cell_type": "markdown",
   "metadata": {},
   "source": [
    "### Tune k value with both metrics:"
   ]
  },
  {
   "cell_type": "code",
   "execution_count": 440,
   "metadata": {},
   "outputs": [],
   "source": [
    "errors_euclidean = []\n",
    "errors_manhattan = []\n",
    "\n",
    "for k in range(1, 51):\n",
    "    # Euclidean\n",
    "    knn_regressor_euclidean = KNN(k, \"euclidean\", \"regression\")\n",
    "    knn_regressor_euclidean.fit(X_train, y_train)\n",
    "    y_pred_euclidean = knn_regressor_euclidean.predict(X_test)\n",
    "    error_euclidean = np.sqrt(mean_squared_error(y_pred_euclidean, y_test))\n",
    "    errors_euclidean.append(error_euclidean)\n",
    "\n",
    "    # Manhattan\n",
    "    knn_regressor_manhattan = KNN(k, \"manhattan\", \"regression\")\n",
    "    knn_regressor_manhattan.fit(X_train, y_train)\n",
    "    y_pred_manhattan = knn_regressor_manhattan.predict(X_test)\n",
    "    error_manhattan = np.sqrt(mean_squared_error(y_pred_manhattan, y_test))\n",
    "    errors_manhattan.append(error_manhattan)"
   ]
  },
  {
   "cell_type": "code",
   "execution_count": 441,
   "metadata": {},
   "outputs": [
    {
     "data": {
      "image/png": "[encoded data removed]",
      "text/plain": [
       "<Figure size 640x480 with 1 Axes>"
      ]
     },
     "metadata": {},
     "output_type": "display_data"
    }
   ],
   "source": [
    "plt.plot(list(range(1, 51)), errors_euclidean, label='Euclidean', color='blue')\n",
    "plt.plot(list(range(1, 51)), errors_manhattan, label='Manhattan', color='orange')\n",
    "\n",
    "plt.xlabel('k')\n",
    "plt.ylabel('RMSE')\n",
    "plt.title('RMSE vs k for Euclidean and Manhattan distances')\n",
    "plt.legend()\n",
    "\n",
    "plt.grid(True)\n",
    "plt.show()"
   ]
  },
  {
   "cell_type": "markdown",
   "metadata": {},
   "source": [
    "> The best k is 1 and the best metric is *euclidean*! Let's use those!"
   ]
  },
  {
   "cell_type": "markdown",
   "metadata": {},
   "source": [
    "## Final Model and Predictions"
   ]
  },
  {
   "cell_type": "markdown",
   "metadata": {},
   "source": [
    "### Fit the model:"
   ]
  },
  {
   "cell_type": "code",
   "execution_count": 444,
   "metadata": {},
   "outputs": [],
   "source": [
    "knn_regressor_final = KNN(11, 'euclidean', 'regression')\n",
    "knn_regressor_final.fit(X_train, y_train)"
   ]
  },
  {
   "cell_type": "markdown",
   "metadata": {},
   "source": [
    "### Predict test data:"
   ]
  },
  {
   "cell_type": "code",
   "execution_count": 445,
   "metadata": {},
   "outputs": [
    {
     "data": {
      "text/plain": [
       "Text(0.5, 0, 'Whole weigth')"
      ]
     },
     "execution_count": 445,
     "metadata": {},
     "output_type": "execute_result"
    },
    {
     "data": {
      "image/png": "[encoded data removed]",
      "text/plain": [
       "<Figure size 640x480 with 1 Axes>"
      ]
     },
     "metadata": {},
     "output_type": "display_data"
    }
   ],
   "source": [
    "y_pred_final = knn_regressor_final.predict(X_test)\n",
    "\n",
    "plt.hist(y_pred_final, bins=10, color='blue')\n",
    "plt.title('Predictions Histogram')\n",
    "plt.xlabel('Whole weigth')"
   ]
  },
  {
   "cell_type": "markdown",
   "metadata": {},
   "source": [
    "### Calculate the predictions' scores:"
   ]
  },
  {
   "cell_type": "code",
   "execution_count": 446,
   "metadata": {},
   "outputs": [
    {
     "name": "stdout",
     "output_type": "stream",
     "text": [
      "Predictions Errors:\n",
      "MAE = 0.028397332607512253\n",
      "MAPE = 3.94%\n",
      "MSE = 0.0025916301355965753\n",
      "RMSE = 0.05090805570434384\n"
     ]
    }
   ],
   "source": [
    "print(\"Predictions Errors:\")\n",
    "\n",
    "print(f'MAE = {mean_absolute_error(y_pred_final, y_test)}')\n",
    "print(f'MAPE = {round(mean_absolute_percentage_error(y_pred_final, y_test) * 100, 2)}%')\n",
    "print(f'MSE = {mean_squared_error(y_pred_final, y_test)}')\n",
    "print(f'RMSE = {np.sqrt(mean_squared_error(y_pred_final, y_test))}')\n"
   ]
  },
  {
   "cell_type": "markdown",
   "metadata": {
    "id": "vU46VJ7BwBFa"
   },
   "source": [
    "# Pertanyaan"
   ]
  },
  {
   "cell_type": "markdown",
   "metadata": {
    "id": "cXy1ucFgwBFa"
   },
   "source": [
    "## 1. Apa saja pertimbangan yang harus diperhatikan dalam menentukan nilai k?\n",
    "   \n",
    "    \n",
    "> Yang pertama tentu adalah ukuran dataset, semakin besar ukuran dataset maka nilai k juga sebaiknya besar. Pada kasus klasifikasi, nilai k sebaiknya berupa bilangan ganjil sebagai upaya menghindari seri voting. Dan juga, pada kasus klasifikasi, jika dataset memiliki proporsi kelas target yang tidak seimbang, maka sebaiknya hati hati dalam menggunakan nilai k yang besar."
   ]
  },
  {
   "cell_type": "markdown",
   "metadata": {
    "id": "s8b61l6ywBFb"
   },
   "source": [
    "## 2. Untuk Classification dan Regression, bagaimana hasil percobaan antara menggunakan euclidean distance dan manhattan distance untuk nilai k yang sama? Apa yang menyebabkan hal tersebut terjadi?\n",
    "\n",
    "> Untuk task klasifikasi terdapat terdapat perbedaan signifikan yang cukup menarik, di mana manhattan memiliki akurasi yang lebih tinggi dibanding euclidean untuk hampir semua k di range 1 sampai 50. Hal ini disebabkan oleh karakteristik data itu sendiri, yang berarti terdapat ciri khas pada data yang menyebabkannya lebih cocok dengan metric manhattan dibanding euclidean"
   ]
  },
  {
   "cell_type": "markdown",
   "metadata": {
    "id": "5OCdqrLgwBFb"
   },
   "source": [
    "## 3. Untuk Classification dan Regression, berdasarkan hasil hyperparameter tuning, apa rumus jarak dan nilai k yang paling optimal? Apa performance metrics yang Anda gunakan? Jelaskan dengan menyertakan alasannya\n",
    "\n",
    "> Untuk klasifikasi, metric dan k yang paling optimal adalah metric *manhattan* dengan k = 9. Performance metric yang digunakan adalah accuracy, dikarenakan saya tidak mengetahui terkait hal penting penggunaan classifer pada kasus dataset, apakah penggunaan classifier ini lebih mementingkan menghindari FT atau FP. Walau begitu, f1 score juga bisa menjadi metric yang cocok pada kasus ini, melihat adanya ketidakseimbangan proporsi kelas target.\n",
    "\n",
    "> Untuk regresi, metric dan k yang paling optimal adalah metric *euclidean* dengan k = 11. Performance metric yang digunakan adalah RMSE, karena merupakan metric yang paling praktikal dalam menilai dan membandingkan model."
   ]
  },
  {
   "cell_type": "markdown",
   "metadata": {
    "id": "XAQtOt2BwBFb"
   },
   "source": [
    "## 4. Untuk Classification, apa variabel yang Anda pilih untuk memprediksi Class dari kerang Abalone? Jelaskan mengapa Anda memilih variabel tersebut\n",
    "\n",
    "> Saya menggunakan seluruh variabel seabagi features untuk task klasifikasi. Dikarenakan, semua variabel memiliki korelasi yang sama sama signifikan terhadap kelas target."
   ]
  },
  {
   "cell_type": "markdown",
   "metadata": {
    "id": "5-bH-J9RwBFc"
   },
   "source": [
    "## 5. Apa pertimbangan dalam memilih kNN dibandingkan dengan metode classification dan regression lainnya? Jelaskan juga pada saat kondisi apa metode classification dan regression dapat bekerja dengan lebih baik\n",
    "\n",
    "> KNN adalah algoritma sederhana yang sangat mudah diterapkan. KNN menggunakan mekanisme yang sangat sederhana namun powerful. KNN juga bekerja dengan baik dalam kasus non linear.\n",
    "> Kondisi yang diperlukan agar knn bisa bekerja dengan baik yaitu features yang berupa numeric dan scale setiap features yang sama satu sama lain."
   ]
  },
  {
   "cell_type": "markdown",
   "metadata": {
    "id": "_i07oQH6wBFc"
   },
   "source": [
    "## 6. Apa yang Anda ketahui tentang weighted k-NN?"
   ]
  },
  {
   "cell_type": "markdown",
   "metadata": {},
   "source": [
    "> KNN biasa menggunakan pendekatan majority vote, di mana kelas yang paling umum di antara neighbours terdekat menjadi prediksi. Namun, dalam weighted KNN, setiap neighbour diberikan bobot berdasarkan seberapa dekat mereka dengan titik yang diprediksi. Artinya, class yang memiliki jumlah mayoritas vote belum tentu menjadi hasil prediksi jika neighbour yang lebih dekat diberi bobot yang lebih tinggi.\n",
    "\n",
    ">Dengan kata lain, weighted K-NN memberikan perhatian lebih besar pada neighbour yang lebih dekat, sehingga mendorong prediksi untuk lebih memperhitungkan hubungan yang lebih erat dengan titik yang diprediksi. Hal ini dapat meningkatkan performa model terutama ketika sebagian neighbour memiliki pengaruh yang lebih signifikan dalam membuat prediksi."
   ]
  },
  {
   "cell_type": "markdown",
   "metadata": {},
   "source": []
  }
 ],
 "metadata": {
  "colab": {
   "provenance": []
  },
  "kernelspec": {
   "display_name": "Python 3 (ipykernel)",
   "language": "python",
   "name": "python3"
  },
  "language_info": {
   "codemirror_mode": {
    "name": "ipython",
    "version": 3
   },
   "file_extension": ".py",
   "mimetype": "text/x-python",
   "name": "python",
   "nbconvert_exporter": "python",
   "pygments_lexer": "ipython3",
   "version": "3.11.3"
  }
 },
 "nbformat": 4,
 "nbformat_minor": 1
}
